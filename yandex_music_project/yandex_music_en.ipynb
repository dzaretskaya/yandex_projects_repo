{
 "cells": [
  {
   "cell_type": "markdown",
   "metadata": {
    "deletable": false,
    "editable": false,
    "id": "E0vqbgi9ay0H"
   },
   "source": [
    "# Yandex Music"
   ]
  },
  {
   "cell_type": "markdown",
   "metadata": {
    "deletable": false,
    "editable": false,
    "id": "VUC88oWjTJw2"
   },
   "source": [
    "This project compares the behavior of Yandex Music users in the two cities of Moscow and St. Petersburg.\n",
    "\n",
    "**The purpose of the study** — test three hypotheses:\n",
    "1. User activity depends on the day of the week. Moreover, in Moscow and St. Petersburg, this manifests itself in different ways.\n",
    "2. On Monday morning, some genres prevail in Moscow, and others in St. Petersburg. Similarly, on Friday evening, different genres prevail — depending on the city.\n",
    "3. Moscow and St. Petersburg prefer different genres of music. In Moscow, pop music is more often listened to, in St. Petersburg - Russian rap.\n",
    "\n",
    "**Research progress**\n",
    "\n",
    "In the data review, before testing hypotheses, we will check the data for errors and evaluate their impact on the study. Then, at the preprocessing stage, we will find an opportunity to correct the most critical data errors.\n",
    "\n",
    "Thus, the study takes place in three stages:\n",
    " 1. Data overview.\n",
    " 2. Data preprocessing.\n",
    " 3. Hypothesis testing."
   ]
  },
  {
   "cell_type": "markdown",
   "metadata": {
    "deletable": false,
    "editable": false,
    "id": "Ml1hmfXC_Zcs"
   },
   "source": [
    "## Data overview\n",
    "\n",
    "Let's make a first impression of the Yandex Music data."
   ]
  },
  {
   "cell_type": "markdown",
   "metadata": {
    "deletable": false,
    "editable": false,
    "id": "57eAOGIz_Zcs",
    "tags": [
     "start_task"
    ]
   },
   "source": [
    "Importing the library — `pandas`:"
   ]
  },
  {
   "cell_type": "code",
   "execution_count": 38,
   "metadata": {
    "deletable": false,
    "id": "AXN7PHPN_Zcs",
    "ExecuteTime": {
     "end_time": "2023-11-24T16:59:33.842549900Z",
     "start_time": "2023-11-24T16:59:33.519252Z"
    }
   },
   "outputs": [],
   "source": [
    "import pandas as pd # importing the pandas library"
   ]
  },
  {
   "cell_type": "markdown",
   "metadata": {
    "deletable": false,
    "editable": false,
    "id": "SG23P8tt_Zcs",
    "tags": [
     "start_task"
    ]
   },
   "source": [
    "Let's read — `datasets` and save it in the variable — `df`:"
   ]
  },
  {
   "cell_type": "code",
   "execution_count": 39,
   "metadata": {
    "deletable": false,
    "id": "fFVu7vqh_Zct",
    "ExecuteTime": {
     "end_time": "2023-11-24T16:59:34.010865400Z",
     "start_time": "2023-11-24T16:59:33.843586200Z"
    }
   },
   "outputs": [],
   "source": [
    "df = pd.read_csv('yandex_music_dataset.csv') # reading a data file and saving it to dfm"
   ]
  },
  {
   "cell_type": "markdown",
   "source": [
    "Let's display the first ten rows of the table:"
   ],
   "metadata": {
    "deletable": false,
    "editable": false,
    "id": "rDoOMd3uTqnZ",
    "tags": [
     "start_task"
    ]
   }
  },
  {
   "cell_type": "code",
   "execution_count": null,
   "outputs": [],
   "source": [
    "print(df.head(10)) # getting the first 10 rows of the df table"
   ],
   "metadata": {
    "collapsed": false
   }
  },
  {
   "cell_type": "markdown",
   "source": [
    "| user_id | track | artist           | genre | city | time | day |\n",
    "|---|---|------------------|---|---|---|---|\n",
    "| FFB692EC | Kamigata To Boots | The Mass Missile | rock | Saint-Petersburg | 20:28:33 | Wednesday |\n",
    "| 55204538 | Delayed Because of Accident | Andreas Rönnberg | rock | Moscow | 14:07:09 | Friday |\n",
    "| 20EC38 | Funiculì funiculà | Mario Lanza      | pop | Saint-Petersburg | 20:58:07 | Wednesday |\n",
    "| A3DD03C9 | Dragons in the Sunset | Fire + Ice       | folk | Saint-Petersburg | 08:37:09 | Monday |\n",
    "| E2DC1FAE | Soul People | Space Echo       | dance | Moscow | 08:34:34 | Monday |\n",
    "| 842029A1 | Преданная | IMPERVTOR        | rusrap | Saint-Petersburg | 13:09:41 | Friday |\n",
    "| 4CB90AA5 | True | Roman Messer     | dance            | Moscow | 13:00:07 | Wednesday |\n",
    "| F03E1C1F | Feeling This Way | Polina Griffith  | dance | Moscow | 20:47:49 | Wednesday |\n",
    "| 8FA1D3BE | И вновь продолжается бой | unknown          | ruspop | Moscow | 09:17:40 | Friday |\n",
    "| E772D5C0 | Pessimist | unknown          | dance | Saint-Petersburg | 21:20:49 | Wednesday |\n"
   ],
   "metadata": {
    "collapsed": false
   }
  },
  {
   "cell_type": "markdown",
   "metadata": {
    "deletable": false,
    "editable": false,
    "id": "EO73Kwic_Zct",
    "tags": [
     "start_task"
    ]
   },
   "source": [
    "Get general information about the table using the method — `info()`:"
   ]
  },
  {
   "cell_type": "code",
   "execution_count": null,
   "metadata": {
    "deletable": false,
    "id": "DSf2kIb-_Zct"
   },
   "outputs": [],
   "source": [
    "df.info() # getting general information about the data in the df table"
   ]
  },
  {
   "cell_type": "markdown",
   "source": [
    "| | |\n",
    "| --- | --- |\n",
    "| **Column** | **Non-Null Count** | **Dtype** |\n",
    "| --- | --- | --- |\n",
    "| user_id | 61253 | object |\n",
    "| track | 61253 | object |\n",
    "| artist | 61253 | object |\n",
    "| genre | 61253 | object |\n",
    "| city | 61253 | object |\n",
    "| time | 61253 | object |\n",
    "| day | 61253 | object |\n",
    "| --- | --- | --- |\n",
    "| **dtypes:** object(7) | **memory usage:** 3.7+ MB |"
   ],
   "metadata": {
    "collapsed": false
   }
  },
  {
   "cell_type": "markdown",
   "metadata": {
    "deletable": false,
    "editable": false,
    "id": "TaQ2Iwbr_Zct"
   },
   "source": [
    "So, there are seven columns in the table. Data type in all columns — `object`.\n",
    "\n",
    "The number of values in the columns varies. So there are missing values in the data."
   ]
  },
  {
   "cell_type": "markdown",
   "metadata": {
    "deletable": false,
    "editable": false,
    "id": "MCB6-dXG_Zct"
   },
   "source": [
    "**Conclusions**\n",
    "\n",
    "In each row of the table — data about the listened track. Part of the columns describes the composition itself: name, artist and genre. The rest of the data tells about the user: what city he is from, when he listened to music.\n",
    "\n",
    "Previously, it can be argued that there is enough data to test hypotheses. But there are gaps in the data, and in the column names there are discrepancies with an easy-to-read style.\n",
    "\n",
    "To move on, let's fix the problems in the data."
   ]
  },
  {
   "cell_type": "markdown",
   "metadata": {
    "deletable": false,
    "editable": false,
    "id": "SjYF6Ub9_Zct"
   },
   "source": [
    "## Data preprocessing\n",
    "Let's fix the style in the column headers, eliminate omissions. Then we will check the data for duplicates."
   ]
  },
  {
   "cell_type": "markdown",
   "metadata": {
    "deletable": false,
    "editable": false,
    "id": "dIaKXr29_Zct",
    "tags": [
     "start_task"
    ]
   },
   "source": [
    "### Header style\n",
    "\n",
    "Let's display the column names on the screen:"
   ]
  },
  {
   "cell_type": "code",
   "execution_count": null,
   "metadata": {
    "deletable": false,
    "id": "oKOTdF_Q_Zct"
   },
   "outputs": [],
   "source": [
    "print(df.columns) # list of column names in the df table"
   ]
  },
  {
   "cell_type": "markdown",
   "source": [
    "Index(['  userID', 'Track', 'artist', 'genre', '  City  ', 'time', 'Day'], dtype='object')"
   ],
   "metadata": {
    "collapsed": false
   }
  },
  {
   "cell_type": "markdown",
   "metadata": {
    "deletable": false,
    "editable": false,
    "id": "zj5534cv_Zct",
    "tags": [
     "start_task"
    ]
   },
   "source": [
    "Let's bring the names to an easy-to-read style:\n",
    "* we will write it down in the \"snake register\";\n",
    "* we will make all characters lowercase;\n",
    "* eliminate the gaps.\n",
    "\n",
    "To do this, rename the columns as follows:\n",
    "* `'  userID'` → `'user_id'`;\n",
    "* `'Track'` → `'track'`;\n",
    "* `'  City  '` → `'city'`;\n",
    "* `'Day'` → `'day'`."
   ]
  },
  {
   "cell_type": "code",
   "execution_count": 43,
   "metadata": {
    "deletable": false,
    "id": "ISlFqs5y_Zct",
    "ExecuteTime": {
     "end_time": "2023-11-24T16:59:34.177817200Z",
     "start_time": "2023-11-24T16:59:34.038530900Z"
    }
   },
   "outputs": [],
   "source": [
    "df = df.rename(columns={'  userID': 'user_id', 'Track': 'track', '  City  ': 'city', 'Day': 'day'}) # renaming columns"
   ]
  },
  {
   "cell_type": "markdown",
   "metadata": {
    "deletable": false,
    "editable": false,
    "id": "1dqbh00J_Zct",
    "tags": [
     "start_task"
    ]
   },
   "source": [
    "Let's check the result. To do this, once again display the column names on the screen:"
   ]
  },
  {
   "cell_type": "code",
   "execution_count": null,
   "metadata": {
    "deletable": false,
    "id": "d4NOAmTW_Zct"
   },
   "outputs": [],
   "source": [
    "df.columns # checking the results - a list of column names"
   ]
  },
  {
   "cell_type": "markdown",
   "source": [
    "Index(['user_id', 'track', 'artist', 'genre', 'city', 'time', 'day'], dtype='object')"
   ],
   "metadata": {
    "collapsed": false
   }
  },
  {
   "cell_type": "markdown",
   "metadata": {
    "deletable": false,
    "editable": false,
    "id": "5ISfbcfY_Zct",
    "tags": [
     "start_task"
    ]
   },
   "source": [
    "### Missing values\n",
    "\n",
    "First, let's calculate how many missing values are in the table. Two methods are enough for this — `pandas`:"
   ]
  },
  {
   "cell_type": "code",
   "execution_count": null,
   "metadata": {
    "deletable": false,
    "id": "RskX29qr_Zct"
   },
   "outputs": [],
   "source": [
    "df.isna().sum() # counting passes"
   ]
  },
  {
   "cell_type": "markdown",
   "source": [
    "|  | &lt;unnamed&gt; |\n",
    "| :--- | :--- |\n",
    "| user\\_id | 0 |\n",
    "| track | 1231 |\n",
    "| artist | 7203 |\n",
    "| genre | 1198 |\n",
    "| city | 0 |\n",
    "| time | 0 |\n",
    "| day | 0 |"
   ],
   "metadata": {
    "collapsed": false
   }
  },
  {
   "cell_type": "markdown",
   "metadata": {
    "deletable": false,
    "editable": false,
    "id": "qubhgnlO_Zct"
   },
   "source": [
    "Not all missing values affect the study. So, in `track` and `artist`, omissions are not important for our work. It is enough to replace them with explicit designations.\n",
    "\n",
    "But omissions in `genre` may prevent comparing musical tastes in Moscow and St. Petersburg. In another project, it would be correct to establish the reason for the omissions and restore the data. There is no such possibility in this project. Therefore:\n",
    "* fill in these gaps with explicit notation;\n",
    "* let's assess how much they will damage the calculations."
   ]
  },
  {
   "cell_type": "markdown",
   "metadata": {
    "deletable": false,
    "editable": false,
    "id": "fSv2laPA_Zct",
    "tags": [
     "start_task"
    ]
   },
   "source": [
    "Replace the missing values in the columns `track`, `artist` and `genre` with the string `'unknown'`. To do this, create a list of `columns_to_replace`, iterate through its elements with a loop — `for` and replace the missing values for each column:"
   ]
  },
  {
   "cell_type": "code",
   "execution_count": 46,
   "metadata": {
    "deletable": false,
    "id": "KplB5qWs_Zct",
    "ExecuteTime": {
     "end_time": "2023-11-24T16:59:34.219600Z",
     "start_time": "2023-11-24T16:59:34.102189100Z"
    }
   },
   "outputs": [],
   "source": [
    "columns_to_replace = ['track', 'artist', 'genre']\n",
    "for columns in columns_to_replace:\n",
    "    df[columns] = df[columns].fillna('unknown') # iterating over column names in a loop and replacing missing values with 'unknown'"
   ]
  },
  {
   "cell_type": "markdown",
   "metadata": {
    "deletable": false,
    "editable": false,
    "id": "Ilsm-MZo_Zct",
    "tags": [
     "start_task"
    ]
   },
   "source": [
    "Let's make sure that there are no gaps left in the table. To do this, we will count the missing values again."
   ]
  },
  {
   "cell_type": "code",
   "execution_count": null,
   "metadata": {
    "deletable": false,
    "id": "Tq4nYRX4_Zct"
   },
   "outputs": [],
   "source": [
    "df.isna().sum() # counting passes"
   ]
  },
  {
   "cell_type": "markdown",
   "source": [
    "|  | &lt;unnamed&gt; |\n",
    "| :--- | :--- |\n",
    "| user\\_id | 0 |\n",
    "| track | 0 |\n",
    "| artist | 0 |\n",
    "| genre | 0 |\n",
    "| city | 0 |\n",
    "| time | 0 |\n",
    "| day | 0 |"
   ],
   "metadata": {
    "collapsed": false
   }
  },
  {
   "cell_type": "markdown",
   "metadata": {
    "deletable": false,
    "editable": false,
    "id": "BWKRtBJ3_Zct",
    "tags": [
     "start_task"
    ]
   },
   "source": [
    "### Duplicates\n",
    "\n",
    "Let's count the obvious duplicates in the table with one command:"
   ]
  },
  {
   "cell_type": "code",
   "execution_count": null,
   "metadata": {
    "deletable": false,
    "id": "36eES_S0_Zct"
   },
   "outputs": [],
   "source": [
    "df.duplicated().sum() # counting explicit duplicates"
   ]
  },
  {
   "cell_type": "markdown",
   "source": [
    "3826"
   ],
   "metadata": {
    "collapsed": false
   }
  },
  {
   "cell_type": "markdown",
   "metadata": {
    "deletable": false,
    "editable": false,
    "id": "Ot25h6XR_Zct",
    "tags": [
     "start_task"
    ]
   },
   "source": [
    "Let's call a special method — `pandas`, to remove explicit duplicates:"
   ]
  },
  {
   "cell_type": "code",
   "execution_count": 49,
   "metadata": {
    "deletable": false,
    "id": "exFHq6tt_Zct",
    "ExecuteTime": {
     "end_time": "2023-11-24T16:59:34.472715700Z",
     "start_time": "2023-11-24T16:59:34.351941Z"
    }
   },
   "outputs": [],
   "source": [
    "df = df.drop_duplicates() # removing explicit duplicates"
   ]
  },
  {
   "cell_type": "markdown",
   "metadata": {
    "deletable": false,
    "editable": false,
    "id": "Im2YwBEG_Zct",
    "tags": [
     "start_task"
    ]
   },
   "source": [
    "Once again, let's count the obvious duplicates in the table — we will make sure that we completely got rid of them:"
   ]
  },
  {
   "cell_type": "code",
   "execution_count": null,
   "metadata": {
    "deletable": false,
    "id": "-8PuNWQ0_Zct"
   },
   "outputs": [],
   "source": [
    "df.duplicated().sum() # checking for the absence of duplicates"
   ]
  },
  {
   "cell_type": "markdown",
   "source": [
    "0"
   ],
   "metadata": {
    "collapsed": false
   }
  },
  {
   "cell_type": "markdown",
   "metadata": {
    "deletable": false,
    "editable": false,
    "id": "QlFBsxAr_Zct"
   },
   "source": [
    "Now let's get rid of implicit duplicates in the column — `genre`. For example, the name of the same genre may be written a little differently. Such errors will also affect the result of our research."
   ]
  },
  {
   "cell_type": "markdown",
   "metadata": {
    "deletable": false,
    "editable": false,
    "id": "eSjWwsOh_Zct",
    "tags": [
     "start_task"
    ]
   },
   "source": [
    "Let's display a list of unique genre names, sorted alphabetically. To do this:\n",
    "* extract the desired dataframe column;\n",
    "* apply the sorting method to it;\n",
    "* for a sorted column, call a method that returns unique values from the column."
   ]
  },
  {
   "cell_type": "code",
   "execution_count": null,
   "metadata": {
    "deletable": false,
    "id": "JIUcqzZN_Zct"
   },
   "outputs": [],
   "source": [
    "df['genre'].sort_values().unique() # view unique genre names"
   ]
  },
  {
   "cell_type": "markdown",
   "metadata": {
    "deletable": false,
    "editable": false,
    "id": "qej-Qmuo_Zct",
    "tags": [
     "start_task"
    ]
   },
   "source": [
    "We look through the list and find implicit duplicates of the name — `hiphop`. These may be misspelled titles or alternative titles of the same genre.\n",
    "\n",
    "We observe the following implicit duplicates:\n",
    "* *hip*;\n",
    "* *hop*;\n",
    "* *hip-hop*.\n",
    "To clear the table of them, we use the method — `replace()` with two arguments: a list of duplicate strings (including *hip*, *hop*, and *hip-hop*) and a string with the correct value. Let's fix the `genre` column in the `df` table: replace each value from the list of duplicates, probably. Instead of `hip`, `hop` and `hip-hop`, the table should have the value `hiphop`:"
   ]
  },
  {
   "cell_type": "code",
   "execution_count": 52,
   "metadata": {
    "deletable": false,
    "id": "ErNDkmns_Zct",
    "ExecuteTime": {
     "end_time": "2023-11-24T16:59:34.561760800Z",
     "start_time": "2023-11-24T16:59:34.538781800Z"
    }
   },
   "outputs": [],
   "source": [
    "df['genre'] = df['genre'].replace('hip', 'hiphop')\n",
    "df['genre'] = df['genre'].replace('hop', 'hiphop')\n",
    "df['genre'] = df['genre'].replace('hip-hop', 'hiphop') # elimination of implicit duplicates"
   ]
  },
  {
   "cell_type": "markdown",
   "metadata": {
    "deletable": false,
    "editable": false,
    "id": "zQKF16_RG15m",
    "tags": [
     "start_task"
    ]
   },
   "source": [
    "Let's check that the wrong names have been replaced:\n",
    "\n",
    "*   *hip*;\n",
    "*   *hop*;\n",
    "*   *hip-hop*.\n",
    "\n",
    "Output a sorted list of unique column values — `genre`:"
   ]
  },
  {
   "cell_type": "code",
   "execution_count": null,
   "metadata": {
    "deletable": false,
    "id": "wvixALnFG15m"
   },
   "outputs": [],
   "source": [
    "df['genre'].sort_values().unique() # checking for implicit duplicates"
   ]
  },
  {
   "cell_type": "markdown",
   "metadata": {
    "deletable": false,
    "editable": false,
    "id": "jz6a9-7HQUDd"
   },
   "source": [
    "**Conclusions**\n",
    "\n",
    "Preprocessing found three problems in the data:\n",
    "\n",
    "- violations in the style of headlines;\n",
    "- missing values;\n",
    "- duplicates — explicit and implicit.\n",
    "\n",
    "We have corrected the headers to simplify working with the table. Without duplicates, the study will become more accurate.\n",
    "\n",
    "You replaced the missing values with — `unknown`. It remains to be seen whether omissions in the `genre` column will not harm the study.\n",
    "\n",
    "Now we turn to hypothesis testing."
   ]
  },
  {
   "cell_type": "markdown",
   "metadata": {
    "deletable": false,
    "editable": false,
    "id": "WttZHXH0SqKk"
   },
   "source": [
    "## Hypothesis testing"
   ]
  },
  {
   "cell_type": "markdown",
   "metadata": {
    "deletable": false,
    "editable": false,
    "id": "Im936VVi_Zcu"
   },
   "source": [
    "### Comparison of user behavior of two capitals"
   ]
  },
  {
   "cell_type": "markdown",
   "metadata": {
    "deletable": false,
    "editable": false,
    "id": "nwt_MuaL_Zcu"
   },
   "source": [
    "The first hypothesis states that users listen to music differently in Moscow and St. Petersburg. We check this assumption based on data on three days of the week — Monday, Wednesday and Friday. For this:\n",
    "\n",
    "* We will separate the users of Moscow and St. Petersburg.\n",
    "* Compare how many tracks each user group listened to on Monday, Wednesday and Friday."
   ]
  },
  {
   "cell_type": "markdown",
   "metadata": {
    "deletable": false,
    "editable": false,
    "id": "8Dw_YMmT_Zcu",
    "tags": [
     "start_task"
    ]
   },
   "source": [
    "We perform each of the calculations separately.\n",
    "\n",
    "We evaluate user activity in each city. We group the data by city and count the auditions in each group."
   ]
  },
  {
   "cell_type": "code",
   "execution_count": null,
   "metadata": {
    "deletable": false,
    "id": "0_Qs96oh_Zcu"
   },
   "outputs": [],
   "source": [
    "df.groupby('city')['user_id'].count() # counting auditions in each city"
   ]
  },
  {
   "cell_type": "markdown",
   "source": [
    "| <br/>city | user\\_id<br/> |\n",
    "| :--- | :--- |\n",
    "| Moscow | 42741 |\n",
    "| Saint-Petersburg | 18512 |\n",
    "\n",
    "There are more auditions in Moscow than in St. Petersburg. This does not mean that Moscow users listen to music more often. It's just that there are more users in Moscow."
   ],
   "metadata": {
    "collapsed": false
   }
  },
  {
   "cell_type": "markdown",
   "metadata": {
    "deletable": false,
    "editable": false,
    "id": "dzli3w8o_Zcu",
    "tags": [
     "start_task"
    ]
   },
   "source": [
    "Now we group the data by day of the week and count the auditions on Monday, Wednesday and Friday. Note that the data contains information about auditions only for these days."
   ]
  },
  {
   "cell_type": "code",
   "execution_count": null,
   "metadata": {
    "deletable": false,
    "id": "uZMKjiJz_Zcu"
   },
   "outputs": [],
   "source": [
    "df.groupby('day')['genre'].count() # counting auditions on each of the three days"
   ]
  },
  {
   "cell_type": "markdown",
   "source": [
    "| <br/>day | genre<br/> |\n",
    "| :--- | :--- |\n",
    "| Friday | 21840 |\n",
    "| Monday | 21354 |\n",
    "| Wednesday | 18059 |\n",
    "\n",
    "On average, users from two cities are less active on Wednesdays. But the picture may change if we consider each city separately."
   ],
   "metadata": {
    "collapsed": false
   }
  },
  {
   "cell_type": "markdown",
   "metadata": {
    "deletable": false,
    "editable": false,
    "id": "POzs8bGa_Zcu",
    "tags": [
     "start_task"
    ]
   },
   "source": [
    "Let's create a function — `number_tracks()`, which will count auditions for a given day and city. She will need two parameters:\n",
    "* day of the week;\n",
    "* name of the city.\n",
    "\n",
    "In the function, we save to a variable the rows of the source table, which have the value:\n",
    "* in the column `day` is equal to the parameter `day`;\n",
    "* in the column `city` is equal to the parameter `city`.\n",
    "\n",
    "To do this, we apply sequential filtering with logical indexing.\n",
    "\n",
    "Then we will calculate the values in the column — `user_id` of the resulting table. We will save the result to a new variable. Let's return this variable from the function."
   ]
  },
  {
   "cell_type": "code",
   "execution_count": 56,
   "metadata": {
    "deletable": false,
    "id": "Nz3GdQB1_Zcu",
    "ExecuteTime": {
     "end_time": "2023-11-24T16:59:34.734004200Z",
     "start_time": "2023-11-24T16:59:34.661904100Z"
    }
   },
   "outputs": [],
   "source": [
    "def number_tracks(day, city):\n",
    "    track_list = df[df['day'] == day]\n",
    "    track_list =  track_list[ track_list['city'] == city]\n",
    "    track_list_count = track_list['user_id'].count()\n",
    "    return(track_list_count)\n",
    "# A function for counting auditions for a specific city and day.\n",
    "# Using sequential filtering with logical indexing, it\n",
    "# # first get the rows with the desired day from the source table,\n",
    "# then it will filter out the rows with the desired city from the result,\n",
    "# will use the count() method to count the number of values in the user_id column.\n",
    "# This is the number the function will return as a result."
   ]
  },
  {
   "cell_type": "markdown",
   "metadata": {
    "deletable": false,
    "editable": false,
    "id": "ytf7xFrFJQ2r",
    "tags": [
     "start_task"
    ]
   },
   "source": [
    "Let's call — `number_tracks()` six times, changing the value of the parameters — to get data for each city on each of the three days."
   ]
  },
  {
   "cell_type": "code",
   "execution_count": null,
   "metadata": {
    "deletable": false,
    "id": "rJcRATNQ_Zcu"
   },
   "outputs": [],
   "source": [
    "number_tracks('Monday', 'Moscow') # the number of auditions in Moscow on Mondays"
   ]
  },
  {
   "cell_type": "markdown",
   "source": [
    "15740"
   ],
   "metadata": {
    "collapsed": false
   }
  },
  {
   "cell_type": "code",
   "execution_count": null,
   "metadata": {
    "deletable": false,
    "id": "hq_ncZ5T_Zcu"
   },
   "outputs": [],
   "source": [
    "number_tracks('Monday', 'Saint-Petersburg') # the number of auditions in St. Petersburg on Mondays"
   ]
  },
  {
   "cell_type": "markdown",
   "source": [
    "5614"
   ],
   "metadata": {
    "collapsed": false
   }
  },
  {
   "cell_type": "code",
   "execution_count": null,
   "metadata": {
    "deletable": false,
    "id": "_NTy2VPU_Zcu"
   },
   "outputs": [],
   "source": [
    "number_tracks('Wednesday', 'Moscow') # number of auditions in Moscow on Wednesdays"
   ]
  },
  {
   "cell_type": "markdown",
   "source": [
    "11056"
   ],
   "metadata": {
    "collapsed": false
   }
  },
  {
   "cell_type": "code",
   "execution_count": null,
   "metadata": {
    "deletable": false,
    "id": "j2y3TAwo_Zcu"
   },
   "outputs": [],
   "source": [
    "number_tracks('Wednesday', 'Saint-Petersburg') # number of auditions in St. Petersburg on Wednesdays"
   ]
  },
  {
   "cell_type": "markdown",
   "source": [
    "7003"
   ],
   "metadata": {
    "collapsed": false
   }
  },
  {
   "cell_type": "code",
   "execution_count": null,
   "metadata": {
    "deletable": false,
    "id": "vYDw5u_K_Zcu"
   },
   "outputs": [],
   "source": [
    "number_tracks('Friday', 'Moscow') # number of auditions in Moscow on Fridays"
   ]
  },
  {
   "cell_type": "markdown",
   "source": [
    "15945"
   ],
   "metadata": {
    "collapsed": false
   }
  },
  {
   "cell_type": "code",
   "execution_count": null,
   "metadata": {
    "deletable": false,
    "id": "8_yzFtW3_Zcu"
   },
   "outputs": [],
   "source": [
    "number_tracks('Friday', 'Saint-Petersburg') # number of auditions in St. Petersburg on Fridays"
   ]
  },
  {
   "cell_type": "markdown",
   "source": [
    "5895"
   ],
   "metadata": {
    "collapsed": false
   }
  },
  {
   "cell_type": "markdown",
   "metadata": {
    "deletable": false,
    "editable": false,
    "id": "7QXffbO-_Zcu",
    "tags": [
     "start_task"
    ]
   },
   "source": [
    "Using the constructor — `pd.DataFrame` we will create a table where\n",
    "* column names — `['city', 'monday', 'wednesday', 'friday']`;\n",
    "* data — the results we got using `number_tracks`."
   ]
  },
  {
   "cell_type": "code",
   "execution_count": 63,
   "metadata": {
    "deletable": false,
    "id": "APAcLpOr_Zcu",
    "ExecuteTime": {
     "end_time": "2023-11-24T16:59:35.013794600Z",
     "start_time": "2023-11-24T16:59:34.988427800Z"
    }
   },
   "outputs": [],
   "source": [
    "data = [['Moscow', 15740, 11056, 15945],\n",
    "        ['Saint-Petersburg', 5614, 7003, 5895]] \n",
    "columns = ['city', 'monday', 'wednesday', 'friday'] \n",
    "info = pd.DataFrame(data = data, columns = columns) # Results table"
   ]
  },
  {
   "cell_type": "markdown",
   "metadata": {
    "deletable": false,
    "editable": false,
    "id": "-EgPIHYu_Zcu"
   },
   "source": [
    "**Conclusions**\n",
    "\n",
    "The data shows the difference in user behavior:\n",
    "\n",
    "- In Moscow, the peak of auditions falls on Monday and Friday, and on Wednesday there is a noticeable decline.\n",
    "- In St. Petersburg, on the contrary, they listen to music more on Wednesdays. Activity on Monday and Friday here is almost equally inferior to Wednesday.\n",
    "\n",
    "So, the data speak in favor of the first hypothesis."
   ]
  },
  {
   "cell_type": "markdown",
   "metadata": {
    "deletable": false,
    "editable": false,
    "id": "atZAxtq4_Zcu"
   },
   "source": [
    "### Music at the beginning and end of the week"
   ]
  },
  {
   "cell_type": "markdown",
   "metadata": {
    "deletable": false,
    "editable": false,
    "id": "eXrQqXFH_Zcu"
   },
   "source": [
    "According to the second hypothesis, some genres prevail in Moscow on Monday morning, and others in St. Petersburg. Similarly, on Friday evening, different genres prevail — depending on the city."
   ]
  },
  {
   "cell_type": "markdown",
   "metadata": {
    "deletable": false,
    "editable": false,
    "id": "S8UcW6Hw_Zcu",
    "tags": [
     "start_task"
    ]
   },
   "source": [
    "Let's save tables with data in two variables:\n",
    "* in Moscow — in `moscow_general`;\n",
    "* in Saint Petersburg — in `spb_general`."
   ]
  },
  {
   "cell_type": "code",
   "execution_count": 64,
   "metadata": {
    "deletable": false,
    "id": "qeaFfM_P_Zcu",
    "ExecuteTime": {
     "end_time": "2023-11-24T16:59:35.065779400Z",
     "start_time": "2023-11-24T16:59:35.013794600Z"
    }
   },
   "outputs": [],
   "source": [
    "moscow_general = df[df['city'] == 'Moscow'] # getting the moscow_general table from those rows of the df table,\n",
    "# for which the value in the 'city' column is 'Moscow'"
   ]
  },
  {
   "cell_type": "code",
   "execution_count": 65,
   "metadata": {
    "deletable": false,
    "id": "ORaVRKto_Zcu",
    "ExecuteTime": {
     "end_time": "2023-11-24T16:59:35.066779200Z",
     "start_time": "2023-11-24T16:59:35.035470300Z"
    }
   },
   "outputs": [],
   "source": [
    "spb_general = df[df['city'] == 'Saint-Petersburg'] \n",
    "# getting the spb_general table from those rows of the df table,\n",
    "# for which the value in the 'city' column is 'Saint-Petersburg'"
   ]
  },
  {
   "cell_type": "markdown",
   "metadata": {
    "deletable": false,
    "id": "MEJV-CX2_Zcu",
    "tags": [
     "start_task"
    ]
   },
   "source": [
    "Let's create a function `genre_weekday()` with four parameters:\n",
    "* table (dataframe) with data;\n",
    "* day of the week;\n",
    "* initial timestamp in the format 'hh:mm';\n",
    "* the last timestamp in the format 'hh:mm'.\n",
    "\n",
    "The function should return information about the top 10 genres of those tracks that were listened to on the specified day, in the interval between two timestamps."
   ]
  },
  {
   "cell_type": "code",
   "execution_count": 66,
   "metadata": {
    "deletable": false,
    "id": "laJT9BYl_Zcu",
    "ExecuteTime": {
     "end_time": "2023-11-24T16:59:35.106481800Z",
     "start_time": "2023-11-24T16:59:35.069936800Z"
    }
   },
   "outputs": [],
   "source": [
    "def genre_weekday(df, day, time1, time2):\n",
    "    # sequential filtering\n",
    "    # we leave in genre_df only those lines of df whose day is day\n",
    "    genre_df = df[df['day'] == day]\n",
    "    # we leave in genre_df only those genre_df lines whose time is less than time2\n",
    "    genre_df = genre_df[genre_df['time'] < time2]\n",
    "    # we leave in genre_df only those lines of genre_df whose time is greater than time1\n",
    "    genre_df = genre_df[genre_df['time'] > time1]\n",
    "    # group the filtered dataframe by a column with genre names, take the genre column and count the number of rows for each genre using the count() method\n",
    "    genre_df_grouped = genre_df.groupby('genre')['genre'].count()\n",
    "    # sort the result in descending order (so that the most popular genres appear at the beginning of the Series)\n",
    "    genre_df_sorted =  genre_df_grouped.sort_values(ascending=False)\n",
    "    # we will return a Series with the 10 most popular genres in the specified time period of a given day\n",
    "    return genre_df_sorted[:10]"
   ]
  },
  {
   "cell_type": "markdown",
   "metadata": {
    "deletable": false,
    "editable": false,
    "id": "la2s2_PF_Zcu",
    "tags": [
     "start_task"
    ]
   },
   "source": [
    "Let's compare the results of the `genre_weekday()` function for Moscow and St. Petersburg on Monday morning (from 7:00 to 11:00) and Friday evening (from 17:00 to 23:00):"
   ]
  },
  {
   "cell_type": "code",
   "execution_count": null,
   "metadata": {
    "deletable": false,
    "id": "yz7itPUQ_Zcu"
   },
   "outputs": [],
   "source": [
    "genre_weekday(moscow_general, 'Monday', '07:00', '11:00')\n",
    "# function call for Monday morning in Moscow (instead of df — moscow_general table)"
   ]
  },
  {
   "cell_type": "markdown",
   "source": [
    "| <br/>genre | genre<br/> |\n",
    "| :--- | :--- |\n",
    "| pop | 781 |\n",
    "| dance | 549 |\n",
    "| electronic | 480 |\n",
    "| rock | 474 |\n",
    "| hiphop | 286 |\n",
    "| ruspop | 186 |\n",
    "| world | 181 |\n",
    "| rusrap | 175 |\n",
    "| alternative | 164 |\n",
    "| unknown | 161 |"
   ],
   "metadata": {
    "collapsed": false
   }
  },
  {
   "cell_type": "code",
   "execution_count": null,
   "metadata": {
    "deletable": false,
    "id": "kwUcHPdy_Zcu"
   },
   "outputs": [],
   "source": [
    "genre_weekday(spb_general, 'Monday', '07:00', '11:00') \n",
    "# function call for Monday morning in St. Petersburg (spb_general table instead of df)"
   ]
  },
  {
   "cell_type": "markdown",
   "source": [
    "| <br/>genre | genre<br/> |\n",
    "| :--- | :--- |\n",
    "| pop | 218 |\n",
    "| dance | 182 |\n",
    "| rock | 162 |\n",
    "| electronic | 147 |\n",
    "| hiphop | 80 |\n",
    "| ruspop | 64 |\n",
    "| alternative | 58 |\n",
    "| rusrap | 55 |\n",
    "| jazz | 44 |\n",
    "| classical | 40 |"
   ],
   "metadata": {
    "collapsed": false
   }
  },
  {
   "cell_type": "code",
   "execution_count": null,
   "metadata": {
    "deletable": false,
    "id": "EzXVRE1o_Zcu"
   },
   "outputs": [],
   "source": [
    "genre_weekday(moscow_general, 'Friday', '17:00', '23:00') \n",
    "# function call for Friday evening in Moscow"
   ]
  },
  {
   "cell_type": "markdown",
   "source": [
    "| <br/>genre | genre<br/> |\n",
    "| :--- | :--- |\n",
    "| pop | 713 |\n",
    "| rock | 517 |\n",
    "| dance | 495 |\n",
    "| electronic | 482 |\n",
    "| hiphop | 273 |\n",
    "| world | 208 |\n",
    "| ruspop | 170 |\n",
    "| alternative | 163 |\n",
    "| classical | 163 |\n",
    "| rusrap | 142 |"
   ],
   "metadata": {
    "collapsed": false
   }
  },
  {
   "cell_type": "code",
   "execution_count": null,
   "metadata": {
    "deletable": false,
    "id": "JZaEKu5v_Zcu"
   },
   "outputs": [],
   "source": [
    "genre_weekday(spb_general, 'Friday', '17:00', '23:00') \n",
    "# function call for Friday evening in St. Petersburg"
   ]
  },
  {
   "cell_type": "markdown",
   "source": [
    "| <br/>genre | genre<br/> |\n",
    "| :--- | :--- |\n",
    "| pop | 256 |\n",
    "| electronic | 216 |\n",
    "| rock | 216 |\n",
    "| dance | 210 |\n",
    "| hiphop | 97 |\n",
    "| alternative | 63 |\n",
    "| jazz | 61 |\n",
    "| classical | 60 |\n",
    "| rusrap | 59 |\n",
    "| world | 54 |"
   ],
   "metadata": {
    "collapsed": false
   }
  },
  {
   "cell_type": "markdown",
   "metadata": {
    "deletable": false,
    "editable": false,
    "id": "wrCe4MNX_Zcu"
   },
   "source": [
    "**Conclusions**\n",
    "\n",
    "If we compare the top 10 genres on Monday morning, we can draw the following conclusions:\n",
    "\n",
    "1. In Moscow and St. Petersburg, they listen to similar music. The only difference is that the “world” genre entered the Moscow rating, and jazz and classical music entered the St. Petersburg rating.\n",
    "\n",
    "2. In Moscow, there were so many missing values that the value — `unknown` took the tenth place among the most popular genres. This means that the missing values occupy a significant share in the data and threaten the reliability of the study.\n",
    "\n",
    "Friday night doesn't change that picture. Some genres rise a little higher, others go down, but overall the top 10 remains the same.\n",
    "\n",
    "Thus, the second hypothesis was only partially confirmed:\n",
    "* Users listen to similar music at the beginning of the week and at the end.\n",
    "* The difference between Moscow and St. Petersburg is not too pronounced. In Moscow, they listen to Russian popular music more often, in St. Petersburg — jazz.\n",
    "\n",
    "However, omissions in the data cast doubt on this result. There are so many of them in Moscow that the top-10 rating could look different if not for the lost data on genres."
   ]
  },
  {
   "cell_type": "markdown",
   "metadata": {
    "deletable": false,
    "editable": false,
    "id": "JolODAqr_Zcu"
   },
   "source": [
    "### Genre preferences in Moscow and St. Petersburg\n",
    "\n",
    "Hypothesis: St. Petersburg is the capital of rap, music of this genre is listened to there more often than in Moscow.  And Moscow is a city of contrasts, in which, nevertheless, pop music prevails."
   ]
  },
  {
   "cell_type": "markdown",
   "metadata": {
    "deletable": false,
    "editable": false,
    "id": "DlegSvaT_Zcu",
    "tags": [
     "start_task"
    ]
   },
   "source": [
    "Let's group the table — `moscow_general` by genre and count the listening of tracks of each genre by the method — `count()`. Then sort the result in descending order and save it in the table — `moscow_genres`."
   ]
  },
  {
   "cell_type": "code",
   "execution_count": 71,
   "metadata": {
    "deletable": false,
    "id": "r19lIPke_Zcu",
    "ExecuteTime": {
     "end_time": "2023-11-24T16:59:35.303679200Z",
     "start_time": "2023-11-24T16:59:35.243078900Z"
    }
   },
   "outputs": [],
   "source": [
    "moscow_genres = moscow_general.groupby('genre')['genre'].count().sort_values(ascending=False) \n",
    "# one row: grouping the moscow_general table by the 'genre' column,\n",
    "# counting the number of 'genre' values in this grouping by the count() method,\n",
    "# sorting the resulting Series in descending order and saving to moscow_genres"
   ]
  },
  {
   "cell_type": "markdown",
   "metadata": {
    "deletable": false,
    "editable": false,
    "id": "6kMuomxTiIr8",
    "tags": [
     "start_task"
    ]
   },
   "source": [
    "Let's display the first ten lines — `moscow_genres`:"
   ]
  },
  {
   "cell_type": "code",
   "execution_count": null,
   "metadata": {
    "deletable": false,
    "id": "WhCSooF8_Zcv"
   },
   "outputs": [],
   "source": [
    "moscow_genres.head(10) # viewing the first 10 rows of moscow_genres"
   ]
  },
  {
   "cell_type": "markdown",
   "source": [
    "| <br/>genre | genre<br/> |\n",
    "| :--- | :--- |\n",
    "| pop | 5892 |\n",
    "| dance | 4435 |\n",
    "| rock | 3965 |\n",
    "| electronic | 3786 |\n",
    "| hiphop | 2096 |\n",
    "| classical | 1616 |\n",
    "| world | 1432 |\n",
    "| alternative | 1379 |\n",
    "| ruspop | 1372 |\n",
    "| rusrap | 1161 |"
   ],
   "metadata": {
    "collapsed": false
   }
  },
  {
   "cell_type": "markdown",
   "metadata": {
    "deletable": false,
    "editable": false,
    "id": "cnPG2vnN_Zcv",
    "tags": [
     "start_task"
    ]
   },
   "source": [
    "Now let's repeat the same for St. Petersburg.\n",
    "\n",
    "Let's group the table — `spb_general` by genre. Let's count the listening tracks of each genre. We will sort the result in descending order and save it in the `spb_genres` table:\n"
   ]
  },
  {
   "cell_type": "code",
   "execution_count": 73,
   "metadata": {
    "deletable": false,
    "id": "gluLIpE7_Zcv",
    "ExecuteTime": {
     "end_time": "2023-11-24T16:59:35.382191300Z",
     "start_time": "2023-11-24T16:59:35.321696Z"
    }
   },
   "outputs": [],
   "source": [
    "spb_genres = spb_general.groupby('genre')['genre'].count().sort_values(ascending=False) \n",
    "# single row: grouping the spb_general table by the 'genre' column,\n",
    "# counting the number of 'genre' values in this grouping by the count() method,\n",
    "# sorting the resulting Series in descending order and saving to spb_genres"
   ]
  },
  {
   "cell_type": "markdown",
   "metadata": {
    "deletable": false,
    "editable": false,
    "id": "5Doha_ODgyQ8",
    "tags": [
     "start_task"
    ]
   },
   "source": [
    "Let's display the first ten lines — `spb_genres`:"
   ]
  },
  {
   "cell_type": "code",
   "execution_count": null,
   "metadata": {
    "deletable": false,
    "id": "uaGJHjVU_Zcv"
   },
   "outputs": [],
   "source": [
    "spb_genres.head(10) # viewing the first 10 rows of spb_genres"
   ]
  },
  {
   "cell_type": "markdown",
   "source": [
    "| <br/>genre | genre<br/> |\n",
    "| :--- | :--- |\n",
    "| pop | 2431 |\n",
    "| dance | 1932 |\n",
    "| rock | 1879 |\n",
    "| electronic | 1736 |\n",
    "| hiphop | 960 |\n",
    "| alternative | 649 |\n",
    "| classical | 646 |\n",
    "| rusrap | 564 |\n",
    "| ruspop | 538 |\n",
    "| world | 515 |"
   ],
   "metadata": {
    "collapsed": false
   }
  },
  {
   "cell_type": "markdown",
   "metadata": {
    "deletable": false,
    "editable": false,
    "id": "RY51YJYu_Zcv"
   },
   "source": [
    "**Conclusions**"
   ]
  },
  {
   "cell_type": "markdown",
   "metadata": {
    "deletable": false,
    "editable": false,
    "id": "nVhnJEm__Zcv"
   },
   "source": [
    "The hypothesis was partially confirmed:\n",
    "* Pop music is the most popular genre in Moscow, as the hypothesis suggested. Moreover, in the top 10 genres there is a similar genre - Russian popular music.\n",
    "* Contrary to expectations, rap is equally popular in Moscow and St. Petersburg."
   ]
  },
  {
   "cell_type": "markdown",
   "metadata": {
    "deletable": false,
    "editable": false,
    "id": "ykKQ0N65_Zcv"
   },
   "source": [
    "## Results of the study"
   ]
  },
  {
   "cell_type": "markdown",
   "metadata": {
    "deletable": false,
    "editable": false,
    "id": "tjUwbHb3_Zcv"
   },
   "source": [
    "We tested three hypotheses and established:\n",
    "\n",
    "1. The day of the week has different effects on user activity in Moscow and St. Petersburg.\n",
    "\n",
    "The first hypothesis was fully confirmed.\n",
    "\n",
    "2. Musical preferences do not change much during the week — whether it is Moscow or St. Petersburg. Small differences are noticeable at the beginning of the week, on Mondays:\n",
    "* in Moscow, they listen to music of the “world” genre;\n",
    "* in St. Petersburg — jazz and classics.\n",
    "\n",
    "Thus, the second hypothesis was only partially confirmed. This result could have been different if not for the omissions in the data.\n",
    "\n",
    "3. The tastes of users in Moscow and St. Petersburg have more in common than differences. Contrary to expectations, genre preferences in St. Petersburg resemble those in Moscow.\n",
    "\n",
    "The third hypothesis was not confirmed. If there are differences in preferences, they are invisible to the majority of users."
   ]
  }
 ],
 "metadata": {
  "ExecuteTimeLog": [
   {
    "duration": 406,
    "start_time": "2023-10-27T15:15:46.233Z"
   },
   {
    "duration": 128,
    "start_time": "2023-10-27T15:23:19.602Z"
   },
   {
    "duration": 190,
    "start_time": "2023-10-27T15:25:21.739Z"
   },
   {
    "duration": 181,
    "start_time": "2023-10-27T15:25:24.585Z"
   },
   {
    "duration": 31,
    "start_time": "2023-10-27T15:28:12.913Z"
   },
   {
    "duration": 3,
    "start_time": "2023-10-27T15:32:28.623Z"
   },
   {
    "duration": 28,
    "start_time": "2023-10-27T15:34:58.547Z"
   },
   {
    "duration": 30,
    "start_time": "2023-10-27T16:02:17.615Z"
   },
   {
    "duration": 77,
    "start_time": "2023-10-27T16:04:29.782Z"
   },
   {
    "duration": 9,
    "start_time": "2023-10-27T16:05:48.762Z"
   },
   {
    "duration": 3,
    "start_time": "2023-10-27T16:06:17.933Z"
   },
   {
    "duration": 3,
    "start_time": "2023-10-27T16:06:19.869Z"
   },
   {
    "duration": 5,
    "start_time": "2023-10-27T16:08:07.224Z"
   },
   {
    "duration": 3,
    "start_time": "2023-10-27T16:08:15.319Z"
   },
   {
    "duration": 182,
    "start_time": "2023-10-27T16:08:19.076Z"
   },
   {
    "duration": 7,
    "start_time": "2023-10-27T16:08:21.883Z"
   },
   {
    "duration": 2,
    "start_time": "2023-10-27T16:08:27.836Z"
   },
   {
    "duration": 1338,
    "start_time": "2023-10-27T16:08:38.353Z"
   },
   {
    "duration": 36,
    "start_time": "2023-10-27T16:08:50.691Z"
   },
   {
    "duration": 68,
    "start_time": "2023-10-27T16:09:25.818Z"
   },
   {
    "duration": 73,
    "start_time": "2023-10-27T16:09:55.503Z"
   },
   {
    "duration": 72,
    "start_time": "2023-10-27T16:10:21.831Z"
   },
   {
    "duration": 79,
    "start_time": "2023-10-27T16:11:59.935Z"
   },
   {
    "duration": 80,
    "start_time": "2023-10-27T16:16:31.805Z"
   },
   {
    "duration": 74,
    "start_time": "2023-10-27T16:17:25.668Z"
   },
   {
    "duration": 66,
    "start_time": "2023-10-27T16:17:27.669Z"
   },
   {
    "duration": 70,
    "start_time": "2023-10-27T16:18:09.972Z"
   },
   {
    "duration": 63,
    "start_time": "2023-10-27T16:18:12.617Z"
   },
   {
    "duration": 11,
    "start_time": "2023-10-27T16:21:15.127Z"
   },
   {
    "duration": 59,
    "start_time": "2023-10-27T16:21:45.780Z"
   },
   {
    "duration": 67,
    "start_time": "2023-10-27T16:22:12.334Z"
   },
   {
    "duration": 75,
    "start_time": "2023-10-27T16:48:16.328Z"
   },
   {
    "duration": 1322,
    "start_time": "2023-10-27T16:49:09.862Z"
   },
   {
    "duration": 42,
    "start_time": "2023-10-27T16:50:02.846Z"
   },
   {
    "duration": 1308,
    "start_time": "2023-10-27T16:52:47.306Z"
   },
   {
    "duration": 0,
    "start_time": "2023-10-27T16:52:50.325Z"
   },
   {
    "duration": 1276,
    "start_time": "2023-10-27T16:52:51.175Z"
   },
   {
    "duration": 10,
    "start_time": "2023-10-27T16:54:09.674Z"
   },
   {
    "duration": 9,
    "start_time": "2023-10-27T16:54:11.522Z"
   },
   {
    "duration": 97,
    "start_time": "2023-10-27T16:54:47.906Z"
   },
   {
    "duration": 6,
    "start_time": "2023-10-27T16:54:53.601Z"
   },
   {
    "duration": 4,
    "start_time": "2023-10-27T16:55:02.236Z"
   },
   {
    "duration": 3,
    "start_time": "2023-10-27T16:55:30.344Z"
   },
   {
    "duration": 52,
    "start_time": "2023-10-27T16:55:55.945Z"
   },
   {
    "duration": 11,
    "start_time": "2023-10-27T17:00:41.872Z"
   },
   {
    "duration": 9,
    "start_time": "2023-10-27T17:02:00.980Z"
   },
   {
    "duration": 10,
    "start_time": "2023-10-27T17:02:12.669Z"
   },
   {
    "duration": 10,
    "start_time": "2023-10-27T17:02:28.621Z"
   },
   {
    "duration": 12,
    "start_time": "2023-10-27T17:04:02.459Z"
   },
   {
    "duration": 12,
    "start_time": "2023-10-27T17:04:49.397Z"
   },
   {
    "duration": 6,
    "start_time": "2023-10-27T17:07:30.094Z"
   },
   {
    "duration": 4,
    "start_time": "2023-10-27T17:07:35.114Z"
   },
   {
    "duration": 4,
    "start_time": "2023-10-27T18:26:37.852Z"
   },
   {
    "duration": 3,
    "start_time": "2023-10-27T18:27:08.861Z"
   },
   {
    "duration": 12,
    "start_time": "2023-10-27T18:47:03.415Z"
   },
   {
    "duration": 2795,
    "start_time": "2023-10-27T18:55:04.541Z"
   },
   {
    "duration": 0,
    "start_time": "2023-10-27T18:55:07.337Z"
   },
   {
    "duration": 0,
    "start_time": "2023-10-27T18:55:07.338Z"
   },
   {
    "duration": 0,
    "start_time": "2023-10-27T18:55:07.339Z"
   },
   {
    "duration": 0,
    "start_time": "2023-10-27T18:55:07.340Z"
   },
   {
    "duration": 1213,
    "start_time": "2023-10-27T18:55:12.963Z"
   },
   {
    "duration": 1262,
    "start_time": "2023-10-27T18:55:28.323Z"
   },
   {
    "duration": 0,
    "start_time": "2023-10-27T18:55:29.587Z"
   },
   {
    "duration": 1158,
    "start_time": "2023-10-27T18:55:33.458Z"
   },
   {
    "duration": 1448,
    "start_time": "2023-10-27T18:55:34.863Z"
   },
   {
    "duration": 86,
    "start_time": "2023-10-27T18:57:18.618Z"
   },
   {
    "duration": 1433,
    "start_time": "2023-10-27T19:08:35.340Z"
   },
   {
    "duration": 0,
    "start_time": "2023-10-27T19:08:36.774Z"
   },
   {
    "duration": 6,
    "start_time": "2023-10-27T19:15:04.727Z"
   },
   {
    "duration": 11,
    "start_time": "2023-10-27T19:28:15.597Z"
   },
   {
    "duration": 7,
    "start_time": "2023-10-27T19:28:58.948Z"
   },
   {
    "duration": 9,
    "start_time": "2023-10-27T19:32:05.234Z"
   },
   {
    "duration": 7,
    "start_time": "2023-10-27T19:32:19.128Z"
   }
  ],
  "colab": {
   "collapsed_sections": [
    "E0vqbgi9ay0H",
    "VUC88oWjTJw2"
   ],
   "provenance": []
  },
  "kernelspec": {
   "display_name": "Python 3 (ipykernel)",
   "language": "python",
   "name": "python3"
  },
  "language_info": {
   "codemirror_mode": {
    "name": "ipython",
    "version": 3
   },
   "file_extension": ".py",
   "mimetype": "text/x-python",
   "name": "python",
   "nbconvert_exporter": "python",
   "pygments_lexer": "ipython3",
   "version": "3.9.5"
  },
  "toc": {
   "base_numbering": 1,
   "nav_menu": {
    "height": "215px",
    "width": "403px"
   },
   "number_sections": true,
   "sideBar": true,
   "skip_h1_title": true,
   "title_cell": "Table of Contents",
   "title_sidebar": "Contents",
   "toc_cell": false,
   "toc_position": {
    "height": "calc(100% - 180px)",
    "left": "10px",
    "top": "150px",
    "width": "285.825px"
   },
   "toc_section_display": true,
   "toc_window_display": false
  }
 },
 "nbformat": 4,
 "nbformat_minor": 1
}
