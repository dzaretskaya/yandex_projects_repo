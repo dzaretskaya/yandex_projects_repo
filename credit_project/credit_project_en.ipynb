{
 "cells": [
  {
   "cell_type": "markdown",
   "id": "ffa1096a",
   "metadata": {
    "deletable": false,
    "editable": false,
    "id": "c81daeeb"
   },
   "source": [
    "# Investigation of the reliability of borrowers"
   ]
  },
  {
   "cell_type": "markdown",
   "source": [
    "**Customer** — credit department of the bank. It is necessary to find out whether the marital status and the number of children of the client affect the fact of repayment of the loan on time. Input data from the bank — statistics on the solvency of customers.\n",
    "\n",
    "The results of the study will be taken into account when building a model of *credit scoring* — a special system that evaluates the ability of a potential borrower to repay a loan to the bank.\n",
    "\n",
    "**Data description:**\n",
    "children — the number of children in the family;\n",
    "days_employed — total work experience in days;\n",
    "dob_years — client's age in years;\n",
    "education — the level of education of the client;\n",
    "education_id — identifier of the level of education;\n",
    "family_status — marital status;\n",
    "family_status_id — id of marital status;\n",
    "gender — the gender of the client;\n",
    "income_type — type of employment;\n",
    "debt — whether there was a debt on repayment of loans;\n",
    "total_income — monthly income;\n",
    "purpose — the purpose of obtaining a loan."
   ],
   "metadata": {
    "collapsed": false
   },
   "id": "b7fb2412d127b91e"
  },
  {
   "cell_type": "markdown",
   "id": "c17c5db8",
   "metadata": {
    "deletable": false,
    "editable": false,
    "id": "744d7639"
   },
   "source": [
    "## Data overview\n",
    "\n",
    "Let's make a first idea of the data."
   ]
  },
  {
   "cell_type": "markdown",
   "id": "f5ef052e",
   "metadata": {
    "deletable": false,
    "editable": false,
    "id": "e7a14c31"
   },
   "source": [
    "Import the library — `pandas`, read — `datasets` and save it in the variable — `data`:"
   ]
  },
  {
   "cell_type": "code",
   "execution_count": 67,
   "id": "b7f81ce9",
   "metadata": {
    "deletable": false,
    "id": "7bcf75c9",
    "ExecuteTime": {
     "end_time": "2023-11-24T21:44:22.879604100Z",
     "start_time": "2023-11-24T21:44:22.649361Z"
    }
   },
   "outputs": [],
   "source": [
    "import pandas as pd # import the pandas library\n",
    "data = pd.read_csv('credit_project_dataset.csv') \n",
    "# reading a data file and saving it to data"
   ]
  },
  {
   "cell_type": "markdown",
   "id": "c4e88152",
   "metadata": {
    "deletable": false,
    "editable": false,
    "id": "b8038fe3"
   },
   "source": [
    "Let's display the first twenty lines on the screen `data`:"
   ]
  },
  {
   "cell_type": "code",
   "execution_count": null,
   "id": "8c573a16",
   "metadata": {
    "deletable": false,
    "id": "2a7cab99",
    "outputId": "1a8f3ef2-d323-4ec2-ddf7-89670b5944c4"
   },
   "outputs": [],
   "source": [
    "data.head(20) # getting the first 20 rows of data"
   ]
  },
  {
   "cell_type": "markdown",
   "source": [
    "|  | children | days\\_employed | dob\\_years | education | education\\_id | family\\_status | family\\_status\\_id | gender | income\\_type | debt | total\\_income | purpose |\n",
    "| :--- | :--- | :--- | :--- | :--- | :--- | :--- | :--- | :--- | :--- | :--- | :--- | :--- |\n",
    "| 0 | 1 | -8437.673028 | 42 | высшее | 0 | женат / замужем | 0 | F | сотрудник | 0 | 253875.639453 | покупка жилья |\n",
    "| 1 | 1 | -4024.803754 | 36 | среднее | 1 | женат / замужем | 0 | F | сотрудник | 0 | 112080.014102 | приобретение автомобиля |\n",
    "| 2 | 0 | -5623.422610 | 33 | Среднее | 1 | женат / замужем | 0 | M | сотрудник | 0 | 145885.952297 | покупка жилья |\n",
    "| 3 | 3 | -4124.747207 | 32 | среднее | 1 | женат / замужем | 0 | M | сотрудник | 0 | 267628.550329 | дополнительное образование |\n",
    "| 4 | 0 | 340266.072047 | 53 | среднее | 1 | гражданский брак | 1 | F | пенсионер | 0 | 158616.077870 | сыграть свадьбу |\n",
    "| 5 | 0 | -926.185831 | 27 | высшее | 0 | гражданский брак | 1 | M | компаньон | 0 | 255763.565419 | покупка жилья |\n",
    "| 6 | 0 | -2879.202052 | 43 | высшее | 0 | женат / замужем | 0 | F | компаньон | 0 | 240525.971920 | операции с жильем |\n",
    "| 7 | 0 | -152.779569 | 50 | СРЕДНЕЕ | 1 | женат / замужем | 0 | M | сотрудник | 0 | 135823.934197 | образование |\n",
    "| 8 | 2 | -6929.865299 | 35 | ВЫСШЕЕ | 0 | гражданский брак | 1 | F | сотрудник | 0 | 95856.832424 | на проведение свадьбы |\n",
    "| 9 | 0 | -2188.756445 | 41 | среднее | 1 | женат / замужем | 0 | M | сотрудник | 0 | 144425.938277 | покупка жилья для семьи |\n",
    "| 10 | 2 | -4171.483647 | 36 | высшее | 0 | женат / замужем | 0 | M | компаньон | 0 | 113943.491460 | покупка недвижимости |\n",
    "| 11 | 0 | -792.701887 | 40 | среднее | 1 | женат / замужем | 0 | F | сотрудник | 0 | 77069.234271 | покупка коммерческой недвижимости |\n",
    "| 12 | 0 | NaN | 65 | среднее | 1 | гражданский брак | 1 | M | пенсионер | 0 | NaN | сыграть свадьбу |\n",
    "| 13 | 0 | -1846.641941 | 54 | неоконченное высшее | 2 | женат / замужем | 0 | F | сотрудник | 0 | 130458.228857 | приобретение автомобиля |\n",
    "| 14 | 0 | -1844.956182 | 56 | высшее | 0 | гражданский брак | 1 | F | компаньон | 1 | 165127.911772 | покупка жилой недвижимости |\n",
    "| 15 | 1 | -972.364419 | 26 | среднее | 1 | женат / замужем | 0 | F | сотрудник | 0 | 116820.904450 | строительство собственной недвижимости |\n",
    "| 16 | 0 | -1719.934226 | 35 | среднее | 1 | женат / замужем | 0 | F | сотрудник | 0 | 289202.704229 | недвижимость |\n",
    "| 17 | 0 | -2369.999720 | 33 | высшее | 0 | гражданский брак | 1 | M | сотрудник | 0 | 90410.586745 | строительство недвижимости |\n",
    "| 18 | 0 | 400281.136913 | 53 | среднее | 1 | вдовец / вдова | 2 | F | пенсионер | 0 | 56823.777243 | на покупку подержанного автомобиля |\n",
    "| 19 | 0 | -10038.818549 | 48 | СРЕДНЕЕ | 1 | в разводе | 3 | F | сотрудник | 0 | 242831.107982 | на покупку своего автомобиля |"
   ],
   "metadata": {
    "collapsed": false
   },
   "id": "f7115979e0e82926"
  },
  {
   "cell_type": "markdown",
   "id": "570219d4",
   "metadata": {
    "deletable": false,
    "editable": false,
    "id": "1c12e233"
   },
   "source": [
    "Get general information about `data` using the — `info()` method:"
   ]
  },
  {
   "cell_type": "code",
   "execution_count": null,
   "id": "e215aaff",
   "metadata": {
    "deletable": false,
    "id": "2b757bca",
    "outputId": "15376089-8dad-46c9-b520-c05248d43158"
   },
   "outputs": [],
   "source": [
    "data.info() # getting general information about data in data"
   ]
  },
  {
   "cell_type": "markdown",
   "source": [
    "| | |\n",
    "| --- | --- |\n",
    "| **Column** | **Non-Null Count** | **Dtype** |\n",
    "| --- | --- | --- |\n",
    "| children | 21525 | int64 |\n",
    "| days_employed | 19351 | float64 |\n",
    "| dob_years | 21525 | int64 |\n",
    "| education | 21525 | object |\n",
    "| education_id | 21525 | int64 |\n",
    "| family_status | 21525 | object |\n",
    "| family_status_id | 21525 | int64 |\n",
    "| gender | 21525 | object |\n",
    "| income_type | 21525 | object |\n",
    "| debt | 21525 | int64 |\n",
    "| total_income | 19351 | float64 |\n",
    "| purpose | 21525 | object |\n",
    "| --- | --- | --- |\n",
    "| **dtypes:** float64(2), int64(5), object(5) | **memory usage:** 2.0+ MB |"
   ],
   "metadata": {
    "collapsed": false
   },
   "id": "595ecf0e66693c92"
  },
  {
   "cell_type": "markdown",
   "id": "aca562a6",
   "metadata": {
    "deletable": false,
    "editable": false,
    "id": "333ec665"
   },
   "source": [
    "## Data preprocessing"
   ]
  },
  {
   "cell_type": "markdown",
   "id": "2103ce4f",
   "metadata": {
    "deletable": false,
    "editable": false,
    "id": "02d92d53"
   },
   "source": [
    "### Deleting omissions"
   ]
  },
  {
   "cell_type": "markdown",
   "id": "6d529dd5",
   "metadata": {
    "deletable": false,
    "editable": false,
    "id": "cd84967c"
   },
   "source": [
    "Output the number of missing values for each column:"
   ]
  },
  {
   "cell_type": "code",
   "execution_count": null,
   "id": "22dc8783",
   "metadata": {
    "deletable": false,
    "id": "7f9b2309",
    "outputId": "81f4d817-781c-465c-ed15-91ce4446810d"
   },
   "outputs": [],
   "source": [
    "data.isna().sum() # counting passes"
   ]
  },
  {
   "cell_type": "markdown",
   "source": [
    "|  | &lt;unnamed&gt; |\n",
    "| :--- | :--- |\n",
    "| children | 0 |\n",
    "| days\\_employed | 2174 |\n",
    "| dob\\_years | 0 |\n",
    "| education | 0 |\n",
    "| education\\_id | 0 |\n",
    "| family\\_status | 0 |\n",
    "| family\\_status\\_id | 0 |\n",
    "| gender | 0 |\n",
    "| income\\_type | 0 |\n",
    "| debt | 0 |\n",
    "| total\\_income | 2174 |\n",
    "| purpose | 0 |"
   ],
   "metadata": {
    "collapsed": false
   },
   "id": "5d73167b1ff27063"
  },
  {
   "cell_type": "markdown",
   "id": "f2faec5c",
   "metadata": {
    "deletable": false,
    "editable": false,
    "id": "db86e27b"
   },
   "source": [
    "There are missing values in two columns. One of them is `days_employed`. The omissions in this column will be processed at the next stage. Another column with missing values — `total_income` — stores income data.\n",
    "\n",
    "The amount of income is most affected by the type of employment, so we will fill in the gaps in this column with the median value for each type from the `income_type` column:"
   ]
  },
  {
   "cell_type": "code",
   "execution_count": 71,
   "id": "442b5b8c",
   "metadata": {
    "deletable": false,
    "id": "42006a93",
    "ExecuteTime": {
     "end_time": "2023-11-24T21:44:23.078394400Z",
     "start_time": "2023-11-24T21:44:22.969367200Z"
    }
   },
   "outputs": [],
   "source": [
    "for t in data['income_type'].unique():\n",
    "    # iterating over the unique values of the 'income_type' column\n",
    "    data.loc[(data['income_type'] == t) & (data['total_income'].isna()), 'total_income'] = \\\n",
    "    data.loc[(data['income_type'] == t), 'total_income'].median()\n",
    "    # Select rows where the value of the column 'income_type' is equal to the current value of the variable 't' and the value of the column 'total_income' is missing,\n",
    "    # replace the missing values of the 'total_income' column with the median values of this column for the current value of the 't' variable."
   ]
  },
  {
   "cell_type": "markdown",
   "id": "900c3fa6",
   "metadata": {
    "deletable": false,
    "editable": false,
    "id": "89da5ece"
   },
   "source": [
    "### Processing of abnormal values"
   ]
  },
  {
   "cell_type": "markdown",
   "id": "03bab75e",
   "metadata": {
    "deletable": false,
    "editable": false,
    "id": "57964554"
   },
   "source": [
    "Artifacts may occur in the data, such an anomaly will be a negative number of days of work experience in the `days_employed` column.\n",
    "\n",
    "Let's process the values in this column, replace all negative values with positive ones using the `abs()` method:"
   ]
  },
  {
   "cell_type": "code",
   "execution_count": 72,
   "id": "0002b06b",
   "metadata": {
    "deletable": false,
    "id": "f6f055bf",
    "ExecuteTime": {
     "end_time": "2023-11-24T21:44:23.089485300Z",
     "start_time": "2023-11-24T21:44:23.045833800Z"
    }
   },
   "outputs": [],
   "source": [
    "data['days_employed'] = data['days_employed'].abs() \n",
    "# replacing all negative values in the 'days_employed' column with their absolute values"
   ]
  },
  {
   "cell_type": "markdown",
   "id": "c93e84e9",
   "metadata": {
    "deletable": false,
    "editable": false,
    "id": "6107dd2f"
   },
   "source": [
    "For each type of employment, we will output the median value of the length of service `days_employed` in days:"
   ]
  },
  {
   "cell_type": "code",
   "execution_count": null,
   "id": "8d4fd617",
   "metadata": {
    "deletable": false,
    "id": "85a5faf6",
    "outputId": "801ef80e-522b-4668-f34e-565af7432bcf"
   },
   "outputs": [],
   "source": [
    "data.groupby('income_type')['days_employed'].agg('median')\n",
    "# calculating the median number of working days for each type of income"
   ]
  },
  {
   "cell_type": "markdown",
   "source": [
    "| <br/>income\\_type | days\\_employed<br/> |\n",
    "| :--- | :--- |\n",
    "| безработный | 366413.652744 |\n",
    "| в декрете | -3296.759962 |\n",
    "| госслужащий | -2689.368353 |\n",
    "| компаньон | -1547.382223 |\n",
    "| пенсионер | 365213.306266 |\n",
    "| предприниматель | -520.848083 |\n",
    "| сотрудник | -1574.202821 |\n",
    "| студент | -578.751554 |\n",
    "\n",
    "Two types (unemployed and pensioners) have abnormally large values. In another project we would have corrected these values, but in this one it is not required. Moreover, we will not need this column for our research."
   ],
   "metadata": {
    "collapsed": false
   },
   "id": "fbc37103aabec6fe"
  },
  {
   "cell_type": "markdown",
   "id": "b80cc1d2",
   "metadata": {
    "deletable": false,
    "editable": false,
    "id": "d8a9f147"
   },
   "source": [
    "Output a list of unique values of the column `children`:"
   ]
  },
  {
   "cell_type": "code",
   "execution_count": null,
   "id": "e82aaa3f",
   "metadata": {
    "deletable": false,
    "id": "ef5056eb",
    "outputId": "6975b15c-7f95-4697-d16d-a0c79b657b03"
   },
   "outputs": [],
   "source": [
    "data['children'].unique() # returning unique values of the 'children' column"
   ]
  },
  {
   "cell_type": "markdown",
   "source": [
    "|  | 0 |\n",
    "| :--- | :--- |\n",
    "| 0 | 1 |\n",
    "| 1 | 0 |\n",
    "| 2 | 3 |\n",
    "| 3 | 2 |\n",
    "| 4 | 4 |\n",
    "| 5 | 5 |"
   ],
   "metadata": {
    "collapsed": false
   },
   "id": "1bd8ea12c6d75a64"
  },
  {
   "cell_type": "markdown",
   "id": "d11278ac",
   "metadata": {
    "deletable": false,
    "editable": false,
    "id": "40b9ebf2"
   },
   "source": [
    "There are two abnormal values in the `children` column. \n",
    "\n",
    "Delete the lines in which such abnormal values occur from the dataframe `data`:"
   ]
  },
  {
   "cell_type": "code",
   "execution_count": 75,
   "id": "275fc59b",
   "metadata": {
    "deletable": false,
    "id": "3ff9801d",
    "ExecuteTime": {
     "end_time": "2023-11-24T21:44:23.205111700Z",
     "start_time": "2023-11-24T21:44:23.177393900Z"
    }
   },
   "outputs": [],
   "source": [
    "data = data[(data['children'] != -1) & (data['children'] != 20)] \n",
    "# filtering data, excluding rows with the number of children -1 and 20"
   ]
  },
  {
   "cell_type": "markdown",
   "id": "7720ab4d",
   "metadata": {
    "deletable": false,
    "editable": false,
    "id": "bbc4d0ce"
   },
   "source": [
    "To check again, we will output a list of unique values of the `children` column to make sure that the artifacts are removed:"
   ]
  },
  {
   "cell_type": "code",
   "execution_count": null,
   "id": "c63404d1",
   "metadata": {
    "deletable": false,
    "id": "ad4fa8b7",
    "outputId": "b2097101-d49d-44d9-901b-32a65c9463d1"
   },
   "outputs": [],
   "source": [
    "data['children'].unique() # returning unique values of the 'children' column"
   ]
  },
  {
   "cell_type": "markdown",
   "source": [
    "|  | 0 |\n",
    "| :--- | :--- |\n",
    "| 0 | 1 |\n",
    "| 1 | 0 |\n",
    "| 2 | 3 |\n",
    "| 3 | 2 |\n",
    "| 4 | 4 |\n",
    "| 5 | 5 |"
   ],
   "metadata": {
    "collapsed": false
   },
   "id": "cee168db07e393f0"
  },
  {
   "cell_type": "markdown",
   "id": "3d972cc2",
   "metadata": {
    "deletable": false,
    "editable": false,
    "id": "75440b63"
   },
   "source": [
    "### Deleting omissions (continued)"
   ]
  },
  {
   "cell_type": "markdown",
   "id": "efec39b0",
   "metadata": {
    "deletable": false,
    "editable": false,
    "id": "f4ea573f"
   },
   "source": [
    "Fill in the gaps in the `days_employed` column with median values for each type of employment `income_type`:"
   ]
  },
  {
   "cell_type": "code",
   "execution_count": 77,
   "id": "e89dfee9",
   "metadata": {
    "deletable": false,
    "id": "af6b1a7e",
    "ExecuteTime": {
     "end_time": "2023-11-24T21:44:23.311596300Z",
     "start_time": "2023-11-24T21:44:23.218672600Z"
    }
   },
   "outputs": [],
   "source": [
    "for t in data['income_type'].unique(): # iterating over the unique values of the 'income_type' column\n",
    "    data.loc[(data['income_type'] == t) & (data['days_employed'].isna()), 'days_employed'] = \\\n",
    "    data.loc[(data['income_type'] == t), 'days_employed'].median()\n",
    "# Select rows where the value of the column 'income_type' is equal to the current value of the variable 't' and the value of the column 'days_employed' is missing,\n",
    "# replace the missing values of the 'days_employed' column with the median values of this column for the current value of the 't' variable."
   ]
  },
  {
   "cell_type": "markdown",
   "id": "239ff89a",
   "metadata": {
    "deletable": false,
    "editable": false,
    "id": "2753f40d"
   },
   "source": [
    "Make sure that all the gaps are filled in:"
   ]
  },
  {
   "cell_type": "code",
   "execution_count": null,
   "id": "da4afc70",
   "metadata": {
    "deletable": false,
    "id": "55f78bc2",
    "outputId": "8da1e4e1-358e-4e87-98c9-f261bce0a7b2"
   },
   "outputs": [],
   "source": [
    "data.isna().sum() # counting passes"
   ]
  },
  {
   "cell_type": "markdown",
   "source": [
    "|  | &lt;unnamed&gt; |\n",
    "| :--- | :--- |\n",
    "| children | 0 |\n",
    "| days\\_employed | 0 |\n",
    "| dob\\_years | 0 |\n",
    "| education | 0 |\n",
    "| education\\_id | 0 |\n",
    "| family\\_status | 0 |\n",
    "| family\\_status\\_id | 0 |\n",
    "| gender | 0 |\n",
    "| income\\_type | 0 |\n",
    "| debt | 0 |\n",
    "| total\\_income | 0 |\n",
    "| purpose | 0 |\n",
    "| total\\_income\\_category | 0 |\n",
    "| purpose\\_category | 0 |"
   ],
   "metadata": {
    "collapsed": false
   },
   "id": "ebcad01f6bac1ca2"
  },
  {
   "cell_type": "markdown",
   "id": "df29adff",
   "metadata": {
    "deletable": false,
    "editable": false,
    "id": "ddc81e43"
   },
   "source": [
    "### Changing Data Types"
   ]
  },
  {
   "cell_type": "markdown",
   "id": "de2e5f5e",
   "metadata": {
    "deletable": false,
    "editable": false,
    "id": "42d19d24"
   },
   "source": [
    "Replace the real data type in the `total_income` column with an integer using the `astype()` method:"
   ]
  },
  {
   "cell_type": "code",
   "execution_count": 79,
   "id": "1ceba002",
   "metadata": {
    "deletable": false,
    "id": "920b65ad",
    "ExecuteTime": {
     "end_time": "2023-11-24T21:44:23.339495100Z",
     "start_time": "2023-11-24T21:44:23.315136900Z"
    }
   },
   "outputs": [],
   "source": [
    "data['total_income'] = data['total_income'].astype(int) \n",
    "# converting the 'total_income' column to the 'int' data type"
   ]
  },
  {
   "cell_type": "markdown",
   "id": "9e646626",
   "metadata": {
    "deletable": false,
    "editable": false,
    "id": "80c420ba"
   },
   "source": [
    "### Processing duplicates"
   ]
  },
  {
   "cell_type": "markdown",
   "id": "cf02a0b6",
   "metadata": {
    "deletable": false,
    "editable": false
   },
   "source": [
    "Let's process the implicit duplicates in the `education` column. In this column there are the same values, but written in different ways: using uppercase and lowercase letters. Let's reduce them to lowercase, and check the rest of the columns:"
   ]
  },
  {
   "cell_type": "code",
   "execution_count": 80,
   "id": "1e06dc9a",
   "metadata": {
    "deletable": false,
    "ExecuteTime": {
     "end_time": "2023-11-24T21:44:23.412182500Z",
     "start_time": "2023-11-24T21:44:23.337374700Z"
    }
   },
   "outputs": [],
   "source": [
    "data['education'] = data['education'].str.lower() \n",
    "# converting all values in the 'education' column to lowercase format and converting them to lowercase"
   ]
  },
  {
   "cell_type": "markdown",
   "id": "5853f1be",
   "metadata": {
    "deletable": false,
    "editable": false,
    "id": "dc587695"
   },
   "source": [
    "Let's display the number of duplicate rows in the data. If such lines are present, delete them:"
   ]
  },
  {
   "cell_type": "code",
   "execution_count": null,
   "id": "c7414d83",
   "metadata": {
    "deletable": false,
    "id": "3ee445e4",
    "outputId": "9684deba-1934-42d1-99e1-cda61740f822"
   },
   "outputs": [],
   "source": [
    "data.duplicated().sum() # counting duplicate rows"
   ]
  },
  {
   "cell_type": "code",
   "execution_count": 82,
   "id": "5f91a4af",
   "metadata": {
    "deletable": false,
    "id": "8575fe05",
    "ExecuteTime": {
     "end_time": "2023-11-24T21:44:23.470778600Z",
     "start_time": "2023-11-24T21:44:23.402886400Z"
    }
   },
   "outputs": [],
   "source": [
    "data = data.drop_duplicates() # deleting duplicate rows"
   ]
  },
  {
   "cell_type": "markdown",
   "id": "cb1b6c08",
   "metadata": {
    "deletable": false,
    "editable": false,
    "id": "9904cf55"
   },
   "source": [
    "### Categorization of data"
   ]
  },
  {
   "cell_type": "markdown",
   "id": "c15f0908",
   "metadata": {
    "deletable": false,
    "editable": false,
    "id": "72fcc8a2"
   },
   "source": [
    "Based on the ranges specified by the customer below, we will create a `total_income_category` column with categories in the `data` dataframe:\n",
    "\n",
    "- 0–30000 — `'E'`;\n",
    "- 30001–50000 — `'D'`;\n",
    "- 50001–200000 — `'C'`;\n",
    "- 200001–1000000 — `'B'`;\n",
    "- 1000001 и выше — `'A'`.\n",
    "\n",
    "For example, a borrower with an income of 25,000 needs to assign a category `E`, and a client receiving 235,000 needs to assign a category `B`. \n",
    "\n",
    "We use our own function named `categorize_income()` and the `apply()` method:"
   ]
  },
  {
   "cell_type": "code",
   "execution_count": 83,
   "id": "6270a255",
   "metadata": {
    "deletable": false,
    "id": "e1771346",
    "ExecuteTime": {
     "end_time": "2023-11-24T21:44:23.516316200Z",
     "start_time": "2023-11-24T21:44:23.457148400Z"
    }
   },
   "outputs": [],
   "source": [
    "def categorize_income(income): # calling the 'categorize_income()' function\n",
    "    try:\n",
    "        if 0 <= income <= 30000:\n",
    "            return 'E'\n",
    "        elif 30001 <= income <= 50000:\n",
    "            return 'D'\n",
    "        elif 50001 <= income <= 200000:\n",
    "            return 'C'\n",
    "        elif 200001 <= income <= 1000000:\n",
    "            return 'B'\n",
    "        elif income >= 1000001:\n",
    "            return 'A'\n",
    "    except:\n",
    "        pass"
   ]
  },
  {
   "cell_type": "code",
   "execution_count": 84,
   "id": "df81eb24",
   "metadata": {
    "deletable": false,
    "id": "d5f3586d",
    "ExecuteTime": {
     "end_time": "2023-11-24T21:44:23.531219700Z",
     "start_time": "2023-11-24T21:44:23.496411400Z"
    }
   },
   "outputs": [],
   "source": [
    "data['total_income_category'] = data['total_income'].apply(categorize_income)\n",
    "# applying the 'categorize_income' function to the 'total_income' column and creating a new 'total_income_category' column"
   ]
  },
  {
   "cell_type": "markdown",
   "id": "1325f0e9",
   "metadata": {
    "deletable": false,
    "editable": false,
    "id": "dde49b5c"
   },
   "source": [
    "Let's display a list of unique purposes of taking a loan from the `purpose` column:"
   ]
  },
  {
   "cell_type": "code",
   "execution_count": null,
   "id": "7823768d",
   "metadata": {
    "deletable": false,
    "id": "f67ce9b3",
    "outputId": "673c12d9-7d7e-4ae0-9812-c622c89dd244"
   },
   "outputs": [],
   "source": [
    "data['purpose'].unique() # returning unique values of the 'purpose' column"
   ]
  },
  {
   "cell_type": "markdown",
   "source": [
    "|  | 0 |\n",
    "| :--- | :--- |\n",
    "| 0 | покупка жилья |\n",
    "| 1 | приобретение автомобиля |\n",
    "| 2 | дополнительное образование |\n",
    "| 3 | сыграть свадьбу |\n",
    "| 4 | операции с жильем |\n",
    "| 5 | образование |\n",
    "| 6 | на проведение свадьбы |\n",
    "| 7 | покупка жилья для семьи |\n",
    "| 8 | покупка недвижимости |\n",
    "| 9 | покупка коммерческой недвижимости |\n",
    "| 10 | покупка жилой недвижимости |\n",
    "| 11 | строительство собственной недвижимости |\n",
    "| 12 | недвижимость |\n",
    "| 13 | строительство недвижимости |\n",
    "| 14 | на покупку подержанного автомобиля |\n",
    "| 15 | на покупку своего автомобиля |\n",
    "| 16 | операции с коммерческой недвижимостью |\n",
    "| 17 | строительство жилой недвижимости |\n",
    "| 18 | жилье |\n",
    "| 19 | операции со своей недвижимостью |\n",
    "| 20 | автомобили |\n",
    "| 21 | заняться образованием |\n",
    "| 22 | сделка с подержанным автомобилем |\n",
    "| 23 | получение образования |\n",
    "| 24 | автомобиль |\n",
    "| 25 | свадьба |\n",
    "| 26 | получение дополнительного образования |\n",
    "| 27 | покупка своего жилья |\n",
    "| 28 | операции с недвижимостью |\n",
    "| 29 | получение высшего образования |\n",
    "| 30 | свой автомобиль |\n",
    "| 31 | сделка с автомобилем |\n",
    "| 32 | профильное образование |\n",
    "| 33 | высшее образование |\n",
    "| 34 | покупка жилья для сдачи |\n",
    "| 35 | на покупку автомобиля |\n",
    "| 36 | ремонт жилью |\n",
    "| 37 | заняться высшим образованием |"
   ],
   "metadata": {
    "collapsed": false
   },
   "id": "9a0c3abda9be42e9"
  },
  {
   "cell_type": "markdown",
   "id": "5f1ae637",
   "metadata": {
    "deletable": false,
    "editable": false,
    "id": "85d0aef0"
   },
   "source": [
    "Let's create a function that, based on the data from the `purpose` column, will form a new `purpose_category` column, which will include the following categories:\n",
    "\n",
    "- `'операции с автомобилем'` — car operations;\n",
    "- `'операции с недвижимостью'` — real estate transactions;\n",
    "- `'проведение свадьбы'` — holding a wedding;\n",
    "- `'получение образования'` — getting an education.\n",
    "\n",
    "For example, if the `purpose` column contains the substring `to buy a car`, then the `operations with a car` line should appear in the `purpose_category` column.\n",
    "\n",
    "We use our own function named `categorize_purpose()` and the `apply()` method. Let's examine the data in the `purpose` column and determine which substrings will help us correctly identify the category:"
   ]
  },
  {
   "cell_type": "code",
   "execution_count": 86,
   "id": "05bcc65d",
   "metadata": {
    "deletable": false,
    "id": "e149fab4",
    "ExecuteTime": {
     "end_time": "2023-11-24T21:44:23.578693800Z",
     "start_time": "2023-11-24T21:44:23.550342700Z"
    }
   },
   "outputs": [],
   "source": [
    "def categorize_purpose(row): # calling the 'categorize_purpose()' function\n",
    "    try:\n",
    "        if 'автом' in row:\n",
    "            return 'операции с автомобилем'\n",
    "        elif 'жил' in row or 'недвиж' in row:\n",
    "            return 'операции с недвижимостью'\n",
    "        elif 'свад' in row:\n",
    "            return 'проведение свадьбы'\n",
    "        elif 'образов' in row:\n",
    "            return 'получение образования'\n",
    "    except:\n",
    "        return 'нет категории'"
   ]
  },
  {
   "cell_type": "code",
   "execution_count": 87,
   "id": "94a5393f",
   "metadata": {
    "deletable": false,
    "id": "bf36e69b",
    "scrolled": false,
    "ExecuteTime": {
     "end_time": "2023-11-24T21:44:23.631165600Z",
     "start_time": "2023-11-24T21:44:23.579692500Z"
    }
   },
   "outputs": [],
   "source": [
    "data['purpose_category'] = data['purpose'].apply(categorize_purpose)\n",
    "# applying the 'categorize_purpose' function to the 'purpose' column and creating a new 'purpose_category' column"
   ]
  },
  {
   "cell_type": "markdown",
   "id": "659ed1fc",
   "metadata": {
    "deletable": false,
    "editable": false,
    "id": "09b242bf"
   },
   "source": [
    "### Data research and answers to customer's questions"
   ]
  },
  {
   "cell_type": "markdown",
   "id": "e9a318b0",
   "metadata": {
    "deletable": false,
    "editable": false,
    "id": "c5d66278"
   },
   "source": [
    "#### Is there a relationship between the number of children and the repayment of the loan on time?"
   ]
  },
  {
   "cell_type": "code",
   "execution_count": 88,
   "id": "e52fddf3",
   "metadata": {
    "deletable": false,
    "id": "2cacfc4a",
    "ExecuteTime": {
     "end_time": "2023-11-24T21:44:23.633272800Z",
     "start_time": "2023-11-24T21:44:23.595226Z"
    }
   },
   "outputs": [],
   "source": [
    "debt_and_children = pd.DataFrame() # creating a new DataFrame"
   ]
  },
  {
   "cell_type": "code",
   "execution_count": 89,
   "id": "9a48e60e",
   "metadata": {
    "ExecuteTime": {
     "end_time": "2023-11-24T21:44:23.666468500Z",
     "start_time": "2023-11-24T21:44:23.635302500Z"
    }
   },
   "outputs": [],
   "source": [
    "debt_and_children['sum_debt_and_children'] = data.groupby('children')['debt'].sum() \n",
    "# record in a new column the amount of debts for 'children'\n",
    "debt_and_children['count_debt_and_children'] = data.groupby('children')['debt'].count() # entry in a new column of the number of debts for 'children'\n",
    "debt_and_children['result_debt_and_children'] = debt_and_children['sum_debt_and_children'] / debt_and_children['count_debt_and_children'] # entry in a new average debt column"
   ]
  },
  {
   "cell_type": "code",
   "execution_count": null,
   "id": "a838b31c",
   "metadata": {},
   "outputs": [],
   "source": [
    "debt_and_children.sort_values('result_debt_and_children', ascending = True) \n",
    "# sort in ascending order"
   ]
  },
  {
   "cell_type": "markdown",
   "id": "9ab289c3",
   "metadata": {
    "deletable": false,
    "id": "3a6b99ec"
   },
   "source": [
    "**Conclusion:**\n",
    "\n",
    "| <br/>children | sum\\_debt\\_and\\_children<br/> | count\\_debt\\_and\\_children<br/> | result\\_debt\\_and\\_children<br/> |\n",
    "| :--- | :--- | :--- | :--- |\n",
    "| 5 | 0 | 9 | 0.000000 |\n",
    "| 0 | 1063 | 14091 | 0.075438 |\n",
    "| 3 | 27 | 330 | 0.081818 |\n",
    "| 1 | 444 | 4808 | 0.092346 |\n",
    "| 2 | 194 | 2052 | 0.094542 |\n",
    "| 4 | 4 | 41 | 0.097561 |"
   ]
  },
  {
   "cell_type": "markdown",
   "id": "dbe4a061",
   "metadata": {},
   "source": [
    "Based on the table data, it can be concluded that there may be a relationship between the number of children and the probability of loan delinquency. However, this conclusion needs to be confirmed with a more extensive sample, which will include categories with a large number of children. In particular, it is necessary to increase the sample size for categories with 3-5 children. This can be done, for example, by increasing the sample size as a whole or by conducting a separate survey among people with a large number of children."
   ]
  },
  {
   "cell_type": "markdown",
   "id": "c8c435ea",
   "metadata": {
    "deletable": false,
    "editable": false,
    "id": "97be82ca"
   },
   "source": [
    "#### Is there a relationship between marital status and repayment of the loan on time?"
   ]
  },
  {
   "cell_type": "code",
   "execution_count": 91,
   "id": "d34e128e",
   "metadata": {
    "deletable": false,
    "id": "dc3f7ee8",
    "ExecuteTime": {
     "end_time": "2023-11-24T21:44:23.715411600Z",
     "start_time": "2023-11-24T21:44:23.694278900Z"
    }
   },
   "outputs": [],
   "source": [
    "debt_and_status = pd.DataFrame() # creating a new DataFrame"
   ]
  },
  {
   "cell_type": "code",
   "execution_count": 92,
   "id": "34b24101",
   "metadata": {
    "ExecuteTime": {
     "end_time": "2023-11-24T21:44:23.749504200Z",
     "start_time": "2023-11-24T21:44:23.707335800Z"
    }
   },
   "outputs": [],
   "source": [
    "debt_and_status['sum_debt_and_status'] = data.groupby('family_status')['debt'].sum() # entry in a new column of the number of debts by 'family_status'\n",
    "debt_and_status['count_debt_and_status'] = data.groupby('family_status')['debt'].count() # entry in a new column of the amount of debts by 'family_status'\n",
    "debt_and_status['result_debt_and_status'] = debt_and_status['sum_debt_and_status'] / debt_and_status['count_debt_and_status'] # entry in a new average debt column"
   ]
  },
  {
   "cell_type": "code",
   "execution_count": null,
   "id": "3d30dc13",
   "metadata": {},
   "outputs": [],
   "source": [
    "debt_and_status.sort_values('result_debt_and_status', ascending = True) \n",
    "# sort in ascending order"
   ]
  },
  {
   "cell_type": "markdown",
   "id": "c2282b77",
   "metadata": {
    "deletable": false,
    "id": "1cef7837"
   },
   "source": [
    "**Conclusion:**\n",
    "\n",
    "| <br/>family\\_status | sum\\_debt\\_and\\_status<br/> | count\\_debt\\_and\\_status<br/> | result\\_debt\\_and\\_status<br/> |\n",
    "| :--- | :--- | :--- | :--- |\n",
    "| вдовец / вдова | 63 | 951 | 0.066246 |\n",
    "| в разводе | 84 | 1189 | 0.070648 |\n",
    "| женат / замужем | 927 | 12261 | 0.075606 |\n",
    "| гражданский брак | 385 | 4134 | 0.093130 |\n",
    "| Не женат / не замужем | 273 | 2796 | 0.097639 |"
   ]
  },
  {
   "cell_type": "markdown",
   "id": "2a1fecf3",
   "metadata": {},
   "source": [
    "There is a relationship between marital status and repayment of the loan on time. In general, people who are married have a\n",
    "higher percentage of delinquencies than people who are not married. This may be due to the fact that married families usually have more financial obligations than unmarried people. Such obligations may include expenses for the maintenance of a family, the education of children, housing.\n",
    "\n",
    "However, there are exceptions to this trend. So, people who are widowed or divorced have a lower percentage of delinquencies, \n",
    "than people who are married. This may be due to the fact that these people tend to have a higher level of responsibility and financial discipline than people who have never been married.\n",
    "\n",
    "Thus, it can be concluded that marital status is a factor that can affect the likelihood of loan delinquency. However, this factor is not the only and important one. The probability of delay may also be influenced by other factors, such as income level, education level, and the presence of children."
   ]
  },
  {
   "cell_type": "markdown",
   "id": "8072f286",
   "metadata": {
    "deletable": false,
    "editable": false,
    "id": "1e8b2fca"
   },
   "source": [
    "#### Is there a relationship between the level of income and repayment of the loan on time?"
   ]
  },
  {
   "cell_type": "code",
   "execution_count": 94,
   "id": "a8244a61",
   "metadata": {
    "deletable": false,
    "id": "cd7e3720",
    "ExecuteTime": {
     "end_time": "2023-11-24T21:44:23.827299Z",
     "start_time": "2023-11-24T21:44:23.757173100Z"
    }
   },
   "outputs": [],
   "source": [
    "debt_and_income = pd.DataFrame() # creating a new DataFrame"
   ]
  },
  {
   "cell_type": "code",
   "execution_count": 95,
   "id": "69624381",
   "metadata": {
    "ExecuteTime": {
     "end_time": "2023-11-24T21:44:23.884354100Z",
     "start_time": "2023-11-24T21:44:23.812720700Z"
    }
   },
   "outputs": [],
   "source": [
    "debt_and_income['sum_debt_and_income'] = data.groupby('total_income_category')['debt'].sum() # entry in a new column of the number of debts by 'total_income_category'\n",
    "debt_and_income['count_debt_and_income'] = data.groupby('total_income_category')['debt'].count() # entry in a new column of the amount of debts by 'total_income_category'\n",
    "debt_and_income['result_debt_and_income'] = debt_and_income['sum_debt_and_income'] / debt_and_income['count_debt_and_income'] # entry in a new average debt column"
   ]
  },
  {
   "cell_type": "code",
   "execution_count": null,
   "id": "0829fd93",
   "metadata": {},
   "outputs": [],
   "source": [
    "debt_and_income.sort_values('result_debt_and_income', ascending = True) \n",
    "# sort in ascending order"
   ]
  },
  {
   "cell_type": "markdown",
   "id": "2cd65ea5",
   "metadata": {
    "deletable": false,
    "id": "e8593def"
   },
   "source": [
    "**Conclusion:**\n",
    "\n",
    "| <br/>total\\_income\\_category | sum\\_debt\\_and\\_income<br/> | count\\_debt\\_and\\_income<br/> | result\\_debt\\_and\\_income<br/> |\n",
    "| :--- | :--- | :--- | :--- |\n",
    "| D | 21 | 349 | 0.060172 |\n",
    "| B | 354 | 5014 | 0.070602 |\n",
    "| A | 2 | 25 | 0.080000 |\n",
    "| C | 1353 | 15921 | 0.084982 |\n",
    "| E | 2 | 22 | 0.090909 |"
   ]
  },
  {
   "cell_type": "markdown",
   "id": "4f37ff5b",
   "metadata": {},
   "source": [
    "Based on the data in the table, it can be concluded that there may be a relationship between the level of income and the probability of loan delinquency. However, this conclusion needs to be confirmed with a larger sample, which will represent categories with a smaller sample size. This can be done, for example, by increasing the sample size as a whole or by conducting a separate survey among people with income in these categories."
   ]
  },
  {
   "cell_type": "markdown",
   "id": "b0359962",
   "metadata": {
    "deletable": false,
    "editable": false,
    "id": "99ecbd1f"
   },
   "source": [
    "#### How do different loan goals affect its repayment on time?"
   ]
  },
  {
   "cell_type": "code",
   "execution_count": 97,
   "id": "91ced437",
   "metadata": {
    "deletable": false,
    "id": "2b687290",
    "ExecuteTime": {
     "end_time": "2023-11-24T21:44:24.005236Z",
     "start_time": "2023-11-24T21:44:23.954419900Z"
    }
   },
   "outputs": [],
   "source": [
    "debt_and_purpose = pd.DataFrame() # creating a new DataFrame"
   ]
  },
  {
   "cell_type": "code",
   "execution_count": 98,
   "id": "728fdbe5",
   "metadata": {
    "ExecuteTime": {
     "end_time": "2023-11-24T21:44:24.035582500Z",
     "start_time": "2023-11-24T21:44:23.989714900Z"
    }
   },
   "outputs": [],
   "source": [
    "debt_and_purpose['sum_debt_and_purpose'] = data.groupby('purpose_category')['debt'].sum() # entry in a new column of the number of debts by 'purpose_category'\n",
    "debt_and_purpose['count_debt_and_purpose'] = data.groupby('purpose_category')['debt'].count() # entry in a new column of the amount of debts by 'purpose_category'\n",
    "debt_and_purpose['result_debt_and_purpose'] = debt_and_purpose['sum_debt_and_purpose'] / debt_and_purpose['count_debt_and_purpose'] # entry in a new average debt column"
   ]
  },
  {
   "cell_type": "code",
   "execution_count": null,
   "id": "da8dce09",
   "metadata": {},
   "outputs": [],
   "source": [
    "debt_and_purpose.sort_values('result_debt_and_purpose', ascending = True) \n",
    "# sort in ascending order"
   ]
  },
  {
   "cell_type": "markdown",
   "id": "201144b8",
   "metadata": {
    "deletable": false,
    "id": "b4bb2ce6"
   },
   "source": [
    "**Conclusion:**\n",
    "\n",
    "| <br/>purpose\\_category | sum\\_debt\\_and\\_purpose<br/> | count\\_debt\\_and\\_purpose<br/> | result\\_debt\\_and\\_purpose<br/> |\n",
    "| :--- | :--- | :--- | :--- |\n",
    "| операции с недвижимостью | 780 | 10751 | 0.072551 |\n",
    "| проведение свадьбы | 183 | 2313 | 0.079118 |\n",
    "| получение образования | 369 | 3988 | 0.092528 |\n",
    "| операции с автомобилем | 400 | 4279 | 0.093480 |"
   ]
  },
  {
   "cell_type": "markdown",
   "id": "78b9eb86",
   "metadata": {},
   "source": [
    "There is a relationship between the purpose of the loan and the repayment of the loan on time. In general, people who take out loans for more important and long-term goals are more responsible about their obligations and have a lower percentage of delinquencies."
   ]
  },
  {
   "cell_type": "markdown",
   "id": "c28f7b7a",
   "metadata": {
    "deletable": false,
    "editable": false,
    "id": "6db5255a"
   },
   "source": [
    "## Results of the study"
   ]
  },
  {
   "cell_type": "markdown",
   "id": "ce91a035",
   "metadata": {
    "deletable": false,
    "id": "bad65432"
   },
   "source": [
    "Based on the analysis, it can be concluded that there is a relationship between the probability of loan delinquency and the following factors: \n",
    "\n",
    "* Marital status - people who were not married, who have 4 children, who are in a civil marriage, have a higher probability of loan delinquency than people who were married, who have 0-3 children, who are in an official marriage. \n",
    "* Income - Low-income people have a higher probability of loan delinquency than high-income people. \n",
    "* The purpose of the loan - people taking out a loan for education or buying a car have a higher probability of loan delinquency than people taking out a loan for real estate or starting a family. \n",
    "\n",
    "It should be noted that the relationship between these factors and the probability of loan delinquency is not strict. In each case, it is necessary to take into account the individual circumstances of the borrower, such as his lifestyle, financial habits. \n",
    "\n",
    "It is important to note that in some cases, the conclusion that there is a relationship between the factor and the probability of loan delinquency may be inaccurate due to the small sample size for this category."
   ]
  }
 ],
 "metadata": {
  "ExecuteTimeLog": [
   {
    "duration": 5,
    "start_time": "2023-11-10T14:46:21.474Z"
   },
   {
    "duration": 8,
    "start_time": "2023-11-10T14:46:39.112Z"
   },
   {
    "duration": 51,
    "start_time": "2023-11-10T14:46:39.815Z"
   },
   {
    "duration": 6,
    "start_time": "2023-11-10T14:46:45.679Z"
   },
   {
    "duration": 6,
    "start_time": "2023-11-10T14:46:47.666Z"
   },
   {
    "duration": 6,
    "start_time": "2023-11-10T14:46:53.491Z"
   },
   {
    "duration": 6,
    "start_time": "2023-11-10T14:46:59.678Z"
   },
   {
    "duration": 743,
    "start_time": "2023-11-10T14:48:35.515Z"
   },
   {
    "duration": 25,
    "start_time": "2023-11-10T14:48:36.260Z"
   },
   {
    "duration": 15,
    "start_time": "2023-11-10T14:48:36.287Z"
   },
   {
    "duration": 37,
    "start_time": "2023-11-10T14:48:36.305Z"
   },
   {
    "duration": 41,
    "start_time": "2023-11-10T14:48:36.344Z"
   },
   {
    "duration": 4,
    "start_time": "2023-11-10T14:48:36.386Z"
   },
   {
    "duration": 16,
    "start_time": "2023-11-10T14:48:36.391Z"
   },
   {
    "duration": 4,
    "start_time": "2023-11-10T14:48:36.409Z"
   },
   {
    "duration": 13,
    "start_time": "2023-11-10T14:48:36.414Z"
   },
   {
    "duration": 6,
    "start_time": "2023-11-10T14:48:36.431Z"
   },
   {
    "duration": 56,
    "start_time": "2023-11-10T14:48:36.439Z"
   },
   {
    "duration": 25,
    "start_time": "2023-11-10T14:48:36.497Z"
   },
   {
    "duration": 9,
    "start_time": "2023-11-10T14:48:36.524Z"
   },
   {
    "duration": 17,
    "start_time": "2023-11-10T14:48:36.535Z"
   },
   {
    "duration": 33,
    "start_time": "2023-11-10T14:48:36.554Z"
   },
   {
    "duration": 22,
    "start_time": "2023-11-10T14:48:36.589Z"
   },
   {
    "duration": 12,
    "start_time": "2023-11-10T14:48:36.615Z"
   },
   {
    "duration": 45,
    "start_time": "2023-11-10T14:48:36.629Z"
   },
   {
    "duration": 13,
    "start_time": "2023-11-10T14:48:36.676Z"
   },
   {
    "duration": 13,
    "start_time": "2023-11-10T14:48:36.691Z"
   },
   {
    "duration": 22,
    "start_time": "2023-11-10T14:48:36.706Z"
   },
   {
    "duration": 3,
    "start_time": "2023-11-10T14:48:36.730Z"
   },
   {
    "duration": 7,
    "start_time": "2023-11-10T14:48:36.735Z"
   },
   {
    "duration": 5,
    "start_time": "2023-11-10T14:48:36.743Z"
   },
   {
    "duration": 40,
    "start_time": "2023-11-10T14:48:36.750Z"
   },
   {
    "duration": 567,
    "start_time": "2023-11-12T12:03:56.693Z"
   },
   {
    "duration": 27,
    "start_time": "2023-11-12T12:03:57.264Z"
   },
   {
    "duration": 16,
    "start_time": "2023-11-12T12:03:57.293Z"
   },
   {
    "duration": 11,
    "start_time": "2023-11-12T12:03:57.312Z"
   },
   {
    "duration": 49,
    "start_time": "2023-11-12T12:03:57.324Z"
   },
   {
    "duration": 3,
    "start_time": "2023-11-12T12:03:57.375Z"
   },
   {
    "duration": 12,
    "start_time": "2023-11-12T12:03:57.380Z"
   },
   {
    "duration": 5,
    "start_time": "2023-11-12T12:03:57.393Z"
   },
   {
    "duration": 11,
    "start_time": "2023-11-12T12:03:57.399Z"
   },
   {
    "duration": 27,
    "start_time": "2023-11-12T12:03:57.413Z"
   },
   {
    "duration": 46,
    "start_time": "2023-11-12T12:03:57.441Z"
   },
   {
    "duration": 10,
    "start_time": "2023-11-12T12:03:57.489Z"
   },
   {
    "duration": 20,
    "start_time": "2023-11-12T12:03:57.501Z"
   },
   {
    "duration": 23,
    "start_time": "2023-11-12T12:03:57.523Z"
   },
   {
    "duration": 27,
    "start_time": "2023-11-12T12:03:57.547Z"
   },
   {
    "duration": 16,
    "start_time": "2023-11-12T12:03:57.575Z"
   },
   {
    "duration": 8,
    "start_time": "2023-11-12T12:03:57.593Z"
   },
   {
    "duration": 45,
    "start_time": "2023-11-12T12:03:57.603Z"
   },
   {
    "duration": 162,
    "start_time": "2023-11-12T12:03:57.650Z"
   },
   {
    "duration": 121,
    "start_time": "2023-11-12T12:03:57.813Z"
   },
   {
    "duration": 16,
    "start_time": "2023-11-12T12:03:57.937Z"
   },
   {
    "duration": 7,
    "start_time": "2023-11-12T12:03:57.955Z"
   },
   {
    "duration": 10,
    "start_time": "2023-11-12T12:03:57.963Z"
   },
   {
    "duration": 9,
    "start_time": "2023-11-12T12:03:57.974Z"
   },
   {
    "duration": 4,
    "start_time": "2023-11-12T12:03:57.985Z"
   },
   {
    "duration": 15,
    "start_time": "2023-11-12T12:03:57.990Z"
   },
   {
    "duration": 38,
    "start_time": "2023-11-12T12:03:58.007Z"
   },
   {
    "duration": 4,
    "start_time": "2023-11-12T12:03:58.050Z"
   },
   {
    "duration": 19,
    "start_time": "2023-11-12T12:03:58.055Z"
   },
   {
    "duration": 10,
    "start_time": "2023-11-12T12:03:58.076Z"
   },
   {
    "duration": 4,
    "start_time": "2023-11-12T12:03:58.088Z"
   },
   {
    "duration": 51,
    "start_time": "2023-11-12T12:03:58.094Z"
   },
   {
    "duration": 14,
    "start_time": "2023-11-12T12:03:58.147Z"
   }
  ],
  "colab": {
   "name": "dpp_template_part2.ipynb",
   "provenance": []
  },
  "kernelspec": {
   "display_name": "Python 3 (ipykernel)",
   "language": "python",
   "name": "python3"
  },
  "language_info": {
   "codemirror_mode": {
    "name": "ipython",
    "version": 3
   },
   "file_extension": ".py",
   "mimetype": "text/x-python",
   "name": "python",
   "nbconvert_exporter": "python",
   "pygments_lexer": "ipython3",
   "version": "3.9.5"
  },
  "toc": {
   "base_numbering": 1,
   "nav_menu": {},
   "number_sections": true,
   "sideBar": true,
   "skip_h1_title": true,
   "title_cell": "Table of Contents",
   "title_sidebar": "Contents",
   "toc_cell": false,
   "toc_position": {},
   "toc_section_display": true,
   "toc_window_display": false
  }
 },
 "nbformat": 4,
 "nbformat_minor": 5
}
