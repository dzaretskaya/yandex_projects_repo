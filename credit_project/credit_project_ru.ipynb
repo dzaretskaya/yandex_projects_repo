{
 "cells": [
  {
   "cell_type": "markdown",
   "id": "ffa1096a",
   "metadata": {
    "deletable": false,
    "editable": false,
    "id": "c81daeeb"
   },
   "source": [
    "# Исследование надёжности заёмщиков"
   ]
  },
  {
   "cell_type": "markdown",
   "source": [
    "**Заказчик** — кредитный отдел банка. Нужно выяснить, влияет ли семейное положение и количество детей клиента на факт погашения кредита в срок. Входные данные от банка — статистика о платёжеспособности клиентов.\n",
    "\n",
    "Результаты исследования будут учтены при построении модели *кредитного скоринга* — специальной системы, которая оценивает способность потенциального заёмщика вернуть кредит банку.\n",
    "\n",
    "**Описание данных:**\n",
    "children — количество детей в семье;\n",
    "days_employed — общий трудовой стаж в днях;\n",
    "dob_years — возраст клиента в годах;\n",
    "education — уровень образования клиента;\n",
    "education_id — идентификатор уровня образования;\n",
    "family_status — семейное положение;\n",
    "family_status_id — идентификатор семейного положения;\n",
    "gender — пол клиента;\n",
    "income_type — тип занятости;\n",
    "debt — имел ли задолженность по возврату кредитов;\n",
    "total_income — ежемесячный доход;\n",
    "purpose — цель получения кредита."
   ],
   "metadata": {
    "collapsed": false
   },
   "id": "b7fb2412d127b91e"
  },
  {
   "cell_type": "markdown",
   "id": "c17c5db8",
   "metadata": {
    "deletable": false,
    "editable": false,
    "id": "744d7639"
   },
   "source": [
    "## Обзор данных\n",
    "\n",
    "Составим первое представление о данных."
   ]
  },
  {
   "cell_type": "markdown",
   "id": "f5ef052e",
   "metadata": {
    "deletable": false,
    "editable": false,
    "id": "e7a14c31"
   },
   "source": [
    "Импортируем библиотеку — `pandas`, прочитаем — `datasets` и сохраним его в переменной — `data`:"
   ]
  },
  {
   "cell_type": "code",
   "execution_count": 53,
   "id": "b7f81ce9",
   "metadata": {
    "deletable": false,
    "id": "7bcf75c9",
    "ExecuteTime": {
     "end_time": "2023-11-24T21:42:51.927274600Z",
     "start_time": "2023-11-24T21:42:51.710177900Z"
    }
   },
   "outputs": [],
   "source": [
    "import pandas as pd # импорт библиотеку pandas\n",
    "data = pd.read_csv('credit_project_dataset.csv') # чтение файла с данными и сохранение в data"
   ]
  },
  {
   "cell_type": "markdown",
   "id": "c4e88152",
   "metadata": {
    "deletable": false,
    "editable": false,
    "id": "b8038fe3"
   },
   "source": [
    "Выведем на экран первые двадцать строк `data`:"
   ]
  },
  {
   "cell_type": "code",
   "execution_count": 54,
   "id": "8c573a16",
   "metadata": {
    "deletable": false,
    "id": "2a7cab99",
    "outputId": "1a8f3ef2-d323-4ec2-ddf7-89670b5944c4",
    "ExecuteTime": {
     "end_time": "2023-11-24T21:42:51.946625200Z",
     "start_time": "2023-11-24T21:42:51.927274600Z"
    }
   },
   "outputs": [
    {
     "data": {
      "text/plain": "    children  days_employed  dob_years            education  education_id  \\\n0          1   -8437.673028         42               высшее             0   \n1          1   -4024.803754         36              среднее             1   \n2          0   -5623.422610         33              Среднее             1   \n3          3   -4124.747207         32              среднее             1   \n4          0  340266.072047         53              среднее             1   \n5          0    -926.185831         27               высшее             0   \n6          0   -2879.202052         43               высшее             0   \n7          0    -152.779569         50              СРЕДНЕЕ             1   \n8          2   -6929.865299         35               ВЫСШЕЕ             0   \n9          0   -2188.756445         41              среднее             1   \n10         2   -4171.483647         36               высшее             0   \n11         0    -792.701887         40              среднее             1   \n12         0            NaN         65              среднее             1   \n13         0   -1846.641941         54  неоконченное высшее             2   \n14         0   -1844.956182         56               высшее             0   \n15         1    -972.364419         26              среднее             1   \n16         0   -1719.934226         35              среднее             1   \n17         0   -2369.999720         33               высшее             0   \n18         0  400281.136913         53              среднее             1   \n19         0  -10038.818549         48              СРЕДНЕЕ             1   \n\n       family_status  family_status_id gender income_type  debt  \\\n0    женат / замужем                 0      F   сотрудник     0   \n1    женат / замужем                 0      F   сотрудник     0   \n2    женат / замужем                 0      M   сотрудник     0   \n3    женат / замужем                 0      M   сотрудник     0   \n4   гражданский брак                 1      F   пенсионер     0   \n5   гражданский брак                 1      M   компаньон     0   \n6    женат / замужем                 0      F   компаньон     0   \n7    женат / замужем                 0      M   сотрудник     0   \n8   гражданский брак                 1      F   сотрудник     0   \n9    женат / замужем                 0      M   сотрудник     0   \n10   женат / замужем                 0      M   компаньон     0   \n11   женат / замужем                 0      F   сотрудник     0   \n12  гражданский брак                 1      M   пенсионер     0   \n13   женат / замужем                 0      F   сотрудник     0   \n14  гражданский брак                 1      F   компаньон     1   \n15   женат / замужем                 0      F   сотрудник     0   \n16   женат / замужем                 0      F   сотрудник     0   \n17  гражданский брак                 1      M   сотрудник     0   \n18    вдовец / вдова                 2      F   пенсионер     0   \n19         в разводе                 3      F   сотрудник     0   \n\n     total_income                                 purpose  \n0   253875.639453                           покупка жилья  \n1   112080.014102                 приобретение автомобиля  \n2   145885.952297                           покупка жилья  \n3   267628.550329              дополнительное образование  \n4   158616.077870                         сыграть свадьбу  \n5   255763.565419                           покупка жилья  \n6   240525.971920                       операции с жильем  \n7   135823.934197                             образование  \n8    95856.832424                   на проведение свадьбы  \n9   144425.938277                 покупка жилья для семьи  \n10  113943.491460                    покупка недвижимости  \n11   77069.234271       покупка коммерческой недвижимости  \n12            NaN                         сыграть свадьбу  \n13  130458.228857                 приобретение автомобиля  \n14  165127.911772              покупка жилой недвижимости  \n15  116820.904450  строительство собственной недвижимости  \n16  289202.704229                            недвижимость  \n17   90410.586745              строительство недвижимости  \n18   56823.777243      на покупку подержанного автомобиля  \n19  242831.107982            на покупку своего автомобиля  ",
      "text/html": "<div>\n<style scoped>\n    .dataframe tbody tr th:only-of-type {\n        vertical-align: middle;\n    }\n\n    .dataframe tbody tr th {\n        vertical-align: top;\n    }\n\n    .dataframe thead th {\n        text-align: right;\n    }\n</style>\n<table border=\"1\" class=\"dataframe\">\n  <thead>\n    <tr style=\"text-align: right;\">\n      <th></th>\n      <th>children</th>\n      <th>days_employed</th>\n      <th>dob_years</th>\n      <th>education</th>\n      <th>education_id</th>\n      <th>family_status</th>\n      <th>family_status_id</th>\n      <th>gender</th>\n      <th>income_type</th>\n      <th>debt</th>\n      <th>total_income</th>\n      <th>purpose</th>\n    </tr>\n  </thead>\n  <tbody>\n    <tr>\n      <th>0</th>\n      <td>1</td>\n      <td>-8437.673028</td>\n      <td>42</td>\n      <td>высшее</td>\n      <td>0</td>\n      <td>женат / замужем</td>\n      <td>0</td>\n      <td>F</td>\n      <td>сотрудник</td>\n      <td>0</td>\n      <td>253875.639453</td>\n      <td>покупка жилья</td>\n    </tr>\n    <tr>\n      <th>1</th>\n      <td>1</td>\n      <td>-4024.803754</td>\n      <td>36</td>\n      <td>среднее</td>\n      <td>1</td>\n      <td>женат / замужем</td>\n      <td>0</td>\n      <td>F</td>\n      <td>сотрудник</td>\n      <td>0</td>\n      <td>112080.014102</td>\n      <td>приобретение автомобиля</td>\n    </tr>\n    <tr>\n      <th>2</th>\n      <td>0</td>\n      <td>-5623.422610</td>\n      <td>33</td>\n      <td>Среднее</td>\n      <td>1</td>\n      <td>женат / замужем</td>\n      <td>0</td>\n      <td>M</td>\n      <td>сотрудник</td>\n      <td>0</td>\n      <td>145885.952297</td>\n      <td>покупка жилья</td>\n    </tr>\n    <tr>\n      <th>3</th>\n      <td>3</td>\n      <td>-4124.747207</td>\n      <td>32</td>\n      <td>среднее</td>\n      <td>1</td>\n      <td>женат / замужем</td>\n      <td>0</td>\n      <td>M</td>\n      <td>сотрудник</td>\n      <td>0</td>\n      <td>267628.550329</td>\n      <td>дополнительное образование</td>\n    </tr>\n    <tr>\n      <th>4</th>\n      <td>0</td>\n      <td>340266.072047</td>\n      <td>53</td>\n      <td>среднее</td>\n      <td>1</td>\n      <td>гражданский брак</td>\n      <td>1</td>\n      <td>F</td>\n      <td>пенсионер</td>\n      <td>0</td>\n      <td>158616.077870</td>\n      <td>сыграть свадьбу</td>\n    </tr>\n    <tr>\n      <th>5</th>\n      <td>0</td>\n      <td>-926.185831</td>\n      <td>27</td>\n      <td>высшее</td>\n      <td>0</td>\n      <td>гражданский брак</td>\n      <td>1</td>\n      <td>M</td>\n      <td>компаньон</td>\n      <td>0</td>\n      <td>255763.565419</td>\n      <td>покупка жилья</td>\n    </tr>\n    <tr>\n      <th>6</th>\n      <td>0</td>\n      <td>-2879.202052</td>\n      <td>43</td>\n      <td>высшее</td>\n      <td>0</td>\n      <td>женат / замужем</td>\n      <td>0</td>\n      <td>F</td>\n      <td>компаньон</td>\n      <td>0</td>\n      <td>240525.971920</td>\n      <td>операции с жильем</td>\n    </tr>\n    <tr>\n      <th>7</th>\n      <td>0</td>\n      <td>-152.779569</td>\n      <td>50</td>\n      <td>СРЕДНЕЕ</td>\n      <td>1</td>\n      <td>женат / замужем</td>\n      <td>0</td>\n      <td>M</td>\n      <td>сотрудник</td>\n      <td>0</td>\n      <td>135823.934197</td>\n      <td>образование</td>\n    </tr>\n    <tr>\n      <th>8</th>\n      <td>2</td>\n      <td>-6929.865299</td>\n      <td>35</td>\n      <td>ВЫСШЕЕ</td>\n      <td>0</td>\n      <td>гражданский брак</td>\n      <td>1</td>\n      <td>F</td>\n      <td>сотрудник</td>\n      <td>0</td>\n      <td>95856.832424</td>\n      <td>на проведение свадьбы</td>\n    </tr>\n    <tr>\n      <th>9</th>\n      <td>0</td>\n      <td>-2188.756445</td>\n      <td>41</td>\n      <td>среднее</td>\n      <td>1</td>\n      <td>женат / замужем</td>\n      <td>0</td>\n      <td>M</td>\n      <td>сотрудник</td>\n      <td>0</td>\n      <td>144425.938277</td>\n      <td>покупка жилья для семьи</td>\n    </tr>\n    <tr>\n      <th>10</th>\n      <td>2</td>\n      <td>-4171.483647</td>\n      <td>36</td>\n      <td>высшее</td>\n      <td>0</td>\n      <td>женат / замужем</td>\n      <td>0</td>\n      <td>M</td>\n      <td>компаньон</td>\n      <td>0</td>\n      <td>113943.491460</td>\n      <td>покупка недвижимости</td>\n    </tr>\n    <tr>\n      <th>11</th>\n      <td>0</td>\n      <td>-792.701887</td>\n      <td>40</td>\n      <td>среднее</td>\n      <td>1</td>\n      <td>женат / замужем</td>\n      <td>0</td>\n      <td>F</td>\n      <td>сотрудник</td>\n      <td>0</td>\n      <td>77069.234271</td>\n      <td>покупка коммерческой недвижимости</td>\n    </tr>\n    <tr>\n      <th>12</th>\n      <td>0</td>\n      <td>NaN</td>\n      <td>65</td>\n      <td>среднее</td>\n      <td>1</td>\n      <td>гражданский брак</td>\n      <td>1</td>\n      <td>M</td>\n      <td>пенсионер</td>\n      <td>0</td>\n      <td>NaN</td>\n      <td>сыграть свадьбу</td>\n    </tr>\n    <tr>\n      <th>13</th>\n      <td>0</td>\n      <td>-1846.641941</td>\n      <td>54</td>\n      <td>неоконченное высшее</td>\n      <td>2</td>\n      <td>женат / замужем</td>\n      <td>0</td>\n      <td>F</td>\n      <td>сотрудник</td>\n      <td>0</td>\n      <td>130458.228857</td>\n      <td>приобретение автомобиля</td>\n    </tr>\n    <tr>\n      <th>14</th>\n      <td>0</td>\n      <td>-1844.956182</td>\n      <td>56</td>\n      <td>высшее</td>\n      <td>0</td>\n      <td>гражданский брак</td>\n      <td>1</td>\n      <td>F</td>\n      <td>компаньон</td>\n      <td>1</td>\n      <td>165127.911772</td>\n      <td>покупка жилой недвижимости</td>\n    </tr>\n    <tr>\n      <th>15</th>\n      <td>1</td>\n      <td>-972.364419</td>\n      <td>26</td>\n      <td>среднее</td>\n      <td>1</td>\n      <td>женат / замужем</td>\n      <td>0</td>\n      <td>F</td>\n      <td>сотрудник</td>\n      <td>0</td>\n      <td>116820.904450</td>\n      <td>строительство собственной недвижимости</td>\n    </tr>\n    <tr>\n      <th>16</th>\n      <td>0</td>\n      <td>-1719.934226</td>\n      <td>35</td>\n      <td>среднее</td>\n      <td>1</td>\n      <td>женат / замужем</td>\n      <td>0</td>\n      <td>F</td>\n      <td>сотрудник</td>\n      <td>0</td>\n      <td>289202.704229</td>\n      <td>недвижимость</td>\n    </tr>\n    <tr>\n      <th>17</th>\n      <td>0</td>\n      <td>-2369.999720</td>\n      <td>33</td>\n      <td>высшее</td>\n      <td>0</td>\n      <td>гражданский брак</td>\n      <td>1</td>\n      <td>M</td>\n      <td>сотрудник</td>\n      <td>0</td>\n      <td>90410.586745</td>\n      <td>строительство недвижимости</td>\n    </tr>\n    <tr>\n      <th>18</th>\n      <td>0</td>\n      <td>400281.136913</td>\n      <td>53</td>\n      <td>среднее</td>\n      <td>1</td>\n      <td>вдовец / вдова</td>\n      <td>2</td>\n      <td>F</td>\n      <td>пенсионер</td>\n      <td>0</td>\n      <td>56823.777243</td>\n      <td>на покупку подержанного автомобиля</td>\n    </tr>\n    <tr>\n      <th>19</th>\n      <td>0</td>\n      <td>-10038.818549</td>\n      <td>48</td>\n      <td>СРЕДНЕЕ</td>\n      <td>1</td>\n      <td>в разводе</td>\n      <td>3</td>\n      <td>F</td>\n      <td>сотрудник</td>\n      <td>0</td>\n      <td>242831.107982</td>\n      <td>на покупку своего автомобиля</td>\n    </tr>\n  </tbody>\n</table>\n</div>"
     },
     "execution_count": 54,
     "metadata": {},
     "output_type": "execute_result"
    }
   ],
   "source": [
    "data.head(20) # получение первых 20 строк data"
   ]
  },
  {
   "cell_type": "markdown",
   "source": [
    "|  | children | days\\_employed | dob\\_years | education | education\\_id | family\\_status | family\\_status\\_id | gender | income\\_type | debt | total\\_income | purpose |\n",
    "| :--- | :--- | :--- | :--- | :--- | :--- | :--- | :--- | :--- | :--- | :--- | :--- | :--- |\n",
    "| 0 | 1 | -8437.673028 | 42 | высшее | 0 | женат / замужем | 0 | F | сотрудник | 0 | 253875.639453 | покупка жилья |\n",
    "| 1 | 1 | -4024.803754 | 36 | среднее | 1 | женат / замужем | 0 | F | сотрудник | 0 | 112080.014102 | приобретение автомобиля |\n",
    "| 2 | 0 | -5623.422610 | 33 | Среднее | 1 | женат / замужем | 0 | M | сотрудник | 0 | 145885.952297 | покупка жилья |\n",
    "| 3 | 3 | -4124.747207 | 32 | среднее | 1 | женат / замужем | 0 | M | сотрудник | 0 | 267628.550329 | дополнительное образование |\n",
    "| 4 | 0 | 340266.072047 | 53 | среднее | 1 | гражданский брак | 1 | F | пенсионер | 0 | 158616.077870 | сыграть свадьбу |\n",
    "| 5 | 0 | -926.185831 | 27 | высшее | 0 | гражданский брак | 1 | M | компаньон | 0 | 255763.565419 | покупка жилья |\n",
    "| 6 | 0 | -2879.202052 | 43 | высшее | 0 | женат / замужем | 0 | F | компаньон | 0 | 240525.971920 | операции с жильем |\n",
    "| 7 | 0 | -152.779569 | 50 | СРЕДНЕЕ | 1 | женат / замужем | 0 | M | сотрудник | 0 | 135823.934197 | образование |\n",
    "| 8 | 2 | -6929.865299 | 35 | ВЫСШЕЕ | 0 | гражданский брак | 1 | F | сотрудник | 0 | 95856.832424 | на проведение свадьбы |\n",
    "| 9 | 0 | -2188.756445 | 41 | среднее | 1 | женат / замужем | 0 | M | сотрудник | 0 | 144425.938277 | покупка жилья для семьи |\n",
    "| 10 | 2 | -4171.483647 | 36 | высшее | 0 | женат / замужем | 0 | M | компаньон | 0 | 113943.491460 | покупка недвижимости |\n",
    "| 11 | 0 | -792.701887 | 40 | среднее | 1 | женат / замужем | 0 | F | сотрудник | 0 | 77069.234271 | покупка коммерческой недвижимости |\n",
    "| 12 | 0 | NaN | 65 | среднее | 1 | гражданский брак | 1 | M | пенсионер | 0 | NaN | сыграть свадьбу |\n",
    "| 13 | 0 | -1846.641941 | 54 | неоконченное высшее | 2 | женат / замужем | 0 | F | сотрудник | 0 | 130458.228857 | приобретение автомобиля |\n",
    "| 14 | 0 | -1844.956182 | 56 | высшее | 0 | гражданский брак | 1 | F | компаньон | 1 | 165127.911772 | покупка жилой недвижимости |\n",
    "| 15 | 1 | -972.364419 | 26 | среднее | 1 | женат / замужем | 0 | F | сотрудник | 0 | 116820.904450 | строительство собственной недвижимости |\n",
    "| 16 | 0 | -1719.934226 | 35 | среднее | 1 | женат / замужем | 0 | F | сотрудник | 0 | 289202.704229 | недвижимость |\n",
    "| 17 | 0 | -2369.999720 | 33 | высшее | 0 | гражданский брак | 1 | M | сотрудник | 0 | 90410.586745 | строительство недвижимости |\n",
    "| 18 | 0 | 400281.136913 | 53 | среднее | 1 | вдовец / вдова | 2 | F | пенсионер | 0 | 56823.777243 | на покупку подержанного автомобиля |\n",
    "| 19 | 0 | -10038.818549 | 48 | СРЕДНЕЕ | 1 | в разводе | 3 | F | сотрудник | 0 | 242831.107982 | на покупку своего автомобиля |"
   ],
   "metadata": {
    "collapsed": false
   },
   "id": "f7115979e0e82926"
  },
  {
   "cell_type": "markdown",
   "id": "570219d4",
   "metadata": {
    "deletable": false,
    "editable": false,
    "id": "1c12e233"
   },
   "source": [
    "Получим общую информацию о `data` c помощью метода — `info()`:"
   ]
  },
  {
   "cell_type": "code",
   "execution_count": 55,
   "id": "e215aaff",
   "metadata": {
    "deletable": false,
    "id": "2b757bca",
    "outputId": "15376089-8dad-46c9-b520-c05248d43158",
    "ExecuteTime": {
     "end_time": "2023-11-24T21:42:52.051655900Z",
     "start_time": "2023-11-24T21:42:51.943480100Z"
    }
   },
   "outputs": [
    {
     "name": "stdout",
     "output_type": "stream",
     "text": [
      "<class 'pandas.core.frame.DataFrame'>\n",
      "RangeIndex: 21525 entries, 0 to 21524\n",
      "Data columns (total 12 columns):\n",
      " #   Column            Non-Null Count  Dtype  \n",
      "---  ------            --------------  -----  \n",
      " 0   children          21525 non-null  int64  \n",
      " 1   days_employed     19351 non-null  float64\n",
      " 2   dob_years         21525 non-null  int64  \n",
      " 3   education         21525 non-null  object \n",
      " 4   education_id      21525 non-null  int64  \n",
      " 5   family_status     21525 non-null  object \n",
      " 6   family_status_id  21525 non-null  int64  \n",
      " 7   gender            21525 non-null  object \n",
      " 8   income_type       21525 non-null  object \n",
      " 9   debt              21525 non-null  int64  \n",
      " 10  total_income      19351 non-null  float64\n",
      " 11  purpose           21525 non-null  object \n",
      "dtypes: float64(2), int64(5), object(5)\n",
      "memory usage: 2.0+ MB\n"
     ]
    }
   ],
   "source": [
    "data.info() # получение общей информации о данных в data"
   ]
  },
  {
   "cell_type": "markdown",
   "source": [
    "| | |\n",
    "| --- | --- |\n",
    "| **Column** | **Non-Null Count** | **Dtype** |\n",
    "| --- | --- | --- |\n",
    "| children | 21525 | int64 |\n",
    "| days_employed | 19351 | float64 |\n",
    "| dob_years | 21525 | int64 |\n",
    "| education | 21525 | object |\n",
    "| education_id | 21525 | int64 |\n",
    "| family_status | 21525 | object |\n",
    "| family_status_id | 21525 | int64 |\n",
    "| gender | 21525 | object |\n",
    "| income_type | 21525 | object |\n",
    "| debt | 21525 | int64 |\n",
    "| total_income | 19351 | float64 |\n",
    "| purpose | 21525 | object |\n",
    "| --- | --- | --- |\n",
    "| **dtypes:** float64(2), int64(5), object(5) | **memory usage:** 2.0+ MB |"
   ],
   "metadata": {
    "collapsed": false
   },
   "id": "595ecf0e66693c92"
  },
  {
   "cell_type": "markdown",
   "id": "aca562a6",
   "metadata": {
    "deletable": false,
    "editable": false,
    "id": "333ec665"
   },
   "source": [
    "## Предобработка данных"
   ]
  },
  {
   "cell_type": "markdown",
   "id": "2103ce4f",
   "metadata": {
    "deletable": false,
    "editable": false,
    "id": "02d92d53"
   },
   "source": [
    "### Удаление пропусков"
   ]
  },
  {
   "cell_type": "markdown",
   "id": "6d529dd5",
   "metadata": {
    "deletable": false,
    "editable": false,
    "id": "cd84967c"
   },
   "source": [
    "Выведем количество пропущенных значений для каждого столбца:"
   ]
  },
  {
   "cell_type": "code",
   "execution_count": 56,
   "id": "22dc8783",
   "metadata": {
    "deletable": false,
    "id": "7f9b2309",
    "outputId": "81f4d817-781c-465c-ed15-91ce4446810d",
    "ExecuteTime": {
     "end_time": "2023-11-24T21:42:52.073515Z",
     "start_time": "2023-11-24T21:42:51.978233100Z"
    }
   },
   "outputs": [
    {
     "data": {
      "text/plain": "children               0\ndays_employed       2174\ndob_years              0\neducation              0\neducation_id           0\nfamily_status          0\nfamily_status_id       0\ngender                 0\nincome_type            0\ndebt                   0\ntotal_income        2174\npurpose                0\ndtype: int64"
     },
     "execution_count": 56,
     "metadata": {},
     "output_type": "execute_result"
    }
   ],
   "source": [
    "data.isna().sum() # подсчёт пропусков"
   ]
  },
  {
   "cell_type": "markdown",
   "source": [
    "|  | &lt;unnamed&gt; |\n",
    "| :--- | :--- |\n",
    "| children | 0 |\n",
    "| days\\_employed | 2174 |\n",
    "| dob\\_years | 0 |\n",
    "| education | 0 |\n",
    "| education\\_id | 0 |\n",
    "| family\\_status | 0 |\n",
    "| family\\_status\\_id | 0 |\n",
    "| gender | 0 |\n",
    "| income\\_type | 0 |\n",
    "| debt | 0 |\n",
    "| total\\_income | 2174 |\n",
    "| purpose | 0 |"
   ],
   "metadata": {
    "collapsed": false
   },
   "id": "5d73167b1ff27063"
  },
  {
   "cell_type": "markdown",
   "id": "f2faec5c",
   "metadata": {
    "deletable": false,
    "editable": false,
    "id": "db86e27b"
   },
   "source": [
    "В двух столбцах есть пропущенные значения. Один из них — `days_employed`. Пропуски в этом столбце мы обработаем на следующем этапе. Другой столбец с пропущенными значениями — `total_income` — хранит данные о доходах. \n",
    "\n",
    "На сумму дохода сильнее всего влияет тип занятости, поэтому заполнить пропуски в этом столбце будем медианным значением по каждому типу из столбца `income_type`:"
   ]
  },
  {
   "cell_type": "code",
   "execution_count": 57,
   "id": "442b5b8c",
   "metadata": {
    "deletable": false,
    "id": "42006a93",
    "ExecuteTime": {
     "end_time": "2023-11-24T21:42:52.165995700Z",
     "start_time": "2023-11-24T21:42:51.988869500Z"
    }
   },
   "outputs": [],
   "source": [
    "for t in data['income_type'].unique():\n",
    "    # перебор уникальных значения столбца 'income_type'\n",
    "    data.loc[(data['income_type'] == t) & (data['total_income'].isna()), 'total_income'] = \\\n",
    "    data.loc[(data['income_type'] == t), 'total_income'].median()\n",
    "    # Выбираем строки, где значение столбца 'income_type' равно текущему значению переменной 't' и значение столбца 'total_income' отсутствует,\n",
    "    # заменяем отсутствующие значения столбца 'total_income' медианой значений этого столбца для текущего значения переменной 't'."
   ]
  },
  {
   "cell_type": "markdown",
   "id": "900c3fa6",
   "metadata": {
    "deletable": false,
    "editable": false,
    "id": "89da5ece"
   },
   "source": [
    "### Обработка аномальных значений"
   ]
  },
  {
   "cell_type": "markdown",
   "id": "03bab75e",
   "metadata": {
    "deletable": false,
    "editable": false,
    "id": "57964554"
   },
   "source": [
    "В данных могут встречаться артефакты, такой аномалией будет отрицательное количество дней трудового стажа в столбце `days_employed`.\n",
    "\n",
    "Обработаем значения в этом столбце, заменим все отрицательные значения положительными с помощью метода `abs()`:"
   ]
  },
  {
   "cell_type": "code",
   "execution_count": 58,
   "id": "0002b06b",
   "metadata": {
    "deletable": false,
    "id": "f6f055bf",
    "ExecuteTime": {
     "end_time": "2023-11-24T21:42:52.170061500Z",
     "start_time": "2023-11-24T21:42:52.069376400Z"
    }
   },
   "outputs": [],
   "source": [
    "data['days_employed'] = data['days_employed'].abs() \n",
    "# замена всех отрицательных значений в столбце 'days_employed' на их абсолютные значения"
   ]
  },
  {
   "cell_type": "markdown",
   "id": "c93e84e9",
   "metadata": {
    "deletable": false,
    "editable": false,
    "id": "6107dd2f"
   },
   "source": [
    "Для каждого типа занятости выведем медианное значение трудового стажа `days_employed` в днях:"
   ]
  },
  {
   "cell_type": "code",
   "execution_count": 59,
   "id": "8d4fd617",
   "metadata": {
    "deletable": false,
    "id": "85a5faf6",
    "outputId": "801ef80e-522b-4668-f34e-565af7432bcf",
    "ExecuteTime": {
     "end_time": "2023-11-24T21:42:52.179602400Z",
     "start_time": "2023-11-24T21:42:52.133785Z"
    }
   },
   "outputs": [
    {
     "data": {
      "text/plain": "income_type\nбезработный        366413.652744\nв декрете            3296.759962\nгосслужащий          2689.368353\nкомпаньон            1547.382223\nпенсионер          365213.306266\nпредприниматель       520.848083\nсотрудник            1574.202821\nстудент               578.751554\nName: days_employed, dtype: float64"
     },
     "execution_count": 59,
     "metadata": {},
     "output_type": "execute_result"
    }
   ],
   "source": [
    "data.groupby('income_type')['days_employed'].agg('median')\n",
    "# вычисление медианного количества дней работы для каждого типа дохода"
   ]
  },
  {
   "cell_type": "markdown",
   "source": [
    "| <br/>income\\_type | days\\_employed<br/> |\n",
    "| :--- | :--- |\n",
    "| безработный | 366413.652744 |\n",
    "| в декрете | -3296.759962 |\n",
    "| госслужащий | -2689.368353 |\n",
    "| компаньон | -1547.382223 |\n",
    "| пенсионер | 365213.306266 |\n",
    "| предприниматель | -520.848083 |\n",
    "| сотрудник | -1574.202821 |\n",
    "| студент | -578.751554 |\n",
    "\n",
    "У двух типов (безработные и пенсионеры) получаются аномально большие значения. В другом проекте мы бы исправили данные значения, но в этом это не требуется. Тем более этот столбец не понадобится нам для нашего исследования."
   ],
   "metadata": {
    "collapsed": false
   },
   "id": "fbc37103aabec6fe"
  },
  {
   "cell_type": "markdown",
   "id": "b80cc1d2",
   "metadata": {
    "deletable": false,
    "editable": false,
    "id": "d8a9f147"
   },
   "source": [
    "Выведем перечень уникальных значений столбца `children`:"
   ]
  },
  {
   "cell_type": "code",
   "execution_count": 60,
   "id": "e82aaa3f",
   "metadata": {
    "deletable": false,
    "id": "ef5056eb",
    "outputId": "6975b15c-7f95-4697-d16d-a0c79b657b03",
    "ExecuteTime": {
     "end_time": "2023-11-24T21:42:52.246281300Z",
     "start_time": "2023-11-24T21:42:52.182695100Z"
    }
   },
   "outputs": [
    {
     "data": {
      "text/plain": "array([ 1,  0,  3,  2, -1,  4, 20,  5], dtype=int64)"
     },
     "execution_count": 60,
     "metadata": {},
     "output_type": "execute_result"
    }
   ],
   "source": [
    "data['children'].unique() # возвращение уникальных значений столбца 'children'"
   ]
  },
  {
   "cell_type": "markdown",
   "source": [
    "|  | 0 |\n",
    "| :--- | :--- |\n",
    "| 0 | 1 |\n",
    "| 1 | 0 |\n",
    "| 2 | 3 |\n",
    "| 3 | 2 |\n",
    "| 4 | 4 |\n",
    "| 5 | 5 |"
   ],
   "metadata": {
    "collapsed": false
   },
   "id": "1bd8ea12c6d75a64"
  },
  {
   "cell_type": "markdown",
   "id": "d11278ac",
   "metadata": {
    "deletable": false,
    "editable": false,
    "id": "40b9ebf2"
   },
   "source": [
    "В столбце `children` есть два аномальных значения. \n",
    "\n",
    "Удалим строки, в которых встречаются такие аномальные значения из датафрейма `data`:"
   ]
  },
  {
   "cell_type": "code",
   "execution_count": 61,
   "id": "275fc59b",
   "metadata": {
    "deletable": false,
    "id": "3ff9801d",
    "ExecuteTime": {
     "end_time": "2023-11-24T21:42:52.326451700Z",
     "start_time": "2023-11-24T21:42:52.246281300Z"
    }
   },
   "outputs": [],
   "source": [
    "data = data[(data['children'] != -1) & (data['children'] != 20)] \n",
    "# фильтрация данных, исключая строки с количеством детей -1 и 20"
   ]
  },
  {
   "cell_type": "markdown",
   "id": "7720ab4d",
   "metadata": {
    "deletable": false,
    "editable": false,
    "id": "bbc4d0ce"
   },
   "source": [
    "Для проверки ещё раз выведем перечень уникальных значений столбца `children`, чтобы убедиться, что артефакты удалены:"
   ]
  },
  {
   "cell_type": "code",
   "execution_count": 62,
   "id": "c63404d1",
   "metadata": {
    "deletable": false,
    "id": "ad4fa8b7",
    "outputId": "b2097101-d49d-44d9-901b-32a65c9463d1",
    "ExecuteTime": {
     "end_time": "2023-11-24T21:42:52.359761900Z",
     "start_time": "2023-11-24T21:42:52.319822400Z"
    }
   },
   "outputs": [
    {
     "data": {
      "text/plain": "array([1, 0, 3, 2, 4, 5], dtype=int64)"
     },
     "execution_count": 62,
     "metadata": {},
     "output_type": "execute_result"
    }
   ],
   "source": [
    "data['children'].unique() # возвращение уникальных значений столбца 'children'"
   ]
  },
  {
   "cell_type": "markdown",
   "source": [
    "|  | 0 |\n",
    "| :--- | :--- |\n",
    "| 0 | 1 |\n",
    "| 1 | 0 |\n",
    "| 2 | 3 |\n",
    "| 3 | 2 |\n",
    "| 4 | 4 |\n",
    "| 5 | 5 |"
   ],
   "metadata": {
    "collapsed": false
   },
   "id": "cee168db07e393f0"
  },
  {
   "cell_type": "markdown",
   "id": "3d972cc2",
   "metadata": {
    "deletable": false,
    "editable": false,
    "id": "75440b63"
   },
   "source": [
    "### Удаление пропусков (продолжение)"
   ]
  },
  {
   "cell_type": "markdown",
   "id": "efec39b0",
   "metadata": {
    "deletable": false,
    "editable": false,
    "id": "f4ea573f"
   },
   "source": [
    "Заполним пропуски в столбце `days_employed` медианными значениями по каждому типу занятости `income_type`:"
   ]
  },
  {
   "cell_type": "code",
   "execution_count": 63,
   "id": "e89dfee9",
   "metadata": {
    "deletable": false,
    "id": "af6b1a7e",
    "ExecuteTime": {
     "end_time": "2023-11-24T21:42:52.405819800Z",
     "start_time": "2023-11-24T21:42:52.333635700Z"
    }
   },
   "outputs": [],
   "source": [
    "for t in data['income_type'].unique(): \n",
    "# перебор уникальных значений столбца 'income_type'\n",
    "    data.loc[(data['income_type'] == t) & (data['days_employed'].isna()), 'days_employed'] = \\\n",
    "    data.loc[(data['income_type'] == t), 'days_employed'].median()\n",
    "# Выбираем строки, где значение столбца 'income_type' равно текущему значению переменной 't' и значение столбца 'days_employed' отсутствует,\n",
    "# заменяем отсутствующие значения столбца 'days_employed' медианой значений этого столбца для текущего значения переменной 't'."
   ]
  },
  {
   "cell_type": "markdown",
   "id": "239ff89a",
   "metadata": {
    "deletable": false,
    "editable": false,
    "id": "2753f40d"
   },
   "source": [
    "Убедимся, что все пропуски заполнены:"
   ]
  },
  {
   "cell_type": "code",
   "execution_count": 64,
   "id": "da4afc70",
   "metadata": {
    "deletable": false,
    "id": "55f78bc2",
    "outputId": "8da1e4e1-358e-4e87-98c9-f261bce0a7b2",
    "ExecuteTime": {
     "end_time": "2023-11-24T21:42:52.414509800Z",
     "start_time": "2023-11-24T21:42:52.372590400Z"
    }
   },
   "outputs": [
    {
     "data": {
      "text/plain": "children            0\ndays_employed       0\ndob_years           0\neducation           0\neducation_id        0\nfamily_status       0\nfamily_status_id    0\ngender              0\nincome_type         0\ndebt                0\ntotal_income        0\npurpose             0\ndtype: int64"
     },
     "execution_count": 64,
     "metadata": {},
     "output_type": "execute_result"
    }
   ],
   "source": [
    "data.isna().sum() # подсчёт пропусков"
   ]
  },
  {
   "cell_type": "markdown",
   "source": [
    "|  | &lt;unnamed&gt; |\n",
    "| :--- | :--- |\n",
    "| children | 0 |\n",
    "| days\\_employed | 0 |\n",
    "| dob\\_years | 0 |\n",
    "| education | 0 |\n",
    "| education\\_id | 0 |\n",
    "| family\\_status | 0 |\n",
    "| family\\_status\\_id | 0 |\n",
    "| gender | 0 |\n",
    "| income\\_type | 0 |\n",
    "| debt | 0 |\n",
    "| total\\_income | 0 |\n",
    "| purpose | 0 |\n",
    "| total\\_income\\_category | 0 |\n",
    "| purpose\\_category | 0 |"
   ],
   "metadata": {
    "collapsed": false
   },
   "id": "ebcad01f6bac1ca2"
  },
  {
   "cell_type": "markdown",
   "id": "df29adff",
   "metadata": {
    "deletable": false,
    "editable": false,
    "id": "ddc81e43"
   },
   "source": [
    "### Изменение типов данных"
   ]
  },
  {
   "cell_type": "markdown",
   "id": "de2e5f5e",
   "metadata": {
    "deletable": false,
    "editable": false,
    "id": "42d19d24"
   },
   "source": [
    "Заменим вещественный тип данных в столбце `total_income` на целочисленный с помощью метода `astype()`:"
   ]
  },
  {
   "cell_type": "code",
   "execution_count": 65,
   "id": "1ceba002",
   "metadata": {
    "deletable": false,
    "id": "920b65ad",
    "ExecuteTime": {
     "end_time": "2023-11-24T21:42:52.469692500Z",
     "start_time": "2023-11-24T21:42:52.412002100Z"
    }
   },
   "outputs": [],
   "source": [
    "data['total_income'] = data['total_income'].astype(int) \n",
    "# преобразование столбца 'total_income' в тип данных 'int'"
   ]
  },
  {
   "cell_type": "markdown",
   "id": "9e646626",
   "metadata": {
    "deletable": false,
    "editable": false,
    "id": "80c420ba"
   },
   "source": [
    "### Обработка дубликатов"
   ]
  },
  {
   "cell_type": "markdown",
   "id": "cf02a0b6",
   "metadata": {
    "deletable": false,
    "editable": false
   },
   "source": [
    "Обработаем неявные дубликаты в столбце `education`. В этом столбце есть одни и те же значения, но записанные по-разному: с использованием заглавных и строчных букв. Приведём их к нижнему регистру, и проверим остальные столбцы:"
   ]
  },
  {
   "cell_type": "code",
   "execution_count": 66,
   "id": "1e06dc9a",
   "metadata": {
    "deletable": false,
    "ExecuteTime": {
     "end_time": "2023-11-24T21:42:52.538449600Z",
     "start_time": "2023-11-24T21:42:52.455264300Z"
    }
   },
   "outputs": [],
   "source": [
    "data['education'] = data['education'].str.lower() \n",
    "# перевод всех значений в столбце 'education' в строчный формат и преобразование их в нижний регистр"
   ]
  },
  {
   "cell_type": "markdown",
   "id": "5853f1be",
   "metadata": {
    "deletable": false,
    "editable": false,
    "id": "dc587695"
   },
   "source": [
    "Выведем на экран количество строк-дубликатов в данных. Если такие строки присутствуют, удалим их:"
   ]
  },
  {
   "cell_type": "code",
   "execution_count": 67,
   "id": "c7414d83",
   "metadata": {
    "deletable": false,
    "id": "3ee445e4",
    "outputId": "9684deba-1934-42d1-99e1-cda61740f822",
    "ExecuteTime": {
     "end_time": "2023-11-24T21:42:52.557308600Z",
     "start_time": "2023-11-24T21:42:52.483100700Z"
    }
   },
   "outputs": [
    {
     "data": {
      "text/plain": "71"
     },
     "execution_count": 67,
     "metadata": {},
     "output_type": "execute_result"
    }
   ],
   "source": [
    "data.duplicated().sum() # подсчёт строк-дубликатов"
   ]
  },
  {
   "cell_type": "code",
   "execution_count": 68,
   "id": "5f91a4af",
   "metadata": {
    "deletable": false,
    "id": "8575fe05",
    "ExecuteTime": {
     "end_time": "2023-11-24T21:42:52.603503700Z",
     "start_time": "2023-11-24T21:42:52.515516200Z"
    }
   },
   "outputs": [],
   "source": [
    "data = data.drop_duplicates() # удаление строк дубликатов"
   ]
  },
  {
   "cell_type": "markdown",
   "id": "cb1b6c08",
   "metadata": {
    "deletable": false,
    "editable": false,
    "id": "9904cf55"
   },
   "source": [
    "### Категоризация данных"
   ]
  },
  {
   "cell_type": "markdown",
   "id": "c15f0908",
   "metadata": {
    "deletable": false,
    "editable": false,
    "id": "72fcc8a2"
   },
   "source": [
    "На основании диапазонов, указанных заказчиком ниже, создадим в датафрейме `data` столбец `total_income_category` с категориями:\n",
    "\n",
    "- 0–30000 — `'E'`;\n",
    "- 30001–50000 — `'D'`;\n",
    "- 50001–200000 — `'C'`;\n",
    "- 200001–1000000 — `'B'`;\n",
    "- 1000001 и выше — `'A'`.\n",
    "\n",
    "Например, кредитополучателю с доходом 25000 нужно назначим категорию `'E'`, а клиенту, получающему 235000, — `'B'`. \n",
    "\n",
    "Используем собственную функцию с именем `categorize_income()` и метод `apply()`:"
   ]
  },
  {
   "cell_type": "code",
   "execution_count": 69,
   "id": "6270a255",
   "metadata": {
    "deletable": false,
    "id": "e1771346",
    "ExecuteTime": {
     "end_time": "2023-11-24T21:42:52.617381900Z",
     "start_time": "2023-11-24T21:42:52.565185400Z"
    }
   },
   "outputs": [],
   "source": [
    "def categorize_income(income): # вызов функции 'categorize_income()'\n",
    "    try:\n",
    "        if 0 <= income <= 30000:\n",
    "            return 'E'\n",
    "        elif 30001 <= income <= 50000:\n",
    "            return 'D'\n",
    "        elif 50001 <= income <= 200000:\n",
    "            return 'C'\n",
    "        elif 200001 <= income <= 1000000:\n",
    "            return 'B'\n",
    "        elif income >= 1000001:\n",
    "            return 'A'\n",
    "    except:\n",
    "        pass"
   ]
  },
  {
   "cell_type": "code",
   "execution_count": 70,
   "id": "df81eb24",
   "metadata": {
    "deletable": false,
    "id": "d5f3586d",
    "ExecuteTime": {
     "end_time": "2023-11-24T21:42:52.640656500Z",
     "start_time": "2023-11-24T21:42:52.612805100Z"
    }
   },
   "outputs": [],
   "source": [
    "data['total_income_category'] = data['total_income'].apply(categorize_income)\n",
    "# применение функции 'categorize_income' к столбцу 'total_income' и создание нового столбца 'total_income_category'"
   ]
  },
  {
   "cell_type": "markdown",
   "id": "1325f0e9",
   "metadata": {
    "deletable": false,
    "editable": false,
    "id": "dde49b5c"
   },
   "source": [
    "Выведем на экран перечень уникальных целей взятия кредита из столбца `purpose`:"
   ]
  },
  {
   "cell_type": "code",
   "execution_count": 71,
   "id": "7823768d",
   "metadata": {
    "deletable": false,
    "id": "f67ce9b3",
    "outputId": "673c12d9-7d7e-4ae0-9812-c622c89dd244",
    "ExecuteTime": {
     "end_time": "2023-11-24T21:42:52.679607900Z",
     "start_time": "2023-11-24T21:42:52.640656500Z"
    }
   },
   "outputs": [
    {
     "data": {
      "text/plain": "array(['покупка жилья', 'приобретение автомобиля',\n       'дополнительное образование', 'сыграть свадьбу',\n       'операции с жильем', 'образование', 'на проведение свадьбы',\n       'покупка жилья для семьи', 'покупка недвижимости',\n       'покупка коммерческой недвижимости', 'покупка жилой недвижимости',\n       'строительство собственной недвижимости', 'недвижимость',\n       'строительство недвижимости', 'на покупку подержанного автомобиля',\n       'на покупку своего автомобиля',\n       'операции с коммерческой недвижимостью',\n       'строительство жилой недвижимости', 'жилье',\n       'операции со своей недвижимостью', 'автомобили',\n       'заняться образованием', 'сделка с подержанным автомобилем',\n       'получение образования', 'автомобиль', 'свадьба',\n       'получение дополнительного образования', 'покупка своего жилья',\n       'операции с недвижимостью', 'получение высшего образования',\n       'свой автомобиль', 'сделка с автомобилем',\n       'профильное образование', 'высшее образование',\n       'покупка жилья для сдачи', 'на покупку автомобиля', 'ремонт жилью',\n       'заняться высшим образованием'], dtype=object)"
     },
     "execution_count": 71,
     "metadata": {},
     "output_type": "execute_result"
    }
   ],
   "source": [
    "data['purpose'].unique() # возвращение уникальных значений столбца 'purpose'"
   ]
  },
  {
   "cell_type": "markdown",
   "source": [
    "|  | 0 |\n",
    "| :--- | :--- |\n",
    "| 0 | покупка жилья |\n",
    "| 1 | приобретение автомобиля |\n",
    "| 2 | дополнительное образование |\n",
    "| 3 | сыграть свадьбу |\n",
    "| 4 | операции с жильем |\n",
    "| 5 | образование |\n",
    "| 6 | на проведение свадьбы |\n",
    "| 7 | покупка жилья для семьи |\n",
    "| 8 | покупка недвижимости |\n",
    "| 9 | покупка коммерческой недвижимости |\n",
    "| 10 | покупка жилой недвижимости |\n",
    "| 11 | строительство собственной недвижимости |\n",
    "| 12 | недвижимость |\n",
    "| 13 | строительство недвижимости |\n",
    "| 14 | на покупку подержанного автомобиля |\n",
    "| 15 | на покупку своего автомобиля |\n",
    "| 16 | операции с коммерческой недвижимостью |\n",
    "| 17 | строительство жилой недвижимости |\n",
    "| 18 | жилье |\n",
    "| 19 | операции со своей недвижимостью |\n",
    "| 20 | автомобили |\n",
    "| 21 | заняться образованием |\n",
    "| 22 | сделка с подержанным автомобилем |\n",
    "| 23 | получение образования |\n",
    "| 24 | автомобиль |\n",
    "| 25 | свадьба |\n",
    "| 26 | получение дополнительного образования |\n",
    "| 27 | покупка своего жилья |\n",
    "| 28 | операции с недвижимостью |\n",
    "| 29 | получение высшего образования |\n",
    "| 30 | свой автомобиль |\n",
    "| 31 | сделка с автомобилем |\n",
    "| 32 | профильное образование |\n",
    "| 33 | высшее образование |\n",
    "| 34 | покупка жилья для сдачи |\n",
    "| 35 | на покупку автомобиля |\n",
    "| 36 | ремонт жилью |\n",
    "| 37 | заняться высшим образованием |"
   ],
   "metadata": {
    "collapsed": false
   },
   "id": "9a0c3abda9be42e9"
  },
  {
   "cell_type": "markdown",
   "id": "5f1ae637",
   "metadata": {
    "deletable": false,
    "editable": false,
    "id": "85d0aef0"
   },
   "source": [
    "Создадим функцию, которая на основании данных из столбца `purpose` сформируем новый столбец `purpose_category`, в который войдут следующие категории:\n",
    "\n",
    "- `'операции с автомобилем'`;\n",
    "- `'операции с недвижимостью'`;\n",
    "- `'проведение свадьбы'`;\n",
    "- `'получение образования'`.\n",
    "\n",
    "Например, если в столбце `purpose` находится подстрока `'на покупку автомобиля'`, то в столбце `purpose_category` должна появиться строка `'операции с автомобилем'`.\n",
    "\n",
    "Используем собственную функцию с именем `categorize_purpose()` и метод `apply()`. Изучим данные в столбце `purpose` и определим, какие подстроки помогут нам правильно определить категорию:"
   ]
  },
  {
   "cell_type": "code",
   "execution_count": 72,
   "id": "05bcc65d",
   "metadata": {
    "deletable": false,
    "id": "e149fab4",
    "ExecuteTime": {
     "end_time": "2023-11-24T21:42:52.702322300Z",
     "start_time": "2023-11-24T21:42:52.677577400Z"
    }
   },
   "outputs": [],
   "source": [
    "def categorize_purpose(row): # вызов функции 'categorize_purpose()'\n",
    "    try:\n",
    "        if 'автом' in row:\n",
    "            return 'операции с автомобилем'\n",
    "        elif 'жил' in row or 'недвиж' in row:\n",
    "            return 'операции с недвижимостью'\n",
    "        elif 'свад' in row:\n",
    "            return 'проведение свадьбы'\n",
    "        elif 'образов' in row:\n",
    "            return 'получение образования'\n",
    "    except:\n",
    "        return 'нет категории'"
   ]
  },
  {
   "cell_type": "code",
   "execution_count": 73,
   "id": "94a5393f",
   "metadata": {
    "deletable": false,
    "id": "bf36e69b",
    "scrolled": false,
    "ExecuteTime": {
     "end_time": "2023-11-24T21:42:52.733508400Z",
     "start_time": "2023-11-24T21:42:52.687253Z"
    }
   },
   "outputs": [],
   "source": [
    "data['purpose_category'] = data['purpose'].apply(categorize_purpose)\n",
    "# применение функции 'categorize_purpose' к столбцу 'purpose' и создание нового столбца 'purpose_category'"
   ]
  },
  {
   "cell_type": "markdown",
   "id": "659ed1fc",
   "metadata": {
    "deletable": false,
    "editable": false,
    "id": "09b242bf"
   },
   "source": [
    "### Исследование данных и ответы на вопросы заказчика"
   ]
  },
  {
   "cell_type": "markdown",
   "id": "e9a318b0",
   "metadata": {
    "deletable": false,
    "editable": false,
    "id": "c5d66278"
   },
   "source": [
    "#### Есть ли зависимость между количеством детей и возвратом кредита в срок?"
   ]
  },
  {
   "cell_type": "code",
   "execution_count": 74,
   "id": "e52fddf3",
   "metadata": {
    "deletable": false,
    "id": "2cacfc4a",
    "ExecuteTime": {
     "end_time": "2023-11-24T21:42:52.737759700Z",
     "start_time": "2023-11-24T21:42:52.705172500Z"
    }
   },
   "outputs": [],
   "source": [
    "debt_and_children = pd.DataFrame() # создание нового DataFrame"
   ]
  },
  {
   "cell_type": "code",
   "execution_count": 75,
   "id": "9a48e60e",
   "metadata": {
    "ExecuteTime": {
     "end_time": "2023-11-24T21:42:52.772290Z",
     "start_time": "2023-11-24T21:42:52.741880600Z"
    }
   },
   "outputs": [],
   "source": [
    "debt_and_children['sum_debt_and_children'] = data.groupby('children')['debt'].sum() \n",
    "# запись в новый столбец сумму долгов по 'children'\n",
    "debt_and_children['count_debt_and_children'] = data.groupby('children')['debt'].count() # запись в новый столбец количества долгов по 'children'\n",
    "debt_and_children['result_debt_and_children'] = debt_and_children['sum_debt_and_children'] / debt_and_children['count_debt_and_children'] # запись в новый столбец среднего долга  "
   ]
  },
  {
   "cell_type": "code",
   "execution_count": 76,
   "id": "a838b31c",
   "metadata": {
    "ExecuteTime": {
     "end_time": "2023-11-24T21:42:52.797345200Z",
     "start_time": "2023-11-24T21:42:52.767975600Z"
    }
   },
   "outputs": [
    {
     "data": {
      "text/plain": "          sum_debt_and_children  count_debt_and_children  \\\nchildren                                                   \n5                             0                        9   \n0                          1063                    14091   \n3                            27                      330   \n1                           444                     4808   \n2                           194                     2052   \n4                             4                       41   \n\n          result_debt_and_children  \nchildren                            \n5                         0.000000  \n0                         0.075438  \n3                         0.081818  \n1                         0.092346  \n2                         0.094542  \n4                         0.097561  ",
      "text/html": "<div>\n<style scoped>\n    .dataframe tbody tr th:only-of-type {\n        vertical-align: middle;\n    }\n\n    .dataframe tbody tr th {\n        vertical-align: top;\n    }\n\n    .dataframe thead th {\n        text-align: right;\n    }\n</style>\n<table border=\"1\" class=\"dataframe\">\n  <thead>\n    <tr style=\"text-align: right;\">\n      <th></th>\n      <th>sum_debt_and_children</th>\n      <th>count_debt_and_children</th>\n      <th>result_debt_and_children</th>\n    </tr>\n    <tr>\n      <th>children</th>\n      <th></th>\n      <th></th>\n      <th></th>\n    </tr>\n  </thead>\n  <tbody>\n    <tr>\n      <th>5</th>\n      <td>0</td>\n      <td>9</td>\n      <td>0.000000</td>\n    </tr>\n    <tr>\n      <th>0</th>\n      <td>1063</td>\n      <td>14091</td>\n      <td>0.075438</td>\n    </tr>\n    <tr>\n      <th>3</th>\n      <td>27</td>\n      <td>330</td>\n      <td>0.081818</td>\n    </tr>\n    <tr>\n      <th>1</th>\n      <td>444</td>\n      <td>4808</td>\n      <td>0.092346</td>\n    </tr>\n    <tr>\n      <th>2</th>\n      <td>194</td>\n      <td>2052</td>\n      <td>0.094542</td>\n    </tr>\n    <tr>\n      <th>4</th>\n      <td>4</td>\n      <td>41</td>\n      <td>0.097561</td>\n    </tr>\n  </tbody>\n</table>\n</div>"
     },
     "execution_count": 76,
     "metadata": {},
     "output_type": "execute_result"
    }
   ],
   "source": [
    "debt_and_children.sort_values('result_debt_and_children', ascending = True) \n",
    "# сортировка в порядке возрастания"
   ]
  },
  {
   "cell_type": "markdown",
   "id": "9ab289c3",
   "metadata": {
    "deletable": false,
    "id": "3a6b99ec"
   },
   "source": [
    "**Вывод:**\n",
    "\n",
    "| <br/>children | sum\\_debt\\_and\\_children<br/> | count\\_debt\\_and\\_children<br/> | result\\_debt\\_and\\_children<br/> |\n",
    "| :--- | :--- | :--- | :--- |\n",
    "| 5 | 0 | 9 | 0.000000 |\n",
    "| 0 | 1063 | 14091 | 0.075438 |\n",
    "| 3 | 27 | 330 | 0.081818 |\n",
    "| 1 | 444 | 4808 | 0.092346 |\n",
    "| 2 | 194 | 2052 | 0.094542 |\n",
    "| 4 | 4 | 41 | 0.097561 |"
   ]
  },
  {
   "cell_type": "markdown",
   "id": "dbe4a061",
   "metadata": {},
   "source": [
    "На основании данных таблицы можно сделать вывод о том, что возможно существует зависимость между количеством детей и вероятностью просрочки кредита. Однако этот вывод необходимо подтвердить с помощью более обширной выборки, в которой будут представлены категории с большим количеством детей. В частности, необходимо увеличить размер выборки по категориям с 3-5 детьми. Это можно сделать, например, увеличив объём выборки в целом или проведя отдельный опрос среди людей с большим количеством детей."
   ]
  },
  {
   "cell_type": "markdown",
   "id": "c8c435ea",
   "metadata": {
    "deletable": false,
    "editable": false,
    "id": "97be82ca"
   },
   "source": [
    "#### Есть ли зависимость между семейным положением и возвратом кредита в срок?"
   ]
  },
  {
   "cell_type": "code",
   "execution_count": 77,
   "id": "d34e128e",
   "metadata": {
    "deletable": false,
    "id": "dc3f7ee8",
    "ExecuteTime": {
     "end_time": "2023-11-24T21:42:52.827303200Z",
     "start_time": "2023-11-24T21:42:52.782281700Z"
    }
   },
   "outputs": [],
   "source": [
    "debt_and_status = pd.DataFrame() # создание нового DataFrame"
   ]
  },
  {
   "cell_type": "code",
   "execution_count": 78,
   "id": "34b24101",
   "metadata": {
    "ExecuteTime": {
     "end_time": "2023-11-24T21:42:52.899561200Z",
     "start_time": "2023-11-24T21:42:52.806678Z"
    }
   },
   "outputs": [],
   "source": [
    "debt_and_status['sum_debt_and_status'] = data.groupby('family_status')['debt'].sum() # запись в новый столбец количества долгов по 'family_status'\n",
    "debt_and_status['count_debt_and_status'] = data.groupby('family_status')['debt'].count() # запись в новый столбец суммы долгов по 'family_status'\n",
    "debt_and_status['result_debt_and_status'] = debt_and_status['sum_debt_and_status'] / debt_and_status['count_debt_and_status'] # запись в новый столбец среднего долга"
   ]
  },
  {
   "cell_type": "code",
   "execution_count": 79,
   "id": "3d30dc13",
   "metadata": {
    "ExecuteTime": {
     "end_time": "2023-11-24T21:42:52.951735800Z",
     "start_time": "2023-11-24T21:42:52.834956900Z"
    }
   },
   "outputs": [
    {
     "data": {
      "text/plain": "                       sum_debt_and_status  count_debt_and_status  \\\nfamily_status                                                       \nвдовец / вдова                          63                    951   \nв разводе                               84                   1189   \nженат / замужем                        927                  12261   \nгражданский брак                       385                   4134   \nНе женат / не замужем                  273                   2796   \n\n                       result_debt_and_status  \nfamily_status                                  \nвдовец / вдова                       0.066246  \nв разводе                            0.070648  \nженат / замужем                      0.075606  \nгражданский брак                     0.093130  \nНе женат / не замужем                0.097639  ",
      "text/html": "<div>\n<style scoped>\n    .dataframe tbody tr th:only-of-type {\n        vertical-align: middle;\n    }\n\n    .dataframe tbody tr th {\n        vertical-align: top;\n    }\n\n    .dataframe thead th {\n        text-align: right;\n    }\n</style>\n<table border=\"1\" class=\"dataframe\">\n  <thead>\n    <tr style=\"text-align: right;\">\n      <th></th>\n      <th>sum_debt_and_status</th>\n      <th>count_debt_and_status</th>\n      <th>result_debt_and_status</th>\n    </tr>\n    <tr>\n      <th>family_status</th>\n      <th></th>\n      <th></th>\n      <th></th>\n    </tr>\n  </thead>\n  <tbody>\n    <tr>\n      <th>вдовец / вдова</th>\n      <td>63</td>\n      <td>951</td>\n      <td>0.066246</td>\n    </tr>\n    <tr>\n      <th>в разводе</th>\n      <td>84</td>\n      <td>1189</td>\n      <td>0.070648</td>\n    </tr>\n    <tr>\n      <th>женат / замужем</th>\n      <td>927</td>\n      <td>12261</td>\n      <td>0.075606</td>\n    </tr>\n    <tr>\n      <th>гражданский брак</th>\n      <td>385</td>\n      <td>4134</td>\n      <td>0.093130</td>\n    </tr>\n    <tr>\n      <th>Не женат / не замужем</th>\n      <td>273</td>\n      <td>2796</td>\n      <td>0.097639</td>\n    </tr>\n  </tbody>\n</table>\n</div>"
     },
     "execution_count": 79,
     "metadata": {},
     "output_type": "execute_result"
    }
   ],
   "source": [
    "debt_and_status.sort_values('result_debt_and_status', ascending = True) \n",
    "# сортировка в порядке возрастания"
   ]
  },
  {
   "cell_type": "markdown",
   "id": "c2282b77",
   "metadata": {
    "deletable": false,
    "id": "1cef7837"
   },
   "source": [
    "**Вывод:**\n",
    "\n",
    "| <br/>family\\_status | sum\\_debt\\_and\\_status<br/> | count\\_debt\\_and\\_status<br/> | result\\_debt\\_and\\_status<br/> |\n",
    "| :--- | :--- | :--- | :--- |\n",
    "| вдовец / вдова | 63 | 951 | 0.066246 |\n",
    "| в разводе | 84 | 1189 | 0.070648 |\n",
    "| женат / замужем | 927 | 12261 | 0.075606 |\n",
    "| гражданский брак | 385 | 4134 | 0.093130 |\n",
    "| Не женат / не замужем | 273 | 2796 | 0.097639 |"
   ]
  },
  {
   "cell_type": "markdown",
   "id": "2a1fecf3",
   "metadata": {},
   "source": [
    "Присутствует зависимость между семейным положением и возвратом кредита в срок. В целом, люди, состоящие в браке, имеют более \n",
    "высокий процент просрочек, чем люди, не состоящие в браке. Это может быть связано с тем, что у семей, состоящих в браке, обычно больше финансовых обязательств, чем у людей, не состоящих в браке. К таким обязательствам могут относиться расходы на содержание семьи, образование детей, жильё.\n",
    "\n",
    "Однако есть и исключения из этой тенденции. Так, люди, овдовевшие или развёдшиеся, имеют более низкий процент просрочек, \n",
    "чем люди, состоящие в браке. Это может быть связано с тем, что эти люди, как правило, имеют более высокий уровень ответственности и финансовой дисциплины, чем люди, которые никогда не состояли в браке.\n",
    "\n",
    "Таким образом, можно сделать вывод, что семейное положение является фактором, который может повлиять на вероятность просрочки кредита. Однако этот фактор не является единственным и важным. На вероятность просрочки могут также влиять другие факторы, такие как уровень дохода, уровень образования, наличие детей."
   ]
  },
  {
   "cell_type": "markdown",
   "id": "8072f286",
   "metadata": {
    "deletable": false,
    "editable": false,
    "id": "1e8b2fca"
   },
   "source": [
    "#### Есть ли зависимость между уровнем дохода и возвратом кредита в срок?"
   ]
  },
  {
   "cell_type": "code",
   "execution_count": 80,
   "id": "a8244a61",
   "metadata": {
    "deletable": false,
    "id": "cd7e3720",
    "ExecuteTime": {
     "end_time": "2023-11-24T21:42:52.967732400Z",
     "start_time": "2023-11-24T21:42:52.910562200Z"
    }
   },
   "outputs": [],
   "source": [
    "debt_and_income = pd.DataFrame() # создание нового DataFrame"
   ]
  },
  {
   "cell_type": "code",
   "execution_count": 81,
   "id": "69624381",
   "metadata": {
    "ExecuteTime": {
     "end_time": "2023-11-24T21:42:53.043550600Z",
     "start_time": "2023-11-24T21:42:52.962607400Z"
    }
   },
   "outputs": [],
   "source": [
    "debt_and_income['sum_debt_and_income'] = data.groupby('total_income_category')['debt'].sum() # запись в новый столбец количества долгов по 'total_income_category'\n",
    "debt_and_income['count_debt_and_income'] = data.groupby('total_income_category')['debt'].count() # запись в новый столбец суммы долгов по 'total_income_category'\n",
    "debt_and_income['result_debt_and_income'] = debt_and_income['sum_debt_and_income'] / debt_and_income['count_debt_and_income'] # запись в новый столбец среднего долга"
   ]
  },
  {
   "cell_type": "code",
   "execution_count": 82,
   "id": "0829fd93",
   "metadata": {
    "ExecuteTime": {
     "end_time": "2023-11-24T21:42:53.081693Z",
     "start_time": "2023-11-24T21:42:52.996186200Z"
    }
   },
   "outputs": [
    {
     "data": {
      "text/plain": "                       sum_debt_and_income  count_debt_and_income  \\\ntotal_income_category                                               \nD                                       21                    349   \nB                                      354                   5014   \nA                                        2                     25   \nC                                     1353                  15921   \nE                                        2                     22   \n\n                       result_debt_and_income  \ntotal_income_category                          \nD                                    0.060172  \nB                                    0.070602  \nA                                    0.080000  \nC                                    0.084982  \nE                                    0.090909  ",
      "text/html": "<div>\n<style scoped>\n    .dataframe tbody tr th:only-of-type {\n        vertical-align: middle;\n    }\n\n    .dataframe tbody tr th {\n        vertical-align: top;\n    }\n\n    .dataframe thead th {\n        text-align: right;\n    }\n</style>\n<table border=\"1\" class=\"dataframe\">\n  <thead>\n    <tr style=\"text-align: right;\">\n      <th></th>\n      <th>sum_debt_and_income</th>\n      <th>count_debt_and_income</th>\n      <th>result_debt_and_income</th>\n    </tr>\n    <tr>\n      <th>total_income_category</th>\n      <th></th>\n      <th></th>\n      <th></th>\n    </tr>\n  </thead>\n  <tbody>\n    <tr>\n      <th>D</th>\n      <td>21</td>\n      <td>349</td>\n      <td>0.060172</td>\n    </tr>\n    <tr>\n      <th>B</th>\n      <td>354</td>\n      <td>5014</td>\n      <td>0.070602</td>\n    </tr>\n    <tr>\n      <th>A</th>\n      <td>2</td>\n      <td>25</td>\n      <td>0.080000</td>\n    </tr>\n    <tr>\n      <th>C</th>\n      <td>1353</td>\n      <td>15921</td>\n      <td>0.084982</td>\n    </tr>\n    <tr>\n      <th>E</th>\n      <td>2</td>\n      <td>22</td>\n      <td>0.090909</td>\n    </tr>\n  </tbody>\n</table>\n</div>"
     },
     "execution_count": 82,
     "metadata": {},
     "output_type": "execute_result"
    }
   ],
   "source": [
    "debt_and_income.sort_values('result_debt_and_income', ascending = True) \n",
    "# сортировка в порядке возрастания"
   ]
  },
  {
   "cell_type": "markdown",
   "id": "2cd65ea5",
   "metadata": {
    "deletable": false,
    "id": "e8593def"
   },
   "source": [
    "**Вывод:**\n",
    "\n",
    "| <br/>total\\_income\\_category | sum\\_debt\\_and\\_income<br/> | count\\_debt\\_and\\_income<br/> | result\\_debt\\_and\\_income<br/> |\n",
    "| :--- | :--- | :--- | :--- |\n",
    "| D | 21 | 349 | 0.060172 |\n",
    "| B | 354 | 5014 | 0.070602 |\n",
    "| A | 2 | 25 | 0.080000 |\n",
    "| C | 1353 | 15921 | 0.084982 |\n",
    "| E | 2 | 22 | 0.090909 |"
   ]
  },
  {
   "cell_type": "markdown",
   "id": "4f37ff5b",
   "metadata": {},
   "source": [
    "На основании данных таблицы можно сделать вывод о том, что возможно существует зависимость между уровнем дохода и вероятностью просрочки кредита. Однако этот вывод необходимо подтвердить с помощью более обширной выборки, в которой будут представлены категории с меньшим размером выборки. Это можно сделать, например, увеличив объём выборки в целом или проведя отдельный опрос среди людей с доходом в этих категориях."
   ]
  },
  {
   "cell_type": "markdown",
   "id": "b0359962",
   "metadata": {
    "deletable": false,
    "editable": false,
    "id": "99ecbd1f"
   },
   "source": [
    "#### Как разные цели кредита влияют на его возврат в срок?"
   ]
  },
  {
   "cell_type": "code",
   "execution_count": 83,
   "id": "91ced437",
   "metadata": {
    "deletable": false,
    "id": "2b687290",
    "ExecuteTime": {
     "end_time": "2023-11-24T21:42:53.148799Z",
     "start_time": "2023-11-24T21:42:53.073562200Z"
    }
   },
   "outputs": [],
   "source": [
    "debt_and_purpose = pd.DataFrame() # создание нового DataFrame"
   ]
  },
  {
   "cell_type": "code",
   "execution_count": 84,
   "id": "728fdbe5",
   "metadata": {
    "ExecuteTime": {
     "end_time": "2023-11-24T21:42:53.178751500Z",
     "start_time": "2023-11-24T21:42:53.120827400Z"
    }
   },
   "outputs": [],
   "source": [
    "debt_and_purpose['sum_debt_and_purpose'] = data.groupby('purpose_category')['debt'].sum() # запись в новый столбец количества долгов по 'purpose_category'\n",
    "debt_and_purpose['count_debt_and_purpose'] = data.groupby('purpose_category')['debt'].count() # запись в новый столбец суммы долгов по 'purpose_category'\n",
    "debt_and_purpose['result_debt_and_purpose'] = debt_and_purpose['sum_debt_and_purpose'] / debt_and_purpose['count_debt_and_purpose'] # запись в новый столбец среднего долга"
   ]
  },
  {
   "cell_type": "code",
   "execution_count": 85,
   "id": "da8dce09",
   "metadata": {
    "ExecuteTime": {
     "end_time": "2023-11-24T21:42:53.263591900Z",
     "start_time": "2023-11-24T21:42:53.168295700Z"
    }
   },
   "outputs": [
    {
     "data": {
      "text/plain": "                          sum_debt_and_purpose  count_debt_and_purpose  \\\npurpose_category                                                         \nоперации с недвижимостью                   780                   10751   \nпроведение свадьбы                         183                    2313   \nполучение образования                      369                    3988   \nоперации с автомобилем                     400                    4279   \n\n                          result_debt_and_purpose  \npurpose_category                                   \nоперации с недвижимостью                 0.072551  \nпроведение свадьбы                       0.079118  \nполучение образования                    0.092528  \nоперации с автомобилем                   0.093480  ",
      "text/html": "<div>\n<style scoped>\n    .dataframe tbody tr th:only-of-type {\n        vertical-align: middle;\n    }\n\n    .dataframe tbody tr th {\n        vertical-align: top;\n    }\n\n    .dataframe thead th {\n        text-align: right;\n    }\n</style>\n<table border=\"1\" class=\"dataframe\">\n  <thead>\n    <tr style=\"text-align: right;\">\n      <th></th>\n      <th>sum_debt_and_purpose</th>\n      <th>count_debt_and_purpose</th>\n      <th>result_debt_and_purpose</th>\n    </tr>\n    <tr>\n      <th>purpose_category</th>\n      <th></th>\n      <th></th>\n      <th></th>\n    </tr>\n  </thead>\n  <tbody>\n    <tr>\n      <th>операции с недвижимостью</th>\n      <td>780</td>\n      <td>10751</td>\n      <td>0.072551</td>\n    </tr>\n    <tr>\n      <th>проведение свадьбы</th>\n      <td>183</td>\n      <td>2313</td>\n      <td>0.079118</td>\n    </tr>\n    <tr>\n      <th>получение образования</th>\n      <td>369</td>\n      <td>3988</td>\n      <td>0.092528</td>\n    </tr>\n    <tr>\n      <th>операции с автомобилем</th>\n      <td>400</td>\n      <td>4279</td>\n      <td>0.093480</td>\n    </tr>\n  </tbody>\n</table>\n</div>"
     },
     "execution_count": 85,
     "metadata": {},
     "output_type": "execute_result"
    }
   ],
   "source": [
    "debt_and_purpose.sort_values('result_debt_and_purpose', ascending = True) \n",
    "# сортировка в порядке возрастания"
   ]
  },
  {
   "cell_type": "markdown",
   "id": "201144b8",
   "metadata": {
    "deletable": false,
    "id": "b4bb2ce6"
   },
   "source": [
    "**Вывод:**\n",
    "\n",
    "| <br/>purpose\\_category | sum\\_debt\\_and\\_purpose<br/> | count\\_debt\\_and\\_purpose<br/> | result\\_debt\\_and\\_purpose<br/> |\n",
    "| :--- | :--- | :--- | :--- |\n",
    "| операции с недвижимостью | 780 | 10751 | 0.072551 |\n",
    "| проведение свадьбы | 183 | 2313 | 0.079118 |\n",
    "| получение образования | 369 | 3988 | 0.092528 |\n",
    "| операции с автомобилем | 400 | 4279 | 0.093480 |"
   ]
  },
  {
   "cell_type": "markdown",
   "id": "78b9eb86",
   "metadata": {},
   "source": [
    "Присутствует зависимость между целью кредита и возвратом кредита в срок. В целом, люди, которые берут кредиты на более важные и долгосрочные цели, более ответственно относятся к своим обязательствам и имеют более низкий процент просрочек."
   ]
  },
  {
   "cell_type": "markdown",
   "id": "c28f7b7a",
   "metadata": {
    "deletable": false,
    "editable": false,
    "id": "6db5255a"
   },
   "source": [
    "## Итоги исследования"
   ]
  },
  {
   "cell_type": "markdown",
   "id": "ce91a035",
   "metadata": {
    "deletable": false,
    "id": "bad65432"
   },
   "source": [
    "На основании проведенного анализа можно сделать вывод о том, что существует зависимость между вероятностью просрочки кредита и следующими факторами: \n",
    "\n",
    "* Семейное положение - люди, которые не состояли в браке, имеющие 4 детей, находящиеся в гражданском браке, имеют более высокую вероятность просрочки кредита, чем люди, бывшие в браке, имеющие 0-3 детей, находящиеся в официальном браке. \n",
    "* Доход - люди с низким доходом имеют более высокую вероятность просрочки кредита, чем люди с высоким доходом. \n",
    "* Цель кредита - люди, берущие кредит на образование или покупку автомобиля, имеют более высокую вероятность просрочки кредита, чем люди, берущие кредит на недвижимость или создание семьи. \n",
    "\n",
    "Следует отметить, что связь между этими факторами и вероятностью просрочки кредита не является строгой. В каждом конкретном случае необходимо учитывать индивидуальные обстоятельства заёмщика, такие как его образ жизни, финансовые привычки. \n",
    "\n",
    "Важно отметить, что в некоторых случаях вывод о наличии зависимости между фактором и вероятностью просрочки кредита может быть неточным из-за маленького размера выборки по этой категории."
   ]
  }
 ],
 "metadata": {
  "ExecuteTimeLog": [
   {
    "duration": 5,
    "start_time": "2023-11-10T14:46:21.474Z"
   },
   {
    "duration": 8,
    "start_time": "2023-11-10T14:46:39.112Z"
   },
   {
    "duration": 51,
    "start_time": "2023-11-10T14:46:39.815Z"
   },
   {
    "duration": 6,
    "start_time": "2023-11-10T14:46:45.679Z"
   },
   {
    "duration": 6,
    "start_time": "2023-11-10T14:46:47.666Z"
   },
   {
    "duration": 6,
    "start_time": "2023-11-10T14:46:53.491Z"
   },
   {
    "duration": 6,
    "start_time": "2023-11-10T14:46:59.678Z"
   },
   {
    "duration": 743,
    "start_time": "2023-11-10T14:48:35.515Z"
   },
   {
    "duration": 25,
    "start_time": "2023-11-10T14:48:36.260Z"
   },
   {
    "duration": 15,
    "start_time": "2023-11-10T14:48:36.287Z"
   },
   {
    "duration": 37,
    "start_time": "2023-11-10T14:48:36.305Z"
   },
   {
    "duration": 41,
    "start_time": "2023-11-10T14:48:36.344Z"
   },
   {
    "duration": 4,
    "start_time": "2023-11-10T14:48:36.386Z"
   },
   {
    "duration": 16,
    "start_time": "2023-11-10T14:48:36.391Z"
   },
   {
    "duration": 4,
    "start_time": "2023-11-10T14:48:36.409Z"
   },
   {
    "duration": 13,
    "start_time": "2023-11-10T14:48:36.414Z"
   },
   {
    "duration": 6,
    "start_time": "2023-11-10T14:48:36.431Z"
   },
   {
    "duration": 56,
    "start_time": "2023-11-10T14:48:36.439Z"
   },
   {
    "duration": 25,
    "start_time": "2023-11-10T14:48:36.497Z"
   },
   {
    "duration": 9,
    "start_time": "2023-11-10T14:48:36.524Z"
   },
   {
    "duration": 17,
    "start_time": "2023-11-10T14:48:36.535Z"
   },
   {
    "duration": 33,
    "start_time": "2023-11-10T14:48:36.554Z"
   },
   {
    "duration": 22,
    "start_time": "2023-11-10T14:48:36.589Z"
   },
   {
    "duration": 12,
    "start_time": "2023-11-10T14:48:36.615Z"
   },
   {
    "duration": 45,
    "start_time": "2023-11-10T14:48:36.629Z"
   },
   {
    "duration": 13,
    "start_time": "2023-11-10T14:48:36.676Z"
   },
   {
    "duration": 13,
    "start_time": "2023-11-10T14:48:36.691Z"
   },
   {
    "duration": 22,
    "start_time": "2023-11-10T14:48:36.706Z"
   },
   {
    "duration": 3,
    "start_time": "2023-11-10T14:48:36.730Z"
   },
   {
    "duration": 7,
    "start_time": "2023-11-10T14:48:36.735Z"
   },
   {
    "duration": 5,
    "start_time": "2023-11-10T14:48:36.743Z"
   },
   {
    "duration": 40,
    "start_time": "2023-11-10T14:48:36.750Z"
   },
   {
    "duration": 567,
    "start_time": "2023-11-12T12:03:56.693Z"
   },
   {
    "duration": 27,
    "start_time": "2023-11-12T12:03:57.264Z"
   },
   {
    "duration": 16,
    "start_time": "2023-11-12T12:03:57.293Z"
   },
   {
    "duration": 11,
    "start_time": "2023-11-12T12:03:57.312Z"
   },
   {
    "duration": 49,
    "start_time": "2023-11-12T12:03:57.324Z"
   },
   {
    "duration": 3,
    "start_time": "2023-11-12T12:03:57.375Z"
   },
   {
    "duration": 12,
    "start_time": "2023-11-12T12:03:57.380Z"
   },
   {
    "duration": 5,
    "start_time": "2023-11-12T12:03:57.393Z"
   },
   {
    "duration": 11,
    "start_time": "2023-11-12T12:03:57.399Z"
   },
   {
    "duration": 27,
    "start_time": "2023-11-12T12:03:57.413Z"
   },
   {
    "duration": 46,
    "start_time": "2023-11-12T12:03:57.441Z"
   },
   {
    "duration": 10,
    "start_time": "2023-11-12T12:03:57.489Z"
   },
   {
    "duration": 20,
    "start_time": "2023-11-12T12:03:57.501Z"
   },
   {
    "duration": 23,
    "start_time": "2023-11-12T12:03:57.523Z"
   },
   {
    "duration": 27,
    "start_time": "2023-11-12T12:03:57.547Z"
   },
   {
    "duration": 16,
    "start_time": "2023-11-12T12:03:57.575Z"
   },
   {
    "duration": 8,
    "start_time": "2023-11-12T12:03:57.593Z"
   },
   {
    "duration": 45,
    "start_time": "2023-11-12T12:03:57.603Z"
   },
   {
    "duration": 162,
    "start_time": "2023-11-12T12:03:57.650Z"
   },
   {
    "duration": 121,
    "start_time": "2023-11-12T12:03:57.813Z"
   },
   {
    "duration": 16,
    "start_time": "2023-11-12T12:03:57.937Z"
   },
   {
    "duration": 7,
    "start_time": "2023-11-12T12:03:57.955Z"
   },
   {
    "duration": 10,
    "start_time": "2023-11-12T12:03:57.963Z"
   },
   {
    "duration": 9,
    "start_time": "2023-11-12T12:03:57.974Z"
   },
   {
    "duration": 4,
    "start_time": "2023-11-12T12:03:57.985Z"
   },
   {
    "duration": 15,
    "start_time": "2023-11-12T12:03:57.990Z"
   },
   {
    "duration": 38,
    "start_time": "2023-11-12T12:03:58.007Z"
   },
   {
    "duration": 4,
    "start_time": "2023-11-12T12:03:58.050Z"
   },
   {
    "duration": 19,
    "start_time": "2023-11-12T12:03:58.055Z"
   },
   {
    "duration": 10,
    "start_time": "2023-11-12T12:03:58.076Z"
   },
   {
    "duration": 4,
    "start_time": "2023-11-12T12:03:58.088Z"
   },
   {
    "duration": 51,
    "start_time": "2023-11-12T12:03:58.094Z"
   },
   {
    "duration": 14,
    "start_time": "2023-11-12T12:03:58.147Z"
   }
  ],
  "colab": {
   "name": "dpp_template_part2.ipynb",
   "provenance": []
  },
  "kernelspec": {
   "display_name": "Python 3 (ipykernel)",
   "language": "python",
   "name": "python3"
  },
  "language_info": {
   "codemirror_mode": {
    "name": "ipython",
    "version": 3
   },
   "file_extension": ".py",
   "mimetype": "text/x-python",
   "name": "python",
   "nbconvert_exporter": "python",
   "pygments_lexer": "ipython3",
   "version": "3.9.5"
  },
  "toc": {
   "base_numbering": 1,
   "nav_menu": {},
   "number_sections": true,
   "sideBar": true,
   "skip_h1_title": true,
   "title_cell": "Table of Contents",
   "title_sidebar": "Contents",
   "toc_cell": false,
   "toc_position": {},
   "toc_section_display": true,
   "toc_window_display": false
  }
 },
 "nbformat": 4,
 "nbformat_minor": 5
}
