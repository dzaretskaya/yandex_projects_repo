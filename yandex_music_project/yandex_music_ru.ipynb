{
 "cells": [
  {
   "cell_type": "markdown",
   "metadata": {
    "deletable": false,
    "editable": false,
    "id": "E0vqbgi9ay0H"
   },
   "source": [
    "# Яндекс Музыка"
   ]
  },
  {
   "cell_type": "markdown",
   "metadata": {
    "deletable": false,
    "editable": false,
    "id": "VUC88oWjTJw2"
   },
   "source": [
    "В данном проекте выполняется сравнение поведения пользователей Яндекс Музыки в двух городах Москве и Санкт-Петербурге. \n",
    "\n",
    "**Цель исследования** — проверить три гипотезы:\n",
    "1. Активность пользователей зависит от дня недели. Причём в Москве и Петербурге это проявляется по-разному.\n",
    "2. В понедельник утром в Москве преобладают одни жанры, а в Петербурге — другие. Так же и вечером пятницы преобладают разные жанры — в зависимости от города.\n",
    "3. Москва и Петербург предпочитают разные жанры музыки. В Москве чаще слушают поп-музыку, в Петербурге — русский рэп.\n",
    "\n",
    "**Ход исследования**\n",
    "\n",
    "В обзоре данных, перед проверкой гипотез, мы проверим данные на ошибки и оценим их влияние на исследование. Затем, на этапе предобработки мы найдём возможность исправить самые критичные ошибки данных.\n",
    "\n",
    "Таким образом, исследование проходит в три этапа:\n",
    " 1. Обзор данных.\n",
    " 2. Предобработка данных.\n",
    " 3. Проверка гипотез.\n",
    "\n",
    "**Описание колонок:**\n",
    "userID — идентификатор пользователя;\n",
    "Track — название трека;\n",
    "artist — имя исполнителя;\n",
    "genre — название жанра;\n",
    "City — город пользователя;\n",
    "time — время начала прослушивания;\n",
    "Day — день недели."
   ]
  },
  {
   "cell_type": "markdown",
   "metadata": {
    "deletable": false,
    "editable": false,
    "id": "Ml1hmfXC_Zcs"
   },
   "source": [
    "## Обзор данных\n",
    "\n",
    "Составим первое представление о данных Яндекс Музыки."
   ]
  },
  {
   "cell_type": "markdown",
   "metadata": {
    "deletable": false,
    "editable": false,
    "id": "57eAOGIz_Zcs",
    "tags": [
     "start_task"
    ]
   },
   "source": [
    "Импортируем библиотеку — `pandas`:"
   ]
  },
  {
   "cell_type": "code",
   "execution_count": 125,
   "metadata": {
    "deletable": false,
    "id": "AXN7PHPN_Zcs",
    "ExecuteTime": {
     "end_time": "2023-11-24T17:06:23.608022700Z",
     "start_time": "2023-11-24T17:06:23.292380800Z"
    }
   },
   "outputs": [],
   "source": [
    "import pandas as pd # импорт библиотеки pandas"
   ]
  },
  {
   "cell_type": "markdown",
   "metadata": {
    "deletable": false,
    "editable": false,
    "id": "SG23P8tt_Zcs",
    "tags": [
     "start_task"
    ]
   },
   "source": [
    "Прочитаем — `datasets` и сохраним его в переменной — `df`:"
   ]
  },
  {
   "cell_type": "code",
   "execution_count": 126,
   "metadata": {
    "deletable": false,
    "id": "fFVu7vqh_Zct",
    "ExecuteTime": {
     "end_time": "2023-11-24T17:06:23.824149500Z",
     "start_time": "2023-11-24T17:06:23.614271300Z"
    }
   },
   "outputs": [],
   "source": [
    "df = pd.read_csv('yandex_music_dataset.csv') # чтение файла с данными и сохранение в df"
   ]
  },
  {
   "cell_type": "markdown",
   "source": [
    "Выведем на экран первые десять строк таблицы:"
   ],
   "metadata": {
    "deletable": false,
    "editable": false,
    "id": "rDoOMd3uTqnZ",
    "tags": [
     "start_task"
    ]
   }
  },
  {
   "cell_type": "code",
   "execution_count": null,
   "outputs": [],
   "source": [
    "print(df.head(10)) # получение первых 10 строк таблицы df"
   ],
   "metadata": {
    "collapsed": false
   }
  },
  {
   "cell_type": "markdown",
   "source": [
    "| user_id | track | artist           | genre | city | time | day |\n",
    "|---|---|------------------|---|---|---|---|\n",
    "| FFB692EC | Kamigata To Boots | The Mass Missile | rock | Saint-Petersburg | 20:28:33 | Wednesday |\n",
    "| 55204538 | Delayed Because of Accident | Andreas Rönnberg | rock | Moscow | 14:07:09 | Friday |\n",
    "| 20EC38 | Funiculì funiculà | Mario Lanza      | pop | Saint-Petersburg | 20:58:07 | Wednesday |\n",
    "| A3DD03C9 | Dragons in the Sunset | Fire + Ice       | folk | Saint-Petersburg | 08:37:09 | Monday |\n",
    "| E2DC1FAE | Soul People | Space Echo       | dance | Moscow | 08:34:34 | Monday |\n",
    "| 842029A1 | Преданная | IMPERVTOR        | rusrap | Saint-Petersburg | 13:09:41 | Friday |\n",
    "| 4CB90AA5 | True | Roman Messer     | dance            | Moscow | 13:00:07 | Wednesday |\n",
    "| F03E1C1F | Feeling This Way | Polina Griffith  | dance | Moscow | 20:47:49 | Wednesday |\n",
    "| 8FA1D3BE | И вновь продолжается бой | unknown          | ruspop | Moscow | 09:17:40 | Friday |\n",
    "| E772D5C0 | Pessimist | unknown          | dance | Saint-Petersburg | 21:20:49 | Wednesday |\n"
   ],
   "metadata": {
    "collapsed": false
   }
  },
  {
   "cell_type": "markdown",
   "metadata": {
    "deletable": false,
    "editable": false,
    "id": "EO73Kwic_Zct",
    "tags": [
     "start_task"
    ]
   },
   "source": [
    "Получим общую информацию о таблице c помощью метода — `info()`:"
   ]
  },
  {
   "cell_type": "code",
   "execution_count": null,
   "metadata": {
    "deletable": false,
    "id": "DSf2kIb-_Zct"
   },
   "outputs": [],
   "source": [
    "df.info() # получение общей информации о данных в таблице df"
   ]
  },
  {
   "cell_type": "markdown",
   "source": [
    "| | |\n",
    "| --- | --- |\n",
    "| **Column** | **Non-Null Count** | **Dtype** |\n",
    "| --- | --- | --- |\n",
    "| user_id | 61253 | object |\n",
    "| track | 61253 | object |\n",
    "| artist | 61253 | object |\n",
    "| genre | 61253 | object |\n",
    "| city | 61253 | object |\n",
    "| time | 61253 | object |\n",
    "| day | 61253 | object |\n",
    "| --- | --- | --- |\n",
    "| **dtypes:** object(7) | **memory usage:** 3.7+ MB |"
   ],
   "metadata": {
    "collapsed": false
   }
  },
  {
   "cell_type": "markdown",
   "metadata": {
    "deletable": false,
    "editable": false,
    "id": "TaQ2Iwbr_Zct"
   },
   "source": [
    "Итак, в таблице семь столбцов. Тип данных во всех столбцах — `object`.\n",
    "\n",
    "Согласно документации к данным:\n",
    "* `userID` — идентификатор пользователя;\n",
    "* `Track` — название трека;  \n",
    "* `artist` — имя исполнителя;\n",
    "* `genre` — название жанра;\n",
    "* `City` — город пользователя;\n",
    "* `time` — время начала прослушивания;\n",
    "* `Day` — день недели.\n",
    "\n",
    "Количество значений в столбцах различается. Значит, в данных есть пропущенные значения."
   ]
  },
  {
   "cell_type": "markdown",
   "metadata": {
    "deletable": false,
    "editable": false,
    "id": "MCB6-dXG_Zct"
   },
   "source": [
    "**Выводы**\n",
    "\n",
    "В каждой строке таблицы — данные о прослушанном треке. Часть колонок описывает саму композицию: название, исполнителя и жанр. Остальные данные рассказывают о пользователе: из какого он города, когда он слушал музыку.\n",
    "\n",
    "Предварительно можно утверждать, что данных достаточно для проверки гипотез. Но встречаются пропуски в данных, а в названиях колонок — расхождения с легко читаемым стилем.\n",
    "\n",
    "Чтобы двигаться дальше, устраним проблемы в данных."
   ]
  },
  {
   "cell_type": "markdown",
   "metadata": {
    "deletable": false,
    "editable": false,
    "id": "SjYF6Ub9_Zct"
   },
   "source": [
    "## Предобработка данных\n",
    "Исправим стиль в заголовках столбцов, исключим пропуски. Затем проверим данные на дубликаты."
   ]
  },
  {
   "cell_type": "markdown",
   "metadata": {
    "deletable": false,
    "editable": false,
    "id": "dIaKXr29_Zct",
    "tags": [
     "start_task"
    ]
   },
   "source": [
    "### Стиль заголовков\n",
    "\n",
    "Выведем на экран названия столбцов:"
   ]
  },
  {
   "cell_type": "code",
   "execution_count": null,
   "metadata": {
    "deletable": false,
    "id": "oKOTdF_Q_Zct"
   },
   "outputs": [],
   "source": [
    "print(df.columns) # перечень названий столбцов таблицы df"
   ]
  },
  {
   "cell_type": "markdown",
   "source": [
    "Index(['  userID', 'Track', 'artist', 'genre', '  City  ', 'time', 'Day'], dtype='object')"
   ],
   "metadata": {
    "collapsed": false
   }
  },
  {
   "cell_type": "markdown",
   "metadata": {
    "deletable": false,
    "editable": false,
    "id": "zj5534cv_Zct",
    "tags": [
     "start_task"
    ]
   },
   "source": [
    "Приведём названия к легко читаемому стилю:\n",
    "* запишем в «змеином_регистре»;\n",
    "* все символы сделаем строчными;\n",
    "* устраним пробелы.\n",
    "\n",
    "Для этого переименуем колонки так:\n",
    "* `'  userID'` → `'user_id'`;\n",
    "* `'Track'` → `'track'`;\n",
    "* `'  City  '` → `'city'`;\n",
    "* `'Day'` → `'day'`."
   ]
  },
  {
   "cell_type": "code",
   "execution_count": 130,
   "metadata": {
    "deletable": false,
    "id": "ISlFqs5y_Zct",
    "ExecuteTime": {
     "end_time": "2023-11-24T17:06:24.021026500Z",
     "start_time": "2023-11-24T17:06:23.860646Z"
    }
   },
   "outputs": [],
   "source": [
    "df = df.rename(columns={'  userID': 'user_id', 'Track': 'track', '  City  ': 'city', 'Day': 'day'}) \n",
    "# переименование столбцов"
   ]
  },
  {
   "cell_type": "markdown",
   "metadata": {
    "deletable": false,
    "editable": false,
    "id": "1dqbh00J_Zct",
    "tags": [
     "start_task"
    ]
   },
   "source": [
    "Проверим результат. Для этого ещё раз выведем на экран названия столбцов:"
   ]
  },
  {
   "cell_type": "code",
   "execution_count": null,
   "metadata": {
    "deletable": false,
    "id": "d4NOAmTW_Zct"
   },
   "outputs": [],
   "source": [
    "df.columns # проверка результатов - перечень названий столбцов"
   ]
  },
  {
   "cell_type": "markdown",
   "source": [
    "Index(['user_id', 'track', 'artist', 'genre', 'city', 'time', 'day'], dtype='object')"
   ],
   "metadata": {
    "collapsed": false
   }
  },
  {
   "cell_type": "markdown",
   "metadata": {
    "deletable": false,
    "editable": false,
    "id": "5ISfbcfY_Zct",
    "tags": [
     "start_task"
    ]
   },
   "source": [
    "### Пропуски значений\n",
    "\n",
    "Сначала посчитаем, сколько в таблице пропущенных значений. Для этого достаточно двух методов — `pandas`:"
   ]
  },
  {
   "cell_type": "code",
   "execution_count": null,
   "metadata": {
    "deletable": false,
    "id": "RskX29qr_Zct"
   },
   "outputs": [],
   "source": [
    "df.isna().sum() # подсчёт пропусков"
   ]
  },
  {
   "cell_type": "markdown",
   "source": [
    "|  | &lt;unnamed&gt; |\n",
    "| :--- | :--- |\n",
    "| user\\_id | 0 |\n",
    "| track | 1231 |\n",
    "| artist | 7203 |\n",
    "| genre | 1198 |\n",
    "| city | 0 |\n",
    "| time | 0 |\n",
    "| day | 0 |"
   ],
   "metadata": {
    "collapsed": false
   }
  },
  {
   "cell_type": "markdown",
   "metadata": {
    "deletable": false,
    "editable": false,
    "id": "qubhgnlO_Zct"
   },
   "source": [
    "Не все пропущенные значения влияют на исследование. Так, в `track` и `artist` пропуски не важны для нашей работы. Достаточно заменить их явными обозначениями.\n",
    "\n",
    "Но пропуски в `genre` могут помешать сравнить музыкальные вкусы в Москве и Санкт-Петербурге. В другом проекте было бы правильно установить причину пропусков и восстановить данные. Такой возможности нет в данном проекте. Поэтому:\n",
    "* заполним и эти пропуски явными обозначениями;\n",
    "* оценим, насколько они повредят расчётам."
   ]
  },
  {
   "cell_type": "markdown",
   "metadata": {
    "deletable": false,
    "editable": false,
    "id": "fSv2laPA_Zct",
    "tags": [
     "start_task"
    ]
   },
   "source": [
    "Заменим пропущенные значения в столбцах `track`, `artist` и `genre` на строку `'unknown'`. Для этого создадим список `columns_to_replace`, переберём его элементы циклом — `for` и для каждого столбца выполним замену пропущенных значений:"
   ]
  },
  {
   "cell_type": "code",
   "execution_count": 133,
   "metadata": {
    "deletable": false,
    "id": "KplB5qWs_Zct",
    "ExecuteTime": {
     "end_time": "2023-11-24T17:06:24.074258500Z",
     "start_time": "2023-11-24T17:06:23.940069800Z"
    }
   },
   "outputs": [],
   "source": [
    "columns_to_replace = ['track', 'artist', 'genre']\n",
    "for columns in columns_to_replace:\n",
    "    df[columns] = df[columns].fillna('unknown') \n",
    "    # перебор названий столбцов в цикле и замена пропущенных значений на 'unknown'"
   ]
  },
  {
   "cell_type": "markdown",
   "metadata": {
    "deletable": false,
    "editable": false,
    "id": "Ilsm-MZo_Zct",
    "tags": [
     "start_task"
    ]
   },
   "source": [
    "Убедимся, что в таблице не осталось пропусков. Для этого ещё раз посчитаем пропущенные значения."
   ]
  },
  {
   "cell_type": "code",
   "execution_count": null,
   "metadata": {
    "deletable": false,
    "id": "Tq4nYRX4_Zct"
   },
   "outputs": [],
   "source": [
    "df.isna().sum() # подсчёт пропусков"
   ]
  },
  {
   "cell_type": "markdown",
   "source": [
    "|  | &lt;unnamed&gt; |\n",
    "| :--- | :--- |\n",
    "| user\\_id | 0 |\n",
    "| track | 0 |\n",
    "| artist | 0 |\n",
    "| genre | 0 |\n",
    "| city | 0 |\n",
    "| time | 0 |\n",
    "| day | 0 |"
   ],
   "metadata": {
    "collapsed": false
   }
  },
  {
   "cell_type": "markdown",
   "metadata": {
    "deletable": false,
    "editable": false,
    "id": "BWKRtBJ3_Zct",
    "tags": [
     "start_task"
    ]
   },
   "source": [
    "### Дубликаты\n",
    "\n",
    "Посчитаем явные дубликаты в таблице одной командой:"
   ]
  },
  {
   "cell_type": "code",
   "execution_count": null,
   "metadata": {
    "deletable": false,
    "id": "36eES_S0_Zct"
   },
   "outputs": [],
   "source": [
    "df.duplicated().sum() # подсчёт явных дубликатов"
   ]
  },
  {
   "cell_type": "markdown",
   "source": [
    "3826"
   ],
   "metadata": {
    "collapsed": false
   }
  },
  {
   "cell_type": "markdown",
   "metadata": {
    "deletable": false,
    "editable": false,
    "id": "Ot25h6XR_Zct",
    "tags": [
     "start_task"
    ]
   },
   "source": [
    "Вызовем специальный метод — `pandas`, чтобы удалить явные дубликаты:"
   ]
  },
  {
   "cell_type": "code",
   "execution_count": 136,
   "metadata": {
    "deletable": false,
    "id": "exFHq6tt_Zct",
    "ExecuteTime": {
     "end_time": "2023-11-24T17:06:24.218870600Z",
     "start_time": "2023-11-24T17:06:24.060811Z"
    }
   },
   "outputs": [],
   "source": [
    "df = df.drop_duplicates() # удаление явных дубликатов"
   ]
  },
  {
   "cell_type": "markdown",
   "metadata": {
    "deletable": false,
    "editable": false,
    "id": "Im2YwBEG_Zct",
    "tags": [
     "start_task"
    ]
   },
   "source": [
    "Ещё раз посчитаем явные дубликаты в таблице — убедимся, что полностью от них избавились:"
   ]
  },
  {
   "cell_type": "code",
   "execution_count": null,
   "metadata": {
    "deletable": false,
    "id": "-8PuNWQ0_Zct"
   },
   "outputs": [],
   "source": [
    "df.duplicated().sum() # проверка на отсутствие дубликатов"
   ]
  },
  {
   "cell_type": "markdown",
   "source": [
    "0"
   ],
   "metadata": {
    "collapsed": false
   }
  },
  {
   "cell_type": "markdown",
   "metadata": {
    "deletable": false,
    "editable": false,
    "id": "QlFBsxAr_Zct"
   },
   "source": [
    "Теперь избавимся от неявных дубликатов в колонке — `genre`. Например, название одного и того же жанра может быть записано немного по-разному. Такие ошибки тоже повлияют на результат нашего исследования."
   ]
  },
  {
   "cell_type": "markdown",
   "metadata": {
    "deletable": false,
    "editable": false,
    "id": "eSjWwsOh_Zct",
    "tags": [
     "start_task"
    ]
   },
   "source": [
    "Выведем на экран список уникальных названий жанров, отсортированный в алфавитном порядке. Для этого:\n",
    "* извлекаем нужный столбец датафрейма;\n",
    "* применим к нему метод сортировки;\n",
    "* для отсортированного столбца вызовем метод, который вернёт уникальные значения из столбца."
   ]
  },
  {
   "cell_type": "code",
   "execution_count": null,
   "metadata": {
    "deletable": false,
    "id": "JIUcqzZN_Zct"
   },
   "outputs": [],
   "source": [
    "df['genre'].sort_values().unique() # Просмотр уникальных названий жанров"
   ]
  },
  {
   "cell_type": "markdown",
   "metadata": {
    "deletable": false,
    "editable": false,
    "id": "qej-Qmuo_Zct",
    "tags": [
     "start_task"
    ]
   },
   "source": [
    "Просматриваем список и находим неявные дубликаты названия — `hiphop`. Это могут быть названия с ошибками или альтернативные названия того же жанра.\n",
    "\n",
    "Наблюдаем следующие неявные дубликаты:\n",
    "* *hip*;\n",
    "* *hop*;\n",
    "* *hip-hop*.\n",
    "Чтобы очистить от них таблицу, используем метод — `replace()` с двумя аргументами: списком строк-дубликатов (включающий *hip*, *hop* и *hip-hop*) и строкой с правильным значением. Исправим колонку `genre` в таблице `df`: заменим каждое значение из списка дубликатов на верное. Вместо `hip`, `hop` и `hip-hop` в таблице должно быть значение `hiphop`:"
   ]
  },
  {
   "cell_type": "code",
   "execution_count": 139,
   "metadata": {
    "deletable": false,
    "id": "ErNDkmns_Zct",
    "ExecuteTime": {
     "end_time": "2023-11-24T17:06:24.372893900Z",
     "start_time": "2023-11-24T17:06:24.264252700Z"
    }
   },
   "outputs": [],
   "source": [
    "df['genre'] = df['genre'].replace('hip', 'hiphop')\n",
    "df['genre'] = df['genre'].replace('hop', 'hiphop')\n",
    "df['genre'] = df['genre'].replace('hip-hop', 'hiphop') # Устранение неявных дубликатов"
   ]
  },
  {
   "cell_type": "markdown",
   "metadata": {
    "deletable": false,
    "editable": false,
    "id": "zQKF16_RG15m",
    "tags": [
     "start_task"
    ]
   },
   "source": [
    "Проверим, что заменили неправильные названия:\n",
    "\n",
    "*   *hip*;\n",
    "*   *hop*;\n",
    "*   *hip-hop*.\n",
    "\n",
    "Выводим отсортированный список уникальных значений столбца — `genre`:"
   ]
  },
  {
   "cell_type": "code",
   "execution_count": null,
   "metadata": {
    "deletable": false,
    "id": "wvixALnFG15m"
   },
   "outputs": [],
   "source": [
    "df['genre'].sort_values().unique() # Проверка на неявные дубликаты"
   ]
  },
  {
   "cell_type": "markdown",
   "metadata": {
    "deletable": false,
    "editable": false,
    "id": "jz6a9-7HQUDd"
   },
   "source": [
    "**Выводы**\n",
    "\n",
    "Предобработка обнаружила три проблемы в данных:\n",
    "\n",
    "- нарушения в стиле заголовков;\n",
    "- пропущенные значения;\n",
    "- дубликаты — явные и неявные.\n",
    "\n",
    "Мы исправили заголовки, чтобы упростить работу с таблицей. Без дубликатов исследование станет более точным.\n",
    "\n",
    "Пропущенные значения вы заменили на — `'unknown'`. Ещё предстоит увидеть, не повредят ли исследованию пропуски в колонке — `genre`.\n",
    "\n",
    "Теперь переходим к проверке гипотез."
   ]
  },
  {
   "cell_type": "markdown",
   "metadata": {
    "deletable": false,
    "editable": false,
    "id": "WttZHXH0SqKk"
   },
   "source": [
    "## Проверка гипотез"
   ]
  },
  {
   "cell_type": "markdown",
   "metadata": {
    "deletable": false,
    "editable": false,
    "id": "Im936VVi_Zcu"
   },
   "source": [
    "### Сравнение поведения пользователей двух столиц"
   ]
  },
  {
   "cell_type": "markdown",
   "metadata": {
    "deletable": false,
    "editable": false,
    "id": "nwt_MuaL_Zcu"
   },
   "source": [
    "Первая гипотеза утверждает, что пользователи по-разному слушают музыку в Москве и Санкт-Петербурге. Проверяем это предположение по данным о трёх днях недели — понедельнике, среде и пятнице. Для этого:\n",
    "\n",
    "* Разделим пользователей Москвы и Санкт-Петербурга.\n",
    "* Сравним, сколько треков послушала каждая группа пользователей в понедельник, среду и пятницу."
   ]
  },
  {
   "cell_type": "markdown",
   "metadata": {
    "deletable": false,
    "editable": false,
    "id": "8Dw_YMmT_Zcu",
    "tags": [
     "start_task"
    ]
   },
   "source": [
    "Выполняем каждый из расчётов по отдельности.\n",
    "\n",
    "Оцениваем активность пользователей в каждом городе. Группируем данные по городу и считаем прослушивания в каждой группе."
   ]
  },
  {
   "cell_type": "code",
   "execution_count": null,
   "metadata": {
    "deletable": false,
    "id": "0_Qs96oh_Zcu"
   },
   "outputs": [],
   "source": [
    "df.groupby('city')['user_id'].count() # Подсчёт прослушиваний в каждом городе"
   ]
  },
  {
   "cell_type": "markdown",
   "source": [
    "| <br/>city | user\\_id<br/> |\n",
    "| :--- | :--- |\n",
    "| Moscow | 42741 |\n",
    "| Saint-Petersburg | 18512 |\n",
    "\n",
    "В Москве прослушиваний больше, чем в Петербурге. Из этого не следует, что московские пользователи чаще слушают музыку. Просто самих пользователей в Москве больше."
   ],
   "metadata": {
    "collapsed": false
   }
  },
  {
   "cell_type": "markdown",
   "metadata": {
    "deletable": false,
    "editable": false,
    "id": "dzli3w8o_Zcu",
    "tags": [
     "start_task"
    ]
   },
   "source": [
    "Теперь группируем данные по дню недели и считаем прослушивания в понедельник, среду и пятницу. Учтём, что в данных есть информация о прослушиваниях только за эти дни."
   ]
  },
  {
   "cell_type": "code",
   "execution_count": null,
   "metadata": {
    "deletable": false,
    "id": "uZMKjiJz_Zcu"
   },
   "outputs": [],
   "source": [
    "df.groupby('day')['genre'].count() # Подсчёт прослушиваний в каждый из трёх дней"
   ]
  },
  {
   "cell_type": "markdown",
   "source": [
    "| <br/>day | genre<br/> |\n",
    "| :--- | :--- |\n",
    "| Friday | 21840 |\n",
    "| Monday | 21354 |\n",
    "| Wednesday | 18059 |\n",
    "\n",
    "В среднем пользователи из двух городов менее активны по средам. Но картина может измениться, если рассмотреть каждый город в отдельности."
   ],
   "metadata": {
    "collapsed": false
   }
  },
  {
   "cell_type": "markdown",
   "metadata": {
    "deletable": false,
    "editable": false,
    "id": "POzs8bGa_Zcu",
    "tags": [
     "start_task"
    ]
   },
   "source": [
    "Создадим функцию — `number_tracks()`, которая посчитает прослушивания для заданного дня и города. Ей понадобятся два параметра:\n",
    "* день недели;\n",
    "* название города.\n",
    "\n",
    "В функции сохраняем в переменную строки исходной таблицы, у которых значение:\n",
    "  * в колонке `day` равно параметру `day`;\n",
    "  * в колонке `city` равно параметру `city`.\n",
    "\n",
    "Для этого применим последовательную фильтрацию с логической индексацией.\n",
    "\n",
    "Затем посчитаем значения в столбце — `user_id` получившейся таблицы. Результат сохраним в новую переменную. Вернём эту переменную из функции."
   ]
  },
  {
   "cell_type": "code",
   "execution_count": 143,
   "metadata": {
    "deletable": false,
    "id": "Nz3GdQB1_Zcu",
    "ExecuteTime": {
     "end_time": "2023-11-24T17:06:24.518573200Z",
     "start_time": "2023-11-24T17:06:24.392928900Z"
    }
   },
   "outputs": [],
   "source": [
    "def number_tracks(day, city):\n",
    "    track_list = df[df['day'] == day]\n",
    "    track_list =  track_list[ track_list['city'] == city]\n",
    "    track_list_count = track_list['user_id'].count()\n",
    "    return(track_list_count)\n",
    "# Функция для подсчёта прослушиваний для конкретного города и дня.\n",
    "# С помощью последовательной фильтрации с логической индексацией она\n",
    "# сначала получит из исходной таблицы строки с нужным днём,\n",
    "# затем из результата отфильтрует строки с нужным городом,\n",
    "# методом count() посчитает количество значений в колонке user_id.\n",
    "# Это количество функция вернёт в качестве результата."
   ]
  },
  {
   "cell_type": "markdown",
   "metadata": {
    "deletable": false,
    "editable": false,
    "id": "ytf7xFrFJQ2r",
    "tags": [
     "start_task"
    ]
   },
   "source": [
    "Вызовем — `number_tracks()` шесть раз, меняя значение параметров — так, чтобы получить данные для каждого города в каждый из трёх дней."
   ]
  },
  {
   "cell_type": "code",
   "execution_count": null,
   "metadata": {
    "deletable": false,
    "id": "rJcRATNQ_Zcu"
   },
   "outputs": [],
   "source": [
    "number_tracks('Monday', 'Moscow') # количество прослушиваний в Москве по понедельникам"
   ]
  },
  {
   "cell_type": "markdown",
   "source": [
    "15740"
   ],
   "metadata": {
    "collapsed": false
   }
  },
  {
   "cell_type": "code",
   "execution_count": null,
   "metadata": {
    "deletable": false,
    "id": "hq_ncZ5T_Zcu"
   },
   "outputs": [],
   "source": [
    "number_tracks('Monday', 'Saint-Petersburg') # количество прослушиваний в Санкт-Петербурге по понедельникам"
   ]
  },
  {
   "cell_type": "markdown",
   "source": [
    "5614"
   ],
   "metadata": {
    "collapsed": false
   }
  },
  {
   "cell_type": "code",
   "execution_count": null,
   "metadata": {
    "deletable": false,
    "id": "_NTy2VPU_Zcu"
   },
   "outputs": [],
   "source": [
    "number_tracks('Wednesday', 'Moscow') # количество прослушиваний в Москве по средам"
   ]
  },
  {
   "cell_type": "markdown",
   "source": [
    "11056"
   ],
   "metadata": {
    "collapsed": false
   }
  },
  {
   "cell_type": "code",
   "execution_count": null,
   "metadata": {
    "deletable": false,
    "id": "j2y3TAwo_Zcu"
   },
   "outputs": [],
   "source": [
    "number_tracks('Wednesday', 'Saint-Petersburg') # количество прослушиваний в Санкт-Петербурге по средам"
   ]
  },
  {
   "cell_type": "markdown",
   "source": [
    "7003"
   ],
   "metadata": {
    "collapsed": false
   }
  },
  {
   "cell_type": "code",
   "execution_count": null,
   "metadata": {
    "deletable": false,
    "id": "vYDw5u_K_Zcu"
   },
   "outputs": [],
   "source": [
    "number_tracks('Friday', 'Moscow') # количество прослушиваний в Москве по пятницам"
   ]
  },
  {
   "cell_type": "markdown",
   "source": [
    "15945"
   ],
   "metadata": {
    "collapsed": false
   }
  },
  {
   "cell_type": "code",
   "execution_count": null,
   "metadata": {
    "deletable": false,
    "id": "8_yzFtW3_Zcu"
   },
   "outputs": [],
   "source": [
    "number_tracks('Friday', 'Saint-Petersburg') # количество прослушиваний в Санкт-Петербурге по пятницам"
   ]
  },
  {
   "cell_type": "markdown",
   "source": [
    "5895"
   ],
   "metadata": {
    "collapsed": false
   }
  },
  {
   "cell_type": "markdown",
   "metadata": {
    "deletable": false,
    "editable": false,
    "id": "7QXffbO-_Zcu",
    "tags": [
     "start_task"
    ]
   },
   "source": [
    "С помощью конструктора — `pd.DataFrame` создадим таблицу, где\n",
    "* названия колонок — `['city', 'monday', 'wednesday', 'friday']`;\n",
    "* данные — результаты, которые мы получили с помощью `number_tracks`."
   ]
  },
  {
   "cell_type": "code",
   "execution_count": 150,
   "metadata": {
    "deletable": false,
    "id": "APAcLpOr_Zcu",
    "ExecuteTime": {
     "end_time": "2023-11-24T17:06:24.882894500Z",
     "start_time": "2023-11-24T17:06:24.811266700Z"
    }
   },
   "outputs": [],
   "source": [
    "data = [['Moscow', 15740, 11056, 15945],\n",
    "        ['Saint-Petersburg', 5614, 7003, 5895]] \n",
    "columns = ['city', 'monday', 'wednesday', 'friday'] \n",
    "info = pd.DataFrame(data = data, columns = columns) # Таблица с результатами"
   ]
  },
  {
   "cell_type": "markdown",
   "metadata": {
    "deletable": false,
    "editable": false,
    "id": "-EgPIHYu_Zcu"
   },
   "source": [
    "**Выводы**\n",
    "\n",
    "Данные показывают разницу поведения пользователей:\n",
    "\n",
    "- В Москве пик прослушиваний приходится на понедельник и пятницу, а в среду заметен спад.\n",
    "- В Петербурге, наоборот, больше слушают музыку по средам. Активность в понедельник и пятницу здесь почти в равной мере уступает среде.\n",
    "\n",
    "Значит, данные говорят в пользу первой гипотезы."
   ]
  },
  {
   "cell_type": "markdown",
   "metadata": {
    "deletable": false,
    "editable": false,
    "id": "atZAxtq4_Zcu"
   },
   "source": [
    "### Музыка в начале и в конце недели"
   ]
  },
  {
   "cell_type": "markdown",
   "metadata": {
    "deletable": false,
    "editable": false,
    "id": "eXrQqXFH_Zcu"
   },
   "source": [
    "Согласно второй гипотезе, утром в понедельник в Москве преобладают одни жанры, а в Петербурге — другие. Так же и вечером пятницы преобладают разные жанры — в зависимости от города."
   ]
  },
  {
   "cell_type": "markdown",
   "metadata": {
    "deletable": false,
    "editable": false,
    "id": "S8UcW6Hw_Zcu",
    "tags": [
     "start_task"
    ]
   },
   "source": [
    "Сохраним таблицы с данными в две переменные:\n",
    "* по Москве — в `moscow_general`;\n",
    "* по Санкт-Петербургу — в `spb_general`."
   ]
  },
  {
   "cell_type": "code",
   "execution_count": 151,
   "metadata": {
    "deletable": false,
    "id": "qeaFfM_P_Zcu",
    "ExecuteTime": {
     "end_time": "2023-11-24T17:06:24.951723Z",
     "start_time": "2023-11-24T17:06:24.882894500Z"
    }
   },
   "outputs": [],
   "source": [
    "moscow_general = df[df['city'] == 'Moscow'] # получение таблицы moscow_general из тех строк таблицы df,\n",
    "# для которых значение в столбце 'city' равно 'Moscow'"
   ]
  },
  {
   "cell_type": "code",
   "execution_count": 152,
   "metadata": {
    "deletable": false,
    "id": "ORaVRKto_Zcu",
    "ExecuteTime": {
     "end_time": "2023-11-24T17:06:24.952757800Z",
     "start_time": "2023-11-24T17:06:24.914547500Z"
    }
   },
   "outputs": [],
   "source": [
    "spb_general = df[df['city'] == 'Saint-Petersburg'] # получение таблицы spb_general из тех строк таблицы df,\n",
    "# для которых значение в столбце 'city' равно 'Saint-Petersburg'"
   ]
  },
  {
   "cell_type": "markdown",
   "metadata": {
    "deletable": false,
    "id": "MEJV-CX2_Zcu",
    "tags": [
     "start_task"
    ]
   },
   "source": [
    "Создадим функцию `genre_weekday()` с четырьмя параметрами:\n",
    "* таблица (датафрейм) с данными;\n",
    "* день недели;\n",
    "* начальная временная метка в формате 'hh:mm';\n",
    "* последняя временная метка в формате 'hh:mm'.\n",
    "\n",
    "Функция должна вернуть информацию о топ-10 жанров тех треков, которые прослушивали в указанный день, в промежутке между двумя отметками времени."
   ]
  },
  {
   "cell_type": "code",
   "execution_count": 153,
   "metadata": {
    "deletable": false,
    "id": "laJT9BYl_Zcu",
    "ExecuteTime": {
     "end_time": "2023-11-24T17:06:24.988018700Z",
     "start_time": "2023-11-24T17:06:24.947600200Z"
    }
   },
   "outputs": [],
   "source": [
    "def genre_weekday(df, day, time1, time2):\n",
    "    # последовательная фильтрация\n",
    "    # оставляем в genre_df только те строки df, у которых день равен day\n",
    "    genre_df = df[df['day'] == day]\n",
    "    # оставляем в genre_df только те строки genre_df, у которых время меньше time2\n",
    "    genre_df = genre_df[genre_df['time'] < time2]\n",
    "    # оставляем в genre_df только те строки genre_df, у которых время больше time1\n",
    "    genre_df = genre_df[genre_df['time'] > time1]\n",
    "    # сгруппируем отфильтрованный датафрейм по столбцу с названиями жанров, возьмём столбец genre и посчитаем кол-во строк для каждого жанра методом count()\n",
    "    genre_df_grouped = genre_df.groupby('genre')['genre'].count()\n",
    "    # отсортируем результат по убыванию (чтобы в начале Series оказались самые популярные жанры)\n",
    "    genre_df_sorted =  genre_df_grouped.sort_values(ascending=False)\n",
    "    # вернём Series с 10 самыми популярными жанрами в указанный отрезок времени заданного дня\n",
    "    return genre_df_sorted[:10]"
   ]
  },
  {
   "cell_type": "markdown",
   "metadata": {
    "deletable": false,
    "editable": false,
    "id": "la2s2_PF_Zcu",
    "tags": [
     "start_task"
    ]
   },
   "source": [
    "Сравним результаты функции `genre_weekday()` для Москвы и Санкт-Петербурга в понедельник утром (с 7:00 до 11:00) и в пятницу вечером (с 17:00 до 23:00):"
   ]
  },
  {
   "cell_type": "code",
   "execution_count": null,
   "metadata": {
    "deletable": false,
    "id": "yz7itPUQ_Zcu"
   },
   "outputs": [],
   "source": [
    "genre_weekday(moscow_general, 'Monday', '07:00', '11:00') # вызов функции для утра понедельника в Москве (вместо df — таблица moscow_general)"
   ]
  },
  {
   "cell_type": "markdown",
   "source": [
    "| <br/>genre | genre<br/> |\n",
    "| :--- | :--- |\n",
    "| pop | 781 |\n",
    "| dance | 549 |\n",
    "| electronic | 480 |\n",
    "| rock | 474 |\n",
    "| hiphop | 286 |\n",
    "| ruspop | 186 |\n",
    "| world | 181 |\n",
    "| rusrap | 175 |\n",
    "| alternative | 164 |\n",
    "| unknown | 161 |"
   ],
   "metadata": {
    "collapsed": false
   }
  },
  {
   "cell_type": "code",
   "execution_count": null,
   "metadata": {
    "deletable": false,
    "id": "kwUcHPdy_Zcu"
   },
   "outputs": [],
   "source": [
    "genre_weekday(spb_general, 'Monday', '07:00', '11:00') # вызов функции для утра понедельника в Петербурге (вместо df — таблица spb_general)"
   ]
  },
  {
   "cell_type": "markdown",
   "source": [
    "| <br/>genre | genre<br/> |\n",
    "| :--- | :--- |\n",
    "| pop | 218 |\n",
    "| dance | 182 |\n",
    "| rock | 162 |\n",
    "| electronic | 147 |\n",
    "| hiphop | 80 |\n",
    "| ruspop | 64 |\n",
    "| alternative | 58 |\n",
    "| rusrap | 55 |\n",
    "| jazz | 44 |\n",
    "| classical | 40 |"
   ],
   "metadata": {
    "collapsed": false
   }
  },
  {
   "cell_type": "code",
   "execution_count": null,
   "metadata": {
    "deletable": false,
    "id": "EzXVRE1o_Zcu"
   },
   "outputs": [],
   "source": [
    "genre_weekday(moscow_general, 'Friday', '17:00', '23:00') # вызов функции для вечера пятницы в Москве"
   ]
  },
  {
   "cell_type": "markdown",
   "source": [
    "| <br/>genre | genre<br/> |\n",
    "| :--- | :--- |\n",
    "| pop | 713 |\n",
    "| rock | 517 |\n",
    "| dance | 495 |\n",
    "| electronic | 482 |\n",
    "| hiphop | 273 |\n",
    "| world | 208 |\n",
    "| ruspop | 170 |\n",
    "| alternative | 163 |\n",
    "| classical | 163 |\n",
    "| rusrap | 142 |"
   ],
   "metadata": {
    "collapsed": false
   }
  },
  {
   "cell_type": "code",
   "execution_count": null,
   "metadata": {
    "deletable": false,
    "id": "JZaEKu5v_Zcu"
   },
   "outputs": [],
   "source": [
    "genre_weekday(spb_general, 'Friday', '17:00', '23:00') # вызов функции для вечера пятницы в Петербурге"
   ]
  },
  {
   "cell_type": "markdown",
   "source": [
    "| <br/>genre | genre<br/> |\n",
    "| :--- | :--- |\n",
    "| pop | 256 |\n",
    "| electronic | 216 |\n",
    "| rock | 216 |\n",
    "| dance | 210 |\n",
    "| hiphop | 97 |\n",
    "| alternative | 63 |\n",
    "| jazz | 61 |\n",
    "| classical | 60 |\n",
    "| rusrap | 59 |\n",
    "| world | 54 |"
   ],
   "metadata": {
    "collapsed": false
   }
  },
  {
   "cell_type": "markdown",
   "metadata": {
    "deletable": false,
    "editable": false,
    "id": "wrCe4MNX_Zcu"
   },
   "source": [
    "**Выводы**\n",
    "\n",
    "Если сравнить топ-10 жанров в понедельник утром, можно сделать такие выводы:\n",
    "\n",
    "1. В Москве и Петербурге слушают похожую музыку. Единственное различие — в московский рейтинг вошёл жанр “world”, а в петербургский — джаз и классика.\n",
    "\n",
    "2. В Москве пропущенных значений оказалось так много, что значение — `'unknown'` заняло десятое место среди самых популярных жанров. Значит, пропущенные значения занимают существенную долю в данных и угрожают достоверности исследования.\n",
    "\n",
    "Вечер пятницы не меняет эту картину. Некоторые жанры поднимаются немного выше, другие спускаются, но в целом топ-10 остаётся тем же самым.\n",
    "\n",
    "Таким образом, вторая гипотеза подтвердилась лишь частично:\n",
    "* Пользователи слушают похожую музыку в начале недели и в конце.\n",
    "* Разница между Москвой и Петербургом не слишком выражена. В Москве чаще слушают русскую популярную музыку, в Петербурге — джаз.\n",
    "\n",
    "Однако пропуски в данных ставят под сомнение этот результат. В Москве их так много, что рейтинг топ-10 мог бы выглядеть иначе, если бы не утерянные данные о жанрах."
   ]
  },
  {
   "cell_type": "markdown",
   "metadata": {
    "deletable": false,
    "editable": false,
    "id": "JolODAqr_Zcu"
   },
   "source": [
    "### Жанровые предпочтения в Москве и Петербурге\n",
    "\n",
    "Гипотеза: Петербург — столица рэпа, музыку этого жанра там слушают чаще, чем в Москве.  А Москва — город контрастов, в котором, тем не менее, преобладает поп-музыка."
   ]
  },
  {
   "cell_type": "markdown",
   "metadata": {
    "deletable": false,
    "editable": false,
    "id": "DlegSvaT_Zcu",
    "tags": [
     "start_task"
    ]
   },
   "source": [
    "Сгруппируем таблицу — `moscow_general` по жанру и посчитаем прослушивания треков каждого жанра методом — `count()`. Затем отсортируем результат в порядке убывания и сохраним его в таблице — `moscow_genres`."
   ]
  },
  {
   "cell_type": "code",
   "execution_count": 158,
   "metadata": {
    "deletable": false,
    "id": "r19lIPke_Zcu",
    "ExecuteTime": {
     "end_time": "2023-11-24T17:06:25.185684600Z",
     "start_time": "2023-11-24T17:06:25.126568700Z"
    }
   },
   "outputs": [],
   "source": [
    "moscow_genres = moscow_general.groupby('genre')['genre'].count().sort_values(ascending=False) \n",
    "# одной строкой: группировка таблицы moscow_general по столбцу 'genre',\n",
    "# подсчёт числа значений 'genre' в этой группировке методом count(),\n",
    "# сортировка получившегося Series в порядке убывания и сохранение в moscow_genres"
   ]
  },
  {
   "cell_type": "markdown",
   "metadata": {
    "deletable": false,
    "editable": false,
    "id": "6kMuomxTiIr8",
    "tags": [
     "start_task"
    ]
   },
   "source": [
    "Выведем на экран первые десять строк — `moscow_genres`:"
   ]
  },
  {
   "cell_type": "code",
   "execution_count": null,
   "metadata": {
    "deletable": false,
    "id": "WhCSooF8_Zcv"
   },
   "outputs": [],
   "source": [
    "moscow_genres.head(10) # просмотр первых 10 строк moscow_genres"
   ]
  },
  {
   "cell_type": "markdown",
   "source": [
    "| <br/>genre | genre<br/> |\n",
    "| :--- | :--- |\n",
    "| pop | 5892 |\n",
    "| dance | 4435 |\n",
    "| rock | 3965 |\n",
    "| electronic | 3786 |\n",
    "| hiphop | 2096 |\n",
    "| classical | 1616 |\n",
    "| world | 1432 |\n",
    "| alternative | 1379 |\n",
    "| ruspop | 1372 |\n",
    "| rusrap | 1161 |"
   ],
   "metadata": {
    "collapsed": false
   }
  },
  {
   "cell_type": "markdown",
   "metadata": {
    "deletable": false,
    "editable": false,
    "id": "cnPG2vnN_Zcv",
    "tags": [
     "start_task"
    ]
   },
   "source": [
    "Теперь повторим то же и для Петербурга.\n",
    "\n",
    "Сгруппируем таблицу — `spb_general` по жанру. Посчитаем прослушивания треков каждого жанра. Результат отсортируем в порядке убывания и сохраним в таблице `spb_genres`:\n"
   ]
  },
  {
   "cell_type": "code",
   "execution_count": 160,
   "metadata": {
    "deletable": false,
    "id": "gluLIpE7_Zcv",
    "ExecuteTime": {
     "end_time": "2023-11-24T17:06:25.242660600Z",
     "start_time": "2023-11-24T17:06:25.188796200Z"
    }
   },
   "outputs": [],
   "source": [
    "spb_genres = spb_general.groupby('genre')['genre'].count().sort_values(ascending=False) \n",
    "# одной строкой: группировка таблицы spb_general по столбцу 'genre',\n",
    "# подсчёт числа значений 'genre' в этой группировке методом count(),\n",
    "# сортировка получившегося Series в порядке убывания и сохранение в spb_genres"
   ]
  },
  {
   "cell_type": "markdown",
   "metadata": {
    "deletable": false,
    "editable": false,
    "id": "5Doha_ODgyQ8",
    "tags": [
     "start_task"
    ]
   },
   "source": [
    "Выведем на экран первые десять строк — `spb_genres`:"
   ]
  },
  {
   "cell_type": "code",
   "execution_count": null,
   "metadata": {
    "deletable": false,
    "id": "uaGJHjVU_Zcv"
   },
   "outputs": [],
   "source": [
    "spb_genres.head(10) # просмотр первых 10 строк spb_genres"
   ]
  },
  {
   "cell_type": "markdown",
   "source": [
    "| <br/>genre | genre<br/> |\n",
    "| :--- | :--- |\n",
    "| pop | 2431 |\n",
    "| dance | 1932 |\n",
    "| rock | 1879 |\n",
    "| electronic | 1736 |\n",
    "| hiphop | 960 |\n",
    "| alternative | 649 |\n",
    "| classical | 646 |\n",
    "| rusrap | 564 |\n",
    "| ruspop | 538 |\n",
    "| world | 515 |"
   ],
   "metadata": {
    "collapsed": false
   }
  },
  {
   "cell_type": "markdown",
   "metadata": {
    "deletable": false,
    "editable": false,
    "id": "RY51YJYu_Zcv"
   },
   "source": [
    "**Выводы**"
   ]
  },
  {
   "cell_type": "markdown",
   "metadata": {
    "deletable": false,
    "editable": false,
    "id": "nVhnJEm__Zcv"
   },
   "source": [
    "Гипотеза частично подтвердилась:\n",
    "* Поп-музыка — самый популярный жанр в Москве, как и предполагала гипотеза. Более того, в топ-10 жанров встречается близкий жанр — русская популярная музыка.\n",
    "* Вопреки ожиданиям, рэп одинаково популярен в Москве и Петербурге.\n"
   ]
  },
  {
   "cell_type": "markdown",
   "metadata": {
    "deletable": false,
    "editable": false,
    "id": "ykKQ0N65_Zcv"
   },
   "source": [
    "## Итоги исследования"
   ]
  },
  {
   "cell_type": "markdown",
   "metadata": {
    "deletable": false,
    "editable": false,
    "id": "tjUwbHb3_Zcv"
   },
   "source": [
    "Мы проверили три гипотезы и установили:\n",
    "\n",
    "1. День недели по-разному влияет на активность пользователей в Москве и Петербурге.\n",
    "\n",
    "Первая гипотеза полностью подтвердилась.\n",
    "\n",
    "2. Музыкальные предпочтения не сильно меняются в течение недели — будь то Москва или Петербург. Небольшие различия заметны в начале недели, по понедельникам:\n",
    "* в Москве слушают музыку жанра “world”;\n",
    "* в Петербурге — джаз и классику.\n",
    "\n",
    "Таким образом, вторая гипотеза подтвердилась лишь отчасти. Этот результат мог оказаться иным, если бы не пропуски в данных.\n",
    "\n",
    "3. Во вкусах пользователей Москвы и Петербурга больше общего, чем различий. Вопреки ожиданиям, предпочтения жанров в Петербурге напоминают московские.\n",
    "\n",
    "Третья гипотеза не подтвердилась. Если различия в предпочтениях и существуют, на основной массе пользователей они незаметны."
   ]
  }
 ],
 "metadata": {
  "ExecuteTimeLog": [
   {
    "duration": 406,
    "start_time": "2023-10-27T15:15:46.233Z"
   },
   {
    "duration": 128,
    "start_time": "2023-10-27T15:23:19.602Z"
   },
   {
    "duration": 190,
    "start_time": "2023-10-27T15:25:21.739Z"
   },
   {
    "duration": 181,
    "start_time": "2023-10-27T15:25:24.585Z"
   },
   {
    "duration": 31,
    "start_time": "2023-10-27T15:28:12.913Z"
   },
   {
    "duration": 3,
    "start_time": "2023-10-27T15:32:28.623Z"
   },
   {
    "duration": 28,
    "start_time": "2023-10-27T15:34:58.547Z"
   },
   {
    "duration": 30,
    "start_time": "2023-10-27T16:02:17.615Z"
   },
   {
    "duration": 77,
    "start_time": "2023-10-27T16:04:29.782Z"
   },
   {
    "duration": 9,
    "start_time": "2023-10-27T16:05:48.762Z"
   },
   {
    "duration": 3,
    "start_time": "2023-10-27T16:06:17.933Z"
   },
   {
    "duration": 3,
    "start_time": "2023-10-27T16:06:19.869Z"
   },
   {
    "duration": 5,
    "start_time": "2023-10-27T16:08:07.224Z"
   },
   {
    "duration": 3,
    "start_time": "2023-10-27T16:08:15.319Z"
   },
   {
    "duration": 182,
    "start_time": "2023-10-27T16:08:19.076Z"
   },
   {
    "duration": 7,
    "start_time": "2023-10-27T16:08:21.883Z"
   },
   {
    "duration": 2,
    "start_time": "2023-10-27T16:08:27.836Z"
   },
   {
    "duration": 1338,
    "start_time": "2023-10-27T16:08:38.353Z"
   },
   {
    "duration": 36,
    "start_time": "2023-10-27T16:08:50.691Z"
   },
   {
    "duration": 68,
    "start_time": "2023-10-27T16:09:25.818Z"
   },
   {
    "duration": 73,
    "start_time": "2023-10-27T16:09:55.503Z"
   },
   {
    "duration": 72,
    "start_time": "2023-10-27T16:10:21.831Z"
   },
   {
    "duration": 79,
    "start_time": "2023-10-27T16:11:59.935Z"
   },
   {
    "duration": 80,
    "start_time": "2023-10-27T16:16:31.805Z"
   },
   {
    "duration": 74,
    "start_time": "2023-10-27T16:17:25.668Z"
   },
   {
    "duration": 66,
    "start_time": "2023-10-27T16:17:27.669Z"
   },
   {
    "duration": 70,
    "start_time": "2023-10-27T16:18:09.972Z"
   },
   {
    "duration": 63,
    "start_time": "2023-10-27T16:18:12.617Z"
   },
   {
    "duration": 11,
    "start_time": "2023-10-27T16:21:15.127Z"
   },
   {
    "duration": 59,
    "start_time": "2023-10-27T16:21:45.780Z"
   },
   {
    "duration": 67,
    "start_time": "2023-10-27T16:22:12.334Z"
   },
   {
    "duration": 75,
    "start_time": "2023-10-27T16:48:16.328Z"
   },
   {
    "duration": 1322,
    "start_time": "2023-10-27T16:49:09.862Z"
   },
   {
    "duration": 42,
    "start_time": "2023-10-27T16:50:02.846Z"
   },
   {
    "duration": 1308,
    "start_time": "2023-10-27T16:52:47.306Z"
   },
   {
    "duration": 0,
    "start_time": "2023-10-27T16:52:50.325Z"
   },
   {
    "duration": 1276,
    "start_time": "2023-10-27T16:52:51.175Z"
   },
   {
    "duration": 10,
    "start_time": "2023-10-27T16:54:09.674Z"
   },
   {
    "duration": 9,
    "start_time": "2023-10-27T16:54:11.522Z"
   },
   {
    "duration": 97,
    "start_time": "2023-10-27T16:54:47.906Z"
   },
   {
    "duration": 6,
    "start_time": "2023-10-27T16:54:53.601Z"
   },
   {
    "duration": 4,
    "start_time": "2023-10-27T16:55:02.236Z"
   },
   {
    "duration": 3,
    "start_time": "2023-10-27T16:55:30.344Z"
   },
   {
    "duration": 52,
    "start_time": "2023-10-27T16:55:55.945Z"
   },
   {
    "duration": 11,
    "start_time": "2023-10-27T17:00:41.872Z"
   },
   {
    "duration": 9,
    "start_time": "2023-10-27T17:02:00.980Z"
   },
   {
    "duration": 10,
    "start_time": "2023-10-27T17:02:12.669Z"
   },
   {
    "duration": 10,
    "start_time": "2023-10-27T17:02:28.621Z"
   },
   {
    "duration": 12,
    "start_time": "2023-10-27T17:04:02.459Z"
   },
   {
    "duration": 12,
    "start_time": "2023-10-27T17:04:49.397Z"
   },
   {
    "duration": 6,
    "start_time": "2023-10-27T17:07:30.094Z"
   },
   {
    "duration": 4,
    "start_time": "2023-10-27T17:07:35.114Z"
   },
   {
    "duration": 4,
    "start_time": "2023-10-27T18:26:37.852Z"
   },
   {
    "duration": 3,
    "start_time": "2023-10-27T18:27:08.861Z"
   },
   {
    "duration": 12,
    "start_time": "2023-10-27T18:47:03.415Z"
   },
   {
    "duration": 2795,
    "start_time": "2023-10-27T18:55:04.541Z"
   },
   {
    "duration": 0,
    "start_time": "2023-10-27T18:55:07.337Z"
   },
   {
    "duration": 0,
    "start_time": "2023-10-27T18:55:07.338Z"
   },
   {
    "duration": 0,
    "start_time": "2023-10-27T18:55:07.339Z"
   },
   {
    "duration": 0,
    "start_time": "2023-10-27T18:55:07.340Z"
   },
   {
    "duration": 1213,
    "start_time": "2023-10-27T18:55:12.963Z"
   },
   {
    "duration": 1262,
    "start_time": "2023-10-27T18:55:28.323Z"
   },
   {
    "duration": 0,
    "start_time": "2023-10-27T18:55:29.587Z"
   },
   {
    "duration": 1158,
    "start_time": "2023-10-27T18:55:33.458Z"
   },
   {
    "duration": 1448,
    "start_time": "2023-10-27T18:55:34.863Z"
   },
   {
    "duration": 86,
    "start_time": "2023-10-27T18:57:18.618Z"
   },
   {
    "duration": 1433,
    "start_time": "2023-10-27T19:08:35.340Z"
   },
   {
    "duration": 0,
    "start_time": "2023-10-27T19:08:36.774Z"
   },
   {
    "duration": 6,
    "start_time": "2023-10-27T19:15:04.727Z"
   },
   {
    "duration": 11,
    "start_time": "2023-10-27T19:28:15.597Z"
   },
   {
    "duration": 7,
    "start_time": "2023-10-27T19:28:58.948Z"
   },
   {
    "duration": 9,
    "start_time": "2023-10-27T19:32:05.234Z"
   },
   {
    "duration": 7,
    "start_time": "2023-10-27T19:32:19.128Z"
   }
  ],
  "colab": {
   "collapsed_sections": [
    "E0vqbgi9ay0H",
    "VUC88oWjTJw2"
   ],
   "provenance": []
  },
  "kernelspec": {
   "display_name": "Python 3 (ipykernel)",
   "language": "python",
   "name": "python3"
  },
  "language_info": {
   "codemirror_mode": {
    "name": "ipython",
    "version": 3
   },
   "file_extension": ".py",
   "mimetype": "text/x-python",
   "name": "python",
   "nbconvert_exporter": "python",
   "pygments_lexer": "ipython3",
   "version": "3.9.5"
  },
  "toc": {
   "base_numbering": 1,
   "nav_menu": {
    "height": "215px",
    "width": "403px"
   },
   "number_sections": true,
   "sideBar": true,
   "skip_h1_title": true,
   "title_cell": "Table of Contents",
   "title_sidebar": "Contents",
   "toc_cell": false,
   "toc_position": {
    "height": "calc(100% - 180px)",
    "left": "10px",
    "top": "150px",
    "width": "285.825px"
   },
   "toc_section_display": true,
   "toc_window_display": false
  }
 },
 "nbformat": 4,
 "nbformat_minor": 1
}
